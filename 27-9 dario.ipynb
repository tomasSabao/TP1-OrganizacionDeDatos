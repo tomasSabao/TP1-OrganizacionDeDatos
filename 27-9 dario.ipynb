{
 "cells": [
  {
   "cell_type": "markdown",
   "metadata": {},
   "source": [
    "# *Trabajo pŕactico organización de datos*"
   ]
  },
  {
   "cell_type": "markdown",
   "metadata": {},
   "source": [
    "## 1.  Introducción"
   ]
  },
  {
   "cell_type": "markdown",
   "metadata": {},
   "source": [
    "Este trabajo consiste en realizar un análisis profundo sobre un determinado set de datos para de esta manera afianzar los contenídos vistos durante el curso. \n",
    "El trabajo se dividirá en diferentes secciones para facilitar su lectura y mantener un orden a la hora de sacar conclusiones."
   ]
  },
  {
   "cell_type": "markdown",
   "metadata": {},
   "source": [
    "## 2. Importación de librerías"
   ]
  },
  {
   "cell_type": "markdown",
   "metadata": {},
   "source": [
    "En esta sección se importaran las librerías cuyas herramientas utilizaremos en el trancurso de todo el trabajo."
   ]
  },
  {
   "cell_type": "code",
   "execution_count": 1,
   "metadata": {},
   "outputs": [],
   "source": [
    "#importacion general de librerias y de visualizacion (matplotlib y seaborn)\n",
    "import pandas as pd\n",
    "import numpy as np\n",
    "import matplotlib.pyplot as plt\n",
    "import seaborn as sns\n",
    "\n",
    "%matplotlib inline\n",
    "\n",
    "plt.style.use('default') # haciendo los graficos un poco mas bonitos en matplotlib\n",
    "plt.rcParams['figure.figsize'] = (20, 10)\n",
    "\n",
    "sns.set(style=\"whitegrid\") # seteando tipo de grid en seaborn\n",
    "\n",
    "pd.options.display.float_format = '{:20,.2f}'.format # suprimimos la notacion cientifica en los outputs\n",
    "\n",
    "import warnings\n",
    "warnings.filterwarnings('ignore')"
   ]
  },
  {
   "cell_type": "markdown",
   "metadata": {},
   "source": [
    "## 3. Lectura de datos y primeras impresiones"
   ]
  },
  {
   "cell_type": "markdown",
   "metadata": {},
   "source": [
    "### 3.1 Lectura de los datos"
   ]
  },
  {
   "cell_type": "markdown",
   "metadata": {},
   "source": [
    "Se dispone de un archivo csv que nos brinda información sobre propiedades en venta en el país de Mexico. Cada línea del archivo nos da información sobre una de las propiedades. Se realiza la lectura de los datos y se muestra una vista rápida para poder familiarizarnos con la información incluída en el archivo. Se tratará a los datos como un Dataframe."
   ]
  },
  {
   "cell_type": "code",
   "execution_count": 2,
   "metadata": {},
   "outputs": [
    {
     "data": {
      "text/html": [
       "<div>\n",
       "<style scoped>\n",
       "    .dataframe tbody tr th:only-of-type {\n",
       "        vertical-align: middle;\n",
       "    }\n",
       "\n",
       "    .dataframe tbody tr th {\n",
       "        vertical-align: top;\n",
       "    }\n",
       "\n",
       "    .dataframe thead th {\n",
       "        text-align: right;\n",
       "    }\n",
       "</style>\n",
       "<table border=\"1\" class=\"dataframe\">\n",
       "  <thead>\n",
       "    <tr style=\"text-align: right;\">\n",
       "      <th></th>\n",
       "      <th>id</th>\n",
       "      <th>titulo</th>\n",
       "      <th>descripcion</th>\n",
       "      <th>tipodepropiedad</th>\n",
       "      <th>direccion</th>\n",
       "      <th>ciudad</th>\n",
       "      <th>provincia</th>\n",
       "      <th>antiguedad</th>\n",
       "      <th>habitaciones</th>\n",
       "      <th>garages</th>\n",
       "      <th>...</th>\n",
       "      <th>idzona</th>\n",
       "      <th>lat</th>\n",
       "      <th>lng</th>\n",
       "      <th>fecha</th>\n",
       "      <th>gimnasio</th>\n",
       "      <th>usosmultiples</th>\n",
       "      <th>piscina</th>\n",
       "      <th>escuelascercanas</th>\n",
       "      <th>centroscomercialescercanos</th>\n",
       "      <th>precio</th>\n",
       "    </tr>\n",
       "  </thead>\n",
       "  <tbody>\n",
       "    <tr>\n",
       "      <th>0</th>\n",
       "      <td>254099</td>\n",
       "      <td>depto. tipo a-402</td>\n",
       "      <td>depto. interior de 80.15m2, consta de sala com...</td>\n",
       "      <td>Apartamento</td>\n",
       "      <td>Avenida Division del Norte 2005</td>\n",
       "      <td>Benito Juárez</td>\n",
       "      <td>Distrito Federal</td>\n",
       "      <td>nan</td>\n",
       "      <td>2.00</td>\n",
       "      <td>1.00</td>\n",
       "      <td>...</td>\n",
       "      <td>23,533.00</td>\n",
       "      <td>nan</td>\n",
       "      <td>nan</td>\n",
       "      <td>2015-08-23 00:00:00</td>\n",
       "      <td>0.00</td>\n",
       "      <td>0.00</td>\n",
       "      <td>0.00</td>\n",
       "      <td>0.00</td>\n",
       "      <td>0.00</td>\n",
       "      <td>2,273,000.00</td>\n",
       "    </tr>\n",
       "    <tr>\n",
       "      <th>1</th>\n",
       "      <td>53461</td>\n",
       "      <td>condominio horizontal en venta</td>\n",
       "      <td>&lt;p&gt;entre sonora y guerrero, atr&amp;aacute;s del h...</td>\n",
       "      <td>Casa en condominio</td>\n",
       "      <td>AV. MEXICO</td>\n",
       "      <td>La Magdalena Contreras</td>\n",
       "      <td>Distrito Federal</td>\n",
       "      <td>10.00</td>\n",
       "      <td>3.00</td>\n",
       "      <td>2.00</td>\n",
       "      <td>...</td>\n",
       "      <td>24,514.00</td>\n",
       "      <td>19.31</td>\n",
       "      <td>-99.23</td>\n",
       "      <td>2013-06-28 00:00:00</td>\n",
       "      <td>0.00</td>\n",
       "      <td>0.00</td>\n",
       "      <td>0.00</td>\n",
       "      <td>1.00</td>\n",
       "      <td>1.00</td>\n",
       "      <td>3,600,000.00</td>\n",
       "    </tr>\n",
       "    <tr>\n",
       "      <th>2</th>\n",
       "      <td>247984</td>\n",
       "      <td>casa en venta urbi 3 recamaras tonala</td>\n",
       "      <td>descripcion \\nla mejor ubicacion residencial e...</td>\n",
       "      <td>Casa</td>\n",
       "      <td>Urbi Tonala</td>\n",
       "      <td>Tonalá</td>\n",
       "      <td>Jalisco</td>\n",
       "      <td>5.00</td>\n",
       "      <td>3.00</td>\n",
       "      <td>2.00</td>\n",
       "      <td>...</td>\n",
       "      <td>48,551.00</td>\n",
       "      <td>nan</td>\n",
       "      <td>nan</td>\n",
       "      <td>2015-10-17 00:00:00</td>\n",
       "      <td>0.00</td>\n",
       "      <td>0.00</td>\n",
       "      <td>0.00</td>\n",
       "      <td>0.00</td>\n",
       "      <td>0.00</td>\n",
       "      <td>1,200,000.00</td>\n",
       "    </tr>\n",
       "    <tr>\n",
       "      <th>3</th>\n",
       "      <td>209067</td>\n",
       "      <td>casa sola en toluca zinacantepec con credito i...</td>\n",
       "      <td>casa en privada con caseta de vigilancia casas...</td>\n",
       "      <td>Casa</td>\n",
       "      <td>IGNACIO MANUEL ALTAMIRANO 128</td>\n",
       "      <td>Zinacantepec</td>\n",
       "      <td>Edo. de México</td>\n",
       "      <td>1.00</td>\n",
       "      <td>2.00</td>\n",
       "      <td>1.00</td>\n",
       "      <td>...</td>\n",
       "      <td>53,666.00</td>\n",
       "      <td>19.30</td>\n",
       "      <td>-99.69</td>\n",
       "      <td>2012-03-09 00:00:00</td>\n",
       "      <td>0.00</td>\n",
       "      <td>0.00</td>\n",
       "      <td>0.00</td>\n",
       "      <td>1.00</td>\n",
       "      <td>1.00</td>\n",
       "      <td>650,000.00</td>\n",
       "    </tr>\n",
       "    <tr>\n",
       "      <th>4</th>\n",
       "      <td>185997</td>\n",
       "      <td>paseos del sol</td>\n",
       "      <td>bonito departamento en excelentes condiciones ...</td>\n",
       "      <td>Apartamento</td>\n",
       "      <td>PASEOS DEL SOL</td>\n",
       "      <td>Zapopan</td>\n",
       "      <td>Jalisco</td>\n",
       "      <td>10.00</td>\n",
       "      <td>2.00</td>\n",
       "      <td>1.00</td>\n",
       "      <td>...</td>\n",
       "      <td>47,835.00</td>\n",
       "      <td>nan</td>\n",
       "      <td>nan</td>\n",
       "      <td>2016-06-07 00:00:00</td>\n",
       "      <td>0.00</td>\n",
       "      <td>0.00</td>\n",
       "      <td>0.00</td>\n",
       "      <td>0.00</td>\n",
       "      <td>0.00</td>\n",
       "      <td>1,150,000.00</td>\n",
       "    </tr>\n",
       "  </tbody>\n",
       "</table>\n",
       "<p>5 rows × 23 columns</p>\n",
       "</div>"
      ],
      "text/plain": [
       "       id                                             titulo  \\\n",
       "0  254099                                  depto. tipo a-402   \n",
       "1   53461                     condominio horizontal en venta   \n",
       "2  247984              casa en venta urbi 3 recamaras tonala   \n",
       "3  209067  casa sola en toluca zinacantepec con credito i...   \n",
       "4  185997                                     paseos del sol   \n",
       "\n",
       "                                         descripcion     tipodepropiedad  \\\n",
       "0  depto. interior de 80.15m2, consta de sala com...         Apartamento   \n",
       "1  <p>entre sonora y guerrero, atr&aacute;s del h...  Casa en condominio   \n",
       "2  descripcion \\nla mejor ubicacion residencial e...                Casa   \n",
       "3  casa en privada con caseta de vigilancia casas...                Casa   \n",
       "4  bonito departamento en excelentes condiciones ...         Apartamento   \n",
       "\n",
       "                         direccion                  ciudad         provincia  \\\n",
       "0  Avenida Division del Norte 2005           Benito Juárez  Distrito Federal   \n",
       "1                       AV. MEXICO  La Magdalena Contreras  Distrito Federal   \n",
       "2                      Urbi Tonala                  Tonalá           Jalisco   \n",
       "3    IGNACIO MANUEL ALTAMIRANO 128            Zinacantepec    Edo. de México   \n",
       "4                  PASEOS DEL SOL                  Zapopan           Jalisco   \n",
       "\n",
       "            antiguedad         habitaciones              garages  ...  \\\n",
       "0                  nan                 2.00                 1.00  ...   \n",
       "1                10.00                 3.00                 2.00  ...   \n",
       "2                 5.00                 3.00                 2.00  ...   \n",
       "3                 1.00                 2.00                 1.00  ...   \n",
       "4                10.00                 2.00                 1.00  ...   \n",
       "\n",
       "                idzona                  lat                  lng  \\\n",
       "0            23,533.00                  nan                  nan   \n",
       "1            24,514.00                19.31               -99.23   \n",
       "2            48,551.00                  nan                  nan   \n",
       "3            53,666.00                19.30               -99.69   \n",
       "4            47,835.00                  nan                  nan   \n",
       "\n",
       "                 fecha             gimnasio        usosmultiples  \\\n",
       "0  2015-08-23 00:00:00                 0.00                 0.00   \n",
       "1  2013-06-28 00:00:00                 0.00                 0.00   \n",
       "2  2015-10-17 00:00:00                 0.00                 0.00   \n",
       "3  2012-03-09 00:00:00                 0.00                 0.00   \n",
       "4  2016-06-07 00:00:00                 0.00                 0.00   \n",
       "\n",
       "               piscina     escuelascercanas  centroscomercialescercanos  \\\n",
       "0                 0.00                 0.00                        0.00   \n",
       "1                 0.00                 1.00                        1.00   \n",
       "2                 0.00                 0.00                        0.00   \n",
       "3                 0.00                 1.00                        1.00   \n",
       "4                 0.00                 0.00                        0.00   \n",
       "\n",
       "                precio  \n",
       "0         2,273,000.00  \n",
       "1         3,600,000.00  \n",
       "2         1,200,000.00  \n",
       "3           650,000.00  \n",
       "4         1,150,000.00  \n",
       "\n",
       "[5 rows x 23 columns]"
      ]
     },
     "execution_count": 2,
     "metadata": {},
     "output_type": "execute_result"
    }
   ],
   "source": [
    "df = pd.read_csv('train.csv')\n",
    "df.head()"
   ]
  },
  {
   "cell_type": "markdown",
   "metadata": {},
   "source": [
    "### 3.2 Dimensiones del Dataframe"
   ]
  },
  {
   "cell_type": "code",
   "execution_count": 3,
   "metadata": {},
   "outputs": [
    {
     "name": "stdout",
     "output_type": "stream",
     "text": [
      "('Cantidad de filas:', 240000)\n",
      "('Cantidad de columnas:', 23)\n",
      "('Tama\\xc3\\xb1o del Dataframe:', 5520000)\n"
     ]
    }
   ],
   "source": [
    "dimensiones= df.shape\n",
    "print(\"Cantidad de filas:\", dimensiones[0])\n",
    "print(\"Cantidad de columnas:\", dimensiones[1])\n",
    "print(\"Tamaño del Dataframe:\", df.size)"
   ]
  },
  {
   "cell_type": "markdown",
   "metadata": {},
   "source": [
    "### 3.3 Caracterísitcas principales del Dataframe"
   ]
  },
  {
   "cell_type": "markdown",
   "metadata": {},
   "source": [
    "Se incluye una lista de todas las columnas con sus tipos de datos y el número de valores no nulos en cada columna. A su vez conocemos tambien los tipos de datos con los que estaremos trabjando."
   ]
  },
  {
   "cell_type": "code",
   "execution_count": 4,
   "metadata": {},
   "outputs": [
    {
     "name": "stdout",
     "output_type": "stream",
     "text": [
      "<class 'pandas.core.frame.DataFrame'>\n",
      "RangeIndex: 240000 entries, 0 to 239999\n",
      "Data columns (total 23 columns):\n",
      "id                            240000 non-null int64\n",
      "titulo                        234613 non-null object\n",
      "descripcion                   238381 non-null object\n",
      "tipodepropiedad               239954 non-null object\n",
      "direccion                     186928 non-null object\n",
      "ciudad                        239628 non-null object\n",
      "provincia                     239845 non-null object\n",
      "antiguedad                    196445 non-null float64\n",
      "habitaciones                  217529 non-null float64\n",
      "garages                       202235 non-null float64\n",
      "banos                         213779 non-null float64\n",
      "metroscubiertos               222600 non-null float64\n",
      "metrostotales                 188533 non-null float64\n",
      "idzona                        211379 non-null float64\n",
      "lat                           116512 non-null float64\n",
      "lng                           116512 non-null float64\n",
      "fecha                         240000 non-null object\n",
      "gimnasio                      240000 non-null float64\n",
      "usosmultiples                 240000 non-null float64\n",
      "piscina                       240000 non-null float64\n",
      "escuelascercanas              240000 non-null float64\n",
      "centroscomercialescercanos    240000 non-null float64\n",
      "precio                        240000 non-null float64\n",
      "dtypes: float64(15), int64(1), object(7)\n",
      "memory usage: 42.1+ MB\n"
     ]
    }
   ],
   "source": [
    "df.info()"
   ]
  },
  {
   "cell_type": "markdown",
   "metadata": {},
   "source": [
    "## 3.4 Datos faltantes en el Dataframe"
   ]
  },
  {
   "cell_type": "markdown",
   "metadata": {},
   "source": [
    "###  3.4.1 Datos faltantes por columna"
   ]
  },
  {
   "cell_type": "markdown",
   "metadata": {},
   "source": [
    "No todo registro del Dataframe posee información en todos sus campos. Nos interesa saber la cantidad de datos faltantes en cada columna del DataFrame."
   ]
  },
  {
   "cell_type": "code",
   "execution_count": 5,
   "metadata": {},
   "outputs": [
    {
     "data": {
      "text/html": [
       "<div>\n",
       "<style scoped>\n",
       "    .dataframe tbody tr th:only-of-type {\n",
       "        vertical-align: middle;\n",
       "    }\n",
       "\n",
       "    .dataframe tbody tr th {\n",
       "        vertical-align: top;\n",
       "    }\n",
       "\n",
       "    .dataframe thead th {\n",
       "        text-align: right;\n",
       "    }\n",
       "</style>\n",
       "<table border=\"1\" class=\"dataframe\">\n",
       "  <thead>\n",
       "    <tr style=\"text-align: right;\">\n",
       "      <th></th>\n",
       "      <th>totales</th>\n",
       "      <th>no nulos</th>\n",
       "      <th>nulos</th>\n",
       "      <th>porcentaje nulos</th>\n",
       "      <th>¿Contiene nulos?</th>\n",
       "    </tr>\n",
       "  </thead>\n",
       "  <tbody>\n",
       "    <tr>\n",
       "      <th>lat</th>\n",
       "      <td>240000</td>\n",
       "      <td>116512</td>\n",
       "      <td>123488</td>\n",
       "      <td>51</td>\n",
       "      <td>True</td>\n",
       "    </tr>\n",
       "    <tr>\n",
       "      <th>lng</th>\n",
       "      <td>240000</td>\n",
       "      <td>116512</td>\n",
       "      <td>123488</td>\n",
       "      <td>51</td>\n",
       "      <td>True</td>\n",
       "    </tr>\n",
       "    <tr>\n",
       "      <th>direccion</th>\n",
       "      <td>240000</td>\n",
       "      <td>186928</td>\n",
       "      <td>53072</td>\n",
       "      <td>22</td>\n",
       "      <td>True</td>\n",
       "    </tr>\n",
       "    <tr>\n",
       "      <th>metrostotales</th>\n",
       "      <td>240000</td>\n",
       "      <td>188533</td>\n",
       "      <td>51467</td>\n",
       "      <td>21</td>\n",
       "      <td>True</td>\n",
       "    </tr>\n",
       "    <tr>\n",
       "      <th>antiguedad</th>\n",
       "      <td>240000</td>\n",
       "      <td>196445</td>\n",
       "      <td>43555</td>\n",
       "      <td>18</td>\n",
       "      <td>True</td>\n",
       "    </tr>\n",
       "    <tr>\n",
       "      <th>garages</th>\n",
       "      <td>240000</td>\n",
       "      <td>202235</td>\n",
       "      <td>37765</td>\n",
       "      <td>15</td>\n",
       "      <td>True</td>\n",
       "    </tr>\n",
       "    <tr>\n",
       "      <th>idzona</th>\n",
       "      <td>240000</td>\n",
       "      <td>211379</td>\n",
       "      <td>28621</td>\n",
       "      <td>11</td>\n",
       "      <td>True</td>\n",
       "    </tr>\n",
       "    <tr>\n",
       "      <th>banos</th>\n",
       "      <td>240000</td>\n",
       "      <td>213779</td>\n",
       "      <td>26221</td>\n",
       "      <td>10</td>\n",
       "      <td>True</td>\n",
       "    </tr>\n",
       "    <tr>\n",
       "      <th>habitaciones</th>\n",
       "      <td>240000</td>\n",
       "      <td>217529</td>\n",
       "      <td>22471</td>\n",
       "      <td>9</td>\n",
       "      <td>True</td>\n",
       "    </tr>\n",
       "    <tr>\n",
       "      <th>metroscubiertos</th>\n",
       "      <td>240000</td>\n",
       "      <td>222600</td>\n",
       "      <td>17400</td>\n",
       "      <td>7</td>\n",
       "      <td>True</td>\n",
       "    </tr>\n",
       "    <tr>\n",
       "      <th>titulo</th>\n",
       "      <td>240000</td>\n",
       "      <td>234613</td>\n",
       "      <td>5387</td>\n",
       "      <td>2</td>\n",
       "      <td>True</td>\n",
       "    </tr>\n",
       "    <tr>\n",
       "      <th>tipodepropiedad</th>\n",
       "      <td>240000</td>\n",
       "      <td>239954</td>\n",
       "      <td>46</td>\n",
       "      <td>0</td>\n",
       "      <td>True</td>\n",
       "    </tr>\n",
       "    <tr>\n",
       "      <th>provincia</th>\n",
       "      <td>240000</td>\n",
       "      <td>239845</td>\n",
       "      <td>155</td>\n",
       "      <td>0</td>\n",
       "      <td>True</td>\n",
       "    </tr>\n",
       "    <tr>\n",
       "      <th>precio</th>\n",
       "      <td>240000</td>\n",
       "      <td>240000</td>\n",
       "      <td>0</td>\n",
       "      <td>0</td>\n",
       "      <td>False</td>\n",
       "    </tr>\n",
       "    <tr>\n",
       "      <th>piscina</th>\n",
       "      <td>240000</td>\n",
       "      <td>240000</td>\n",
       "      <td>0</td>\n",
       "      <td>0</td>\n",
       "      <td>False</td>\n",
       "    </tr>\n",
       "    <tr>\n",
       "      <th>id</th>\n",
       "      <td>240000</td>\n",
       "      <td>240000</td>\n",
       "      <td>0</td>\n",
       "      <td>0</td>\n",
       "      <td>False</td>\n",
       "    </tr>\n",
       "    <tr>\n",
       "      <th>gimnasio</th>\n",
       "      <td>240000</td>\n",
       "      <td>240000</td>\n",
       "      <td>0</td>\n",
       "      <td>0</td>\n",
       "      <td>False</td>\n",
       "    </tr>\n",
       "    <tr>\n",
       "      <th>fecha</th>\n",
       "      <td>240000</td>\n",
       "      <td>240000</td>\n",
       "      <td>0</td>\n",
       "      <td>0</td>\n",
       "      <td>False</td>\n",
       "    </tr>\n",
       "    <tr>\n",
       "      <th>escuelascercanas</th>\n",
       "      <td>240000</td>\n",
       "      <td>240000</td>\n",
       "      <td>0</td>\n",
       "      <td>0</td>\n",
       "      <td>False</td>\n",
       "    </tr>\n",
       "    <tr>\n",
       "      <th>descripcion</th>\n",
       "      <td>240000</td>\n",
       "      <td>238381</td>\n",
       "      <td>1619</td>\n",
       "      <td>0</td>\n",
       "      <td>True</td>\n",
       "    </tr>\n",
       "  </tbody>\n",
       "</table>\n",
       "</div>"
      ],
      "text/plain": [
       "                 totales no nulos   nulos porcentaje nulos ¿Contiene nulos?\n",
       "lat               240000   116512  123488               51             True\n",
       "lng               240000   116512  123488               51             True\n",
       "direccion         240000   186928   53072               22             True\n",
       "metrostotales     240000   188533   51467               21             True\n",
       "antiguedad        240000   196445   43555               18             True\n",
       "garages           240000   202235   37765               15             True\n",
       "idzona            240000   211379   28621               11             True\n",
       "banos             240000   213779   26221               10             True\n",
       "habitaciones      240000   217529   22471                9             True\n",
       "metroscubiertos   240000   222600   17400                7             True\n",
       "titulo            240000   234613    5387                2             True\n",
       "tipodepropiedad   240000   239954      46                0             True\n",
       "provincia         240000   239845     155                0             True\n",
       "precio            240000   240000       0                0            False\n",
       "piscina           240000   240000       0                0            False\n",
       "id                240000   240000       0                0            False\n",
       "gimnasio          240000   240000       0                0            False\n",
       "fecha             240000   240000       0                0            False\n",
       "escuelascercanas  240000   240000       0                0            False\n",
       "descripcion       240000   238381    1619                0             True"
      ]
     },
     "execution_count": 5,
     "metadata": {},
     "output_type": "execute_result"
    }
   ],
   "source": [
    "# Análisis de datos\n",
    "columnas = df.columns\n",
    "aux = df.count()\n",
    "cant_filas = df.shape[0]\n",
    "resultados = {}\n",
    "for columna in columnas:\n",
    "    cant_nulos = cant_filas-aux[columna]\n",
    "    resultados[columna]=[cant_filas,aux[columna],cant_nulos,(cant_nulos*100)/cant_filas, cant_filas>aux[columna]]\n",
    "df_resultados = pd.DataFrame(resultados).transpose()\n",
    "df_resultados.columns=['totales','no nulos','nulos','porcentaje nulos', '¿Contiene nulos?']\n",
    "df_resultados.sort_values('porcentaje nulos',ascending=False,inplace=True)\n",
    "df_resultados.head(20)"
   ]
  },
  {
   "cell_type": "code",
   "execution_count": 6,
   "metadata": {},
   "outputs": [
    {
     "data": {
      "image/png": "[encoded data removed]",
      "text/plain": [
       "<Figure size 864x576 with 1 Axes>"
      ]
     },
     "metadata": {
      "needs_background": "light"
     },
     "output_type": "display_data"
    }
   ],
   "source": [
    "# Gráfico\n",
    "colores=[]\n",
    "for indice,fila in df_resultados.iterrows():\n",
    "    if fila[\"porcentaje nulos\"]>30:\n",
    "        colores.append(\"red\")\n",
    "    if fila[\"porcentaje nulos\"]<30 and fila[\"porcentaje nulos\"]>20:\n",
    "         colores.append(\"orange\")\n",
    "    if fila[\"porcentaje nulos\"]<20 and fila[\"porcentaje nulos\"]>10:\n",
    "        colores.append(\"yellow\")\n",
    "    if fila[\"porcentaje nulos\"]<10:\n",
    "        colores.append(\"green\")\n",
    "grafico = df_resultados[\"porcentaje nulos\"].plot(kind=\"bar\",color=colores,  figsize=(12,8))"
   ]
  },
  {
   "cell_type": "markdown",
   "metadata": {},
   "source": [
    "### 3.4.2 Cantidad total de datos faltantes\n"
   ]
  },
  {
   "cell_type": "code",
   "execution_count": 7,
   "metadata": {},
   "outputs": [
    {
     "name": "stdout",
     "output_type": "stream",
     "text": [
      "Cantidad de datos en el DataFrame: 5520000\n",
      "Cantidad de Nans en el DataFrame: 535127\n"
     ]
    }
   ],
   "source": [
    "#Cálculos\n",
    "cant_total=df.size\n",
    "cant_nulos=df_resultados['nulos'].sum()\n",
    "cant_nonulos=cant_total-cant_nulos\n",
    "print(\"Cantidad de datos en el DataFrame: \" + str(cant_total))\n",
    "print(\"Cantidad de Nans en el DataFrame: \" + str(cant_nulos))"
   ]
  },
  {
   "cell_type": "code",
   "execution_count": 8,
   "metadata": {},
   "outputs": [
    {
     "data": {
      "image/png": "[encoded data removed]",
      "text/plain": [
       "<Figure size 432x288 with 1 Axes>"
      ]
     },
     "metadata": {},
     "output_type": "display_data"
    }
   ],
   "source": [
    "#Gráfico\n",
    "grafico= plt.pie([cant_nulos, cant_nonulos],labels=['Nulos','No nulos'],colors=['red','springgreen'],autopct='%1.1f%%', shadow=False,pctdistance=0.6,radius=1, labeldistance=1.1)\n",
    "plt.title(\"Cantidad de datos disponibles\")\n",
    "plt.show(grafico)"
   ]
  },
  {
   "cell_type": "markdown",
   "metadata": {},
   "source": [
    "# 4. Análisis de Datos"
   ]
  },
  {
   "cell_type": "markdown",
   "metadata": {},
   "source": [
    "En las secciones anteriores se realizó la carga de los datos y se obtuvo información general del Dataframe de manera tal de familiarizarnos con la información con la que se estará trabajando durante el trabajo práctico. A partir de ahora se comenzará con el análisis de dichos datos donde iremos explorando el DataFrame para obtener resultados que nos permitan sacar conclusiones sobre la venta de propiedades en México."
   ]
  },
  {
   "cell_type": "markdown",
   "metadata": {},
   "source": [
    "## 4.1 Cantidad de propiedades:"
   ]
  },
  {
   "cell_type": "markdown",
   "metadata": {},
   "source": [
    "Es interesante conocer la cantidad de propiedades de la que disponemos. Como cada fila del Dataframe se corresponde con una propiedad, la cantidad de propiedades se corresponde con la cantidad de filas del dataframe:"
   ]
  },
  {
   "cell_type": "code",
   "execution_count": 9,
   "metadata": {},
   "outputs": [
    {
     "name": "stdout",
     "output_type": "stream",
     "text": [
      "('Cantidad de propiedades:', 240000)\n"
     ]
    }
   ],
   "source": [
    "print(\"Cantidad de propiedades:\", dimensiones[0])"
   ]
  },
  {
   "cell_type": "markdown",
   "metadata": {},
   "source": [
    "## 4.2 Tipo de propiedades:"
   ]
  },
  {
   "cell_type": "markdown",
   "metadata": {},
   "source": [
    "Las propiedades en venta pueden ser de diferentes tipos. A continuación se muestran cuales son los tipo de propiedadas con los que estaremos trabajando como tambien la cantidad de propiedades en venta de cada uno de ellos."
   ]
  },
  {
   "cell_type": "code",
   "execution_count": 10,
   "metadata": {},
   "outputs": [
    {
     "data": {
      "text/html": [
       "<div>\n",
       "<style scoped>\n",
       "    .dataframe tbody tr th:only-of-type {\n",
       "        vertical-align: middle;\n",
       "    }\n",
       "\n",
       "    .dataframe tbody tr th {\n",
       "        vertical-align: top;\n",
       "    }\n",
       "\n",
       "    .dataframe thead th {\n",
       "        text-align: right;\n",
       "    }\n",
       "</style>\n",
       "<table border=\"1\" class=\"dataframe\">\n",
       "  <thead>\n",
       "    <tr style=\"text-align: right;\">\n",
       "      <th></th>\n",
       "      <th>cantidad</th>\n",
       "      <th>pocentaje</th>\n",
       "    </tr>\n",
       "  </thead>\n",
       "  <tbody>\n",
       "    <tr>\n",
       "      <th>Casa</th>\n",
       "      <td>141717</td>\n",
       "      <td>59.06</td>\n",
       "    </tr>\n",
       "    <tr>\n",
       "      <th>Apartamento</th>\n",
       "      <td>57341</td>\n",
       "      <td>23.90</td>\n",
       "    </tr>\n",
       "    <tr>\n",
       "      <th>Casa en condominio</th>\n",
       "      <td>19297</td>\n",
       "      <td>8.04</td>\n",
       "    </tr>\n",
       "    <tr>\n",
       "      <th>Terreno</th>\n",
       "      <td>9945</td>\n",
       "      <td>4.14</td>\n",
       "    </tr>\n",
       "    <tr>\n",
       "      <th>Local Comercial</th>\n",
       "      <td>3055</td>\n",
       "      <td>1.27</td>\n",
       "    </tr>\n",
       "    <tr>\n",
       "      <th>Oficina comercial</th>\n",
       "      <td>1741</td>\n",
       "      <td>0.73</td>\n",
       "    </tr>\n",
       "    <tr>\n",
       "      <th>Bodega comercial</th>\n",
       "      <td>1406</td>\n",
       "      <td>0.59</td>\n",
       "    </tr>\n",
       "    <tr>\n",
       "      <th>Edificio</th>\n",
       "      <td>1396</td>\n",
       "      <td>0.58</td>\n",
       "    </tr>\n",
       "    <tr>\n",
       "      <th>Terreno comercial</th>\n",
       "      <td>1326</td>\n",
       "      <td>0.55</td>\n",
       "    </tr>\n",
       "    <tr>\n",
       "      <th>Casa uso de suelo</th>\n",
       "      <td>708</td>\n",
       "      <td>0.30</td>\n",
       "    </tr>\n",
       "    <tr>\n",
       "      <th>Quinta Vacacional</th>\n",
       "      <td>395</td>\n",
       "      <td>0.16</td>\n",
       "    </tr>\n",
       "    <tr>\n",
       "      <th>Duplex</th>\n",
       "      <td>343</td>\n",
       "      <td>0.14</td>\n",
       "    </tr>\n",
       "    <tr>\n",
       "      <th>Villa</th>\n",
       "      <td>340</td>\n",
       "      <td>0.14</td>\n",
       "    </tr>\n",
       "    <tr>\n",
       "      <th>Inmuebles productivos urbanos</th>\n",
       "      <td>200</td>\n",
       "      <td>0.08</td>\n",
       "    </tr>\n",
       "    <tr>\n",
       "      <th>Rancho</th>\n",
       "      <td>170</td>\n",
       "      <td>0.07</td>\n",
       "    </tr>\n",
       "    <tr>\n",
       "      <th>Local en centro comercial</th>\n",
       "      <td>165</td>\n",
       "      <td>0.07</td>\n",
       "    </tr>\n",
       "    <tr>\n",
       "      <th>Departamento Compartido</th>\n",
       "      <td>141</td>\n",
       "      <td>0.06</td>\n",
       "    </tr>\n",
       "    <tr>\n",
       "      <th>Otros</th>\n",
       "      <td>134</td>\n",
       "      <td>0.06</td>\n",
       "    </tr>\n",
       "    <tr>\n",
       "      <th>Nave industrial</th>\n",
       "      <td>76</td>\n",
       "      <td>0.03</td>\n",
       "    </tr>\n",
       "    <tr>\n",
       "      <th>Terreno industrial</th>\n",
       "      <td>31</td>\n",
       "      <td>0.01</td>\n",
       "    </tr>\n",
       "    <tr>\n",
       "      <th>Huerta</th>\n",
       "      <td>20</td>\n",
       "      <td>0.01</td>\n",
       "    </tr>\n",
       "    <tr>\n",
       "      <th>Lote</th>\n",
       "      <td>5</td>\n",
       "      <td>0.00</td>\n",
       "    </tr>\n",
       "    <tr>\n",
       "      <th>Garage</th>\n",
       "      <td>1</td>\n",
       "      <td>0.00</td>\n",
       "    </tr>\n",
       "    <tr>\n",
       "      <th>Hospedaje</th>\n",
       "      <td>1</td>\n",
       "      <td>0.00</td>\n",
       "    </tr>\n",
       "  </tbody>\n",
       "</table>\n",
       "</div>"
      ],
      "text/plain": [
       "                               cantidad            pocentaje\n",
       "Casa                             141717                59.06\n",
       "Apartamento                       57341                23.90\n",
       "Casa en condominio                19297                 8.04\n",
       "Terreno                            9945                 4.14\n",
       "Local Comercial                    3055                 1.27\n",
       "Oficina comercial                  1741                 0.73\n",
       "Bodega comercial                   1406                 0.59\n",
       "Edificio                           1396                 0.58\n",
       "Terreno comercial                  1326                 0.55\n",
       "Casa uso de suelo                   708                 0.30\n",
       "Quinta Vacacional                   395                 0.16\n",
       "Duplex                              343                 0.14\n",
       "Villa                               340                 0.14\n",
       "Inmuebles productivos urbanos       200                 0.08\n",
       "Rancho                              170                 0.07\n",
       "Local en centro comercial           165                 0.07\n",
       "Departamento Compartido             141                 0.06\n",
       "Otros                               134                 0.06\n",
       "Nave industrial                      76                 0.03\n",
       "Terreno industrial                   31                 0.01\n",
       "Huerta                               20                 0.01\n",
       "Lote                                  5                 0.00\n",
       "Garage                                1                 0.00\n",
       "Hospedaje                             1                 0.00"
      ]
     },
     "execution_count": 10,
     "metadata": {},
     "output_type": "execute_result"
    }
   ],
   "source": [
    "cantidad_por_tipo = pd.DataFrame(df['tipodepropiedad'].value_counts())\n",
    "cantidad_por_tipo.columns=['cantidad']\n",
    "total = cantidad_por_tipo[\"cantidad\"].sum()\n",
    "cantidad_por_tipo[\"pocentaje\"] = (cantidad_por_tipo[\"cantidad\"]*100)/total\n",
    "cantidad_por_tipo"
   ]
  },
  {
   "cell_type": "markdown",
   "metadata": {},
   "source": [
    "## 4.3 Ubicación de las propiedades"
   ]
  },
  {
   "cell_type": "markdown",
   "metadata": {},
   "source": [
    "### 4.3.1 Cantidad de propiedades por provincia"
   ]
  },
  {
   "cell_type": "markdown",
   "metadata": {},
   "source": [
    "Vimos que el set de datos se corresponde a propiedades en venta distribuídas en el país de México. Este país divide en provincias. Veamos cuantas propiedades hay por cada provincia:"
   ]
  },
  {
   "cell_type": "code",
   "execution_count": 11,
   "metadata": {},
   "outputs": [
    {
     "data": {
      "text/html": [
       "<div>\n",
       "<style scoped>\n",
       "    .dataframe tbody tr th:only-of-type {\n",
       "        vertical-align: middle;\n",
       "    }\n",
       "\n",
       "    .dataframe tbody tr th {\n",
       "        vertical-align: top;\n",
       "    }\n",
       "\n",
       "    .dataframe thead th {\n",
       "        text-align: right;\n",
       "    }\n",
       "</style>\n",
       "<table border=\"1\" class=\"dataframe\">\n",
       "  <thead>\n",
       "    <tr style=\"text-align: right;\">\n",
       "      <th></th>\n",
       "      <th>provincia</th>\n",
       "    </tr>\n",
       "  </thead>\n",
       "  <tbody>\n",
       "    <tr>\n",
       "      <th>Distrito Federal</th>\n",
       "      <td>58790</td>\n",
       "    </tr>\n",
       "    <tr>\n",
       "      <th>Edo. de México</th>\n",
       "      <td>41607</td>\n",
       "    </tr>\n",
       "    <tr>\n",
       "      <th>Jalisco</th>\n",
       "      <td>21238</td>\n",
       "    </tr>\n",
       "    <tr>\n",
       "      <th>Querétaro</th>\n",
       "      <td>16988</td>\n",
       "    </tr>\n",
       "    <tr>\n",
       "      <th>Nuevo León</th>\n",
       "      <td>15324</td>\n",
       "    </tr>\n",
       "    <tr>\n",
       "      <th>Puebla</th>\n",
       "      <td>10421</td>\n",
       "    </tr>\n",
       "    <tr>\n",
       "      <th>San luis Potosí</th>\n",
       "      <td>8447</td>\n",
       "    </tr>\n",
       "    <tr>\n",
       "      <th>Yucatán</th>\n",
       "      <td>7928</td>\n",
       "    </tr>\n",
       "    <tr>\n",
       "      <th>Morelos</th>\n",
       "      <td>7337</td>\n",
       "    </tr>\n",
       "    <tr>\n",
       "      <th>Veracruz</th>\n",
       "      <td>5762</td>\n",
       "    </tr>\n",
       "    <tr>\n",
       "      <th>Quintana Roo</th>\n",
       "      <td>4756</td>\n",
       "    </tr>\n",
       "    <tr>\n",
       "      <th>Chihuahua</th>\n",
       "      <td>4590</td>\n",
       "    </tr>\n",
       "    <tr>\n",
       "      <th>Coahuila</th>\n",
       "      <td>3695</td>\n",
       "    </tr>\n",
       "    <tr>\n",
       "      <th>Baja California Norte</th>\n",
       "      <td>3220</td>\n",
       "    </tr>\n",
       "    <tr>\n",
       "      <th>Sonora</th>\n",
       "      <td>2988</td>\n",
       "    </tr>\n",
       "    <tr>\n",
       "      <th>Guanajuato</th>\n",
       "      <td>2860</td>\n",
       "    </tr>\n",
       "    <tr>\n",
       "      <th>Guerrero</th>\n",
       "      <td>2678</td>\n",
       "    </tr>\n",
       "    <tr>\n",
       "      <th>Hidalgo</th>\n",
       "      <td>2521</td>\n",
       "    </tr>\n",
       "    <tr>\n",
       "      <th>Michoacán</th>\n",
       "      <td>2471</td>\n",
       "    </tr>\n",
       "    <tr>\n",
       "      <th>Tamaulipas</th>\n",
       "      <td>2303</td>\n",
       "    </tr>\n",
       "    <tr>\n",
       "      <th>Durango</th>\n",
       "      <td>2275</td>\n",
       "    </tr>\n",
       "    <tr>\n",
       "      <th>Sinaloa</th>\n",
       "      <td>1806</td>\n",
       "    </tr>\n",
       "    <tr>\n",
       "      <th>Aguascalientes</th>\n",
       "      <td>1753</td>\n",
       "    </tr>\n",
       "    <tr>\n",
       "      <th>Baja California Sur</th>\n",
       "      <td>1700</td>\n",
       "    </tr>\n",
       "    <tr>\n",
       "      <th>Nayarit</th>\n",
       "      <td>1352</td>\n",
       "    </tr>\n",
       "    <tr>\n",
       "      <th>Chiapas</th>\n",
       "      <td>1126</td>\n",
       "    </tr>\n",
       "    <tr>\n",
       "      <th>Colima</th>\n",
       "      <td>1008</td>\n",
       "    </tr>\n",
       "    <tr>\n",
       "      <th>Tabasco</th>\n",
       "      <td>994</td>\n",
       "    </tr>\n",
       "    <tr>\n",
       "      <th>Tlaxcala</th>\n",
       "      <td>839</td>\n",
       "    </tr>\n",
       "    <tr>\n",
       "      <th>Oaxaca</th>\n",
       "      <td>711</td>\n",
       "    </tr>\n",
       "    <tr>\n",
       "      <th>Campeche</th>\n",
       "      <td>263</td>\n",
       "    </tr>\n",
       "    <tr>\n",
       "      <th>Zacatecas</th>\n",
       "      <td>94</td>\n",
       "    </tr>\n",
       "  </tbody>\n",
       "</table>\n",
       "</div>"
      ],
      "text/plain": [
       "                       provincia\n",
       "Distrito Federal           58790\n",
       "Edo. de México             41607\n",
       "Jalisco                    21238\n",
       "Querétaro                  16988\n",
       "Nuevo León                 15324\n",
       "Puebla                     10421\n",
       "San luis Potosí             8447\n",
       "Yucatán                     7928\n",
       "Morelos                     7337\n",
       "Veracruz                    5762\n",
       "Quintana Roo                4756\n",
       "Chihuahua                   4590\n",
       "Coahuila                    3695\n",
       "Baja California Norte       3220\n",
       "Sonora                      2988\n",
       "Guanajuato                  2860\n",
       "Guerrero                    2678\n",
       "Hidalgo                     2521\n",
       "Michoacán                   2471\n",
       "Tamaulipas                  2303\n",
       "Durango                     2275\n",
       "Sinaloa                     1806\n",
       "Aguascalientes              1753\n",
       "Baja California Sur         1700\n",
       "Nayarit                     1352\n",
       "Chiapas                     1126\n",
       "Colima                      1008\n",
       "Tabasco                      994\n",
       "Tlaxcala                     839\n",
       "Oaxaca                       711\n",
       "Campeche                     263\n",
       "Zacatecas                     94"
      ]
     },
     "execution_count": 11,
     "metadata": {},
     "output_type": "execute_result"
    }
   ],
   "source": [
    "pd.DataFrame(df.provincia.value_counts())"
   ]
  },
  {
   "cell_type": "code",
   "execution_count": 12,
   "metadata": {},
   "outputs": [
    {
     "data": {
      "image/png": "[encoded data removed]",
      "text/plain": [
       "<Figure size 864x576 with 1 Axes>"
      ]
     },
     "metadata": {
      "needs_background": "light"
     },
     "output_type": "display_data"
    }
   ],
   "source": [
    "grafico = df.provincia.value_counts().head(5).plot(kind='bar', figsize=(12,8), rot=90, title=\"Top 5 provincias con mayor cantidad de propiedades en venta\",colors=['lawngreen','springgreen','gold','blue','blue'],)\n",
    "plt.show(grafico)"
   ]
  },
  {
   "cell_type": "markdown",
   "metadata": {},
   "source": [
    "### 4.3.2 Top 5 de ciudades con mayor cantidad de propiedades en venta"
   ]
  },
  {
   "cell_type": "markdown",
   "metadata": {},
   "source": [
    "Analizamos cuales eran las provincias con mayor cantidad de propiedades, ahora veremos cuales son las 5 ciudades con más propiedades a la venta"
   ]
  },
  {
   "cell_type": "code",
   "execution_count": 13,
   "metadata": {},
   "outputs": [],
   "source": [
    "grouped = df.groupby(['provincia','ciudad'])['ciudad'].agg(['size'])\n",
    "grouped.columns = ['Propiedades por ciudad']"
   ]
  },
  {
   "cell_type": "code",
   "execution_count": 14,
   "metadata": {},
   "outputs": [
    {
     "data": {
      "image/png": "[encoded data removed]",
      "text/plain": [
       "<Figure size 864x576 with 1 Axes>"
      ]
     },
     "metadata": {
      "needs_background": "light"
     },
     "output_type": "display_data"
    }
   ],
   "source": [
    "grafico= grouped['Propiedades por ciudad'].sort_values(ascending = False).head(5).plot(kind=\"bar\",figsize=(12,8), rot=90,title=\"Top 5 ciudades con mayor cantidad de propiedades en venta\",color=['springgreen','lawngreen','gold','blue','blue'])\n",
    "plt.show(grafico)"
   ]
  },
  {
   "cell_type": "markdown",
   "metadata": {},
   "source": [
    "**Obs** : De las 5 ciudades con más propiedades, 3 pertenecen a provincias que se encuentran en las 5 provincias con mayor propiedades."
   ]
  },
  {
   "cell_type": "markdown",
   "metadata": {},
   "source": [
    "### 4.3.3 ¿Cuáles son las provincias con mayor cantidad de algún tipo de propiedad?"
   ]
  },
  {
   "cell_type": "markdown",
   "metadata": {},
   "source": [
    "Es interesante conocer cuales son las provincias que tiene mayor cantidad de propiedades de algún tipo en específico en venta. A modo de ejemplo veamos el top 3 de las provincias con mayor cantidad de casas en venta."
   ]
  },
  {
   "cell_type": "code",
   "execution_count": 15,
   "metadata": {},
   "outputs": [
    {
     "name": "stdout",
     "output_type": "stream",
     "text": [
      " Las 3 provincias con mayor cantidad de casas en venta son: \n"
     ]
    },
    {
     "data": {
      "text/plain": [
       "Edo. de México      25938\n",
       "Distrito Federal    15812\n",
       "Jalisco             14196\n",
       "Name: provincia, dtype: int64"
      ]
     },
     "execution_count": 15,
     "metadata": {},
     "output_type": "execute_result"
    }
   ],
   "source": [
    "print(\" Las 3 provincias con mayor cantidad de casas en venta son: \")\n",
    "df.loc[df.tipodepropiedad == \"Casa\", : ][\"provincia\"].value_counts().head(3)"
   ]
  },
  {
   "cell_type": "markdown",
   "metadata": {},
   "source": [
    "Otro ejemplo podría ser conocer cual es la provincia con mayor cantidad de huertas en venta."
   ]
  },
  {
   "cell_type": "code",
   "execution_count": 16,
   "metadata": {},
   "outputs": [
    {
     "name": "stdout",
     "output_type": "stream",
     "text": [
      " La provincia con mayor cantidad de Huertas en venta es:\n"
     ]
    },
    {
     "data": {
      "text/plain": [
       "Chihuahua    7\n",
       "Name: provincia, dtype: int64"
      ]
     },
     "execution_count": 16,
     "metadata": {},
     "output_type": "execute_result"
    }
   ],
   "source": [
    "print(\" La provincia con mayor cantidad de Huertas en venta es:\")\n",
    "df.loc[df.tipodepropiedad == \"Huerta\", :][\"provincia\"].value_counts().head(1)"
   ]
  },
  {
   "cell_type": "markdown",
   "metadata": {},
   "source": [
    "### En general:"
   ]
  },
  {
   "cell_type": "markdown",
   "metadata": {},
   "source": [
    "Supongamos ahora que queremos generalizarlo y calculemos para cada tipo de propiedad cuál es la provincia que tiene mayor cantidad de propiedades en venta de cada tipo."
   ]
  },
  {
   "cell_type": "code",
   "execution_count": 17,
   "metadata": {},
   "outputs": [
    {
     "name": "stdout",
     "output_type": "stream",
     "text": [
      "\n",
      "TIPO: Apartamento\n",
      "Distrito Federal    33839\n",
      "Name: provincia, dtype: int64\n",
      "\n",
      "TIPO: Casa en condominio\n",
      "Edo. de México    4717\n",
      "Name: provincia, dtype: int64\n",
      "\n",
      "TIPO: Casa\n",
      "Edo. de México    25938\n",
      "Name: provincia, dtype: int64\n",
      "\n",
      "TIPO: Terreno\n",
      "Distrito Federal    1677\n",
      "Name: provincia, dtype: int64\n",
      "\n",
      "TIPO: Terreno comercial\n",
      "San luis Potosí    234\n",
      "Name: provincia, dtype: int64\n",
      "\n",
      "TIPO: Local Comercial\n",
      "Distrito Federal    471\n",
      "Name: provincia, dtype: int64\n",
      "\n",
      "TIPO: Quinta Vacacional\n",
      "Nuevo León    205\n",
      "Name: provincia, dtype: int64\n",
      "\n",
      "TIPO: Oficina comercial\n",
      "Distrito Federal    736\n",
      "Name: provincia, dtype: int64\n",
      "\n",
      "TIPO: Edificio\n",
      "Distrito Federal    616\n",
      "Name: provincia, dtype: int64\n",
      "\n",
      "TIPO: Casa uso de suelo\n",
      "Distrito Federal    277\n",
      "Name: provincia, dtype: int64\n",
      "\n",
      "TIPO: Local en centro comercial\n",
      "Jalisco    54\n",
      "Name: provincia, dtype: int64\n",
      "\n",
      "TIPO: Bodega comercial\n",
      "Distrito Federal    322\n",
      "Name: provincia, dtype: int64\n",
      "\n",
      "TIPO: Otros\n",
      "Querétaro    34\n",
      "Name: provincia, dtype: int64\n",
      "\n",
      "TIPO: Villa\n",
      "Guerrero    90\n",
      "Name: provincia, dtype: int64\n",
      "\n",
      "TIPO: Duplex\n",
      "Edo. de México    148\n",
      "Name: provincia, dtype: int64\n",
      "\n",
      "TIPO: Inmuebles productivos urbanos\n",
      "Distrito Federal    63\n",
      "Name: provincia, dtype: int64\n",
      "\n",
      "TIPO: Departamento Compartido\n",
      "Distrito Federal    58\n",
      "Name: provincia, dtype: int64\n",
      "\n",
      "TIPO: Nave industrial\n",
      "Distrito Federal    24\n",
      "Name: provincia, dtype: int64\n",
      "\n",
      "TIPO: Rancho\n",
      "Edo. de México    32\n",
      "Name: provincia, dtype: int64\n",
      "\n",
      "TIPO: Terreno industrial\n",
      "Edo. de México    5\n",
      "Name: provincia, dtype: int64\n",
      "\n",
      "TIPO: Huerta\n",
      "Chihuahua    7\n",
      "Name: provincia, dtype: int64\n",
      "\n",
      "TIPO: Lote\n",
      "Edo. de México    3\n",
      "Name: provincia, dtype: int64\n",
      "\n",
      "TIPO: Hospedaje\n",
      "Campeche    1\n",
      "Name: provincia, dtype: int64\n",
      "\n",
      "TIPO: Garage\n",
      "Distrito Federal    1\n",
      "Name: provincia, dtype: int64\n"
     ]
    }
   ],
   "source": [
    "tipos = df[\"tipodepropiedad\"].dropna().unique()\n",
    "for tipo in tipos:\n",
    "    print (\"\\nTIPO: \" + tipo)\n",
    "    print(df.loc[df.tipodepropiedad == tipo, :][\"provincia\"].value_counts().head(1))"
   ]
  },
  {
   "cell_type": "markdown",
   "metadata": {},
   "source": [
    "### 4.3.4 Antigüedad de propiedades según provincia"
   ]
  },
  {
   "cell_type": "markdown",
   "metadata": {},
   "source": [
    "Queremos ver que provincia tiene en promedio las propiedades más antigüas."
   ]
  },
  {
   "cell_type": "code",
   "execution_count": 18,
   "metadata": {},
   "outputs": [
    {
     "data": {
      "text/html": [
       "<div>\n",
       "<style scoped>\n",
       "    .dataframe tbody tr th:only-of-type {\n",
       "        vertical-align: middle;\n",
       "    }\n",
       "\n",
       "    .dataframe tbody tr th {\n",
       "        vertical-align: top;\n",
       "    }\n",
       "\n",
       "    .dataframe thead th {\n",
       "        text-align: right;\n",
       "    }\n",
       "</style>\n",
       "<table border=\"1\" class=\"dataframe\">\n",
       "  <thead>\n",
       "    <tr style=\"text-align: right;\">\n",
       "      <th></th>\n",
       "      <th>cantidad de propiedades</th>\n",
       "      <th>suma de las antiguedades (años)</th>\n",
       "      <th>antiguedad promedio (años)</th>\n",
       "    </tr>\n",
       "    <tr>\n",
       "      <th>provincia</th>\n",
       "      <th></th>\n",
       "      <th></th>\n",
       "      <th></th>\n",
       "    </tr>\n",
       "  </thead>\n",
       "  <tbody>\n",
       "    <tr>\n",
       "      <th>Distrito Federal</th>\n",
       "      <td>58790</td>\n",
       "      <td>630,800.00</td>\n",
       "      <td>12.19</td>\n",
       "    </tr>\n",
       "    <tr>\n",
       "      <th>Edo. de México</th>\n",
       "      <td>41607</td>\n",
       "      <td>376,249.00</td>\n",
       "      <td>10.03</td>\n",
       "    </tr>\n",
       "    <tr>\n",
       "      <th>Guerrero</th>\n",
       "      <td>2678</td>\n",
       "      <td>18,284.00</td>\n",
       "      <td>7.61</td>\n",
       "    </tr>\n",
       "    <tr>\n",
       "      <th>Nuevo León</th>\n",
       "      <td>15324</td>\n",
       "      <td>85,133.00</td>\n",
       "      <td>7.54</td>\n",
       "    </tr>\n",
       "    <tr>\n",
       "      <th>Aguascalientes</th>\n",
       "      <td>1753</td>\n",
       "      <td>11,633.00</td>\n",
       "      <td>7.52</td>\n",
       "    </tr>\n",
       "    <tr>\n",
       "      <th>Michoacán</th>\n",
       "      <td>2471</td>\n",
       "      <td>12,343.00</td>\n",
       "      <td>7.06</td>\n",
       "    </tr>\n",
       "    <tr>\n",
       "      <th>Jalisco</th>\n",
       "      <td>21238</td>\n",
       "      <td>119,008.00</td>\n",
       "      <td>6.64</td>\n",
       "    </tr>\n",
       "    <tr>\n",
       "      <th>Chihuahua</th>\n",
       "      <td>4590</td>\n",
       "      <td>18,805.00</td>\n",
       "      <td>6.52</td>\n",
       "    </tr>\n",
       "    <tr>\n",
       "      <th>Morelos</th>\n",
       "      <td>7337</td>\n",
       "      <td>37,963.00</td>\n",
       "      <td>6.46</td>\n",
       "    </tr>\n",
       "    <tr>\n",
       "      <th>Zacatecas</th>\n",
       "      <td>94</td>\n",
       "      <td>531.00</td>\n",
       "      <td>6.40</td>\n",
       "    </tr>\n",
       "    <tr>\n",
       "      <th>Coahuila</th>\n",
       "      <td>3695</td>\n",
       "      <td>19,688.00</td>\n",
       "      <td>6.31</td>\n",
       "    </tr>\n",
       "    <tr>\n",
       "      <th>Sinaloa</th>\n",
       "      <td>1806</td>\n",
       "      <td>8,418.00</td>\n",
       "      <td>6.15</td>\n",
       "    </tr>\n",
       "    <tr>\n",
       "      <th>Sonora</th>\n",
       "      <td>2988</td>\n",
       "      <td>13,668.00</td>\n",
       "      <td>5.94</td>\n",
       "    </tr>\n",
       "    <tr>\n",
       "      <th>Baja California Norte</th>\n",
       "      <td>3220</td>\n",
       "      <td>15,675.00</td>\n",
       "      <td>5.79</td>\n",
       "    </tr>\n",
       "    <tr>\n",
       "      <th>Guanajuato</th>\n",
       "      <td>2860</td>\n",
       "      <td>13,286.00</td>\n",
       "      <td>5.73</td>\n",
       "    </tr>\n",
       "    <tr>\n",
       "      <th>Colima</th>\n",
       "      <td>1008</td>\n",
       "      <td>4,608.00</td>\n",
       "      <td>5.67</td>\n",
       "    </tr>\n",
       "    <tr>\n",
       "      <th>Tamaulipas</th>\n",
       "      <td>2303</td>\n",
       "      <td>10,279.00</td>\n",
       "      <td>5.55</td>\n",
       "    </tr>\n",
       "    <tr>\n",
       "      <th>Chiapas</th>\n",
       "      <td>1126</td>\n",
       "      <td>5,467.00</td>\n",
       "      <td>5.41</td>\n",
       "    </tr>\n",
       "    <tr>\n",
       "      <th>Oaxaca</th>\n",
       "      <td>711</td>\n",
       "      <td>3,205.00</td>\n",
       "      <td>5.40</td>\n",
       "    </tr>\n",
       "    <tr>\n",
       "      <th>Tabasco</th>\n",
       "      <td>994</td>\n",
       "      <td>4,732.00</td>\n",
       "      <td>5.30</td>\n",
       "    </tr>\n",
       "    <tr>\n",
       "      <th>Durango</th>\n",
       "      <td>2275</td>\n",
       "      <td>8,295.00</td>\n",
       "      <td>4.99</td>\n",
       "    </tr>\n",
       "    <tr>\n",
       "      <th>Nayarit</th>\n",
       "      <td>1352</td>\n",
       "      <td>3,868.00</td>\n",
       "      <td>4.68</td>\n",
       "    </tr>\n",
       "    <tr>\n",
       "      <th>Veracruz</th>\n",
       "      <td>5762</td>\n",
       "      <td>19,377.00</td>\n",
       "      <td>4.63</td>\n",
       "    </tr>\n",
       "    <tr>\n",
       "      <th>Puebla</th>\n",
       "      <td>10421</td>\n",
       "      <td>37,797.00</td>\n",
       "      <td>4.55</td>\n",
       "    </tr>\n",
       "    <tr>\n",
       "      <th>Quintana Roo</th>\n",
       "      <td>4756</td>\n",
       "      <td>16,744.00</td>\n",
       "      <td>4.54</td>\n",
       "    </tr>\n",
       "    <tr>\n",
       "      <th>San luis Potosí</th>\n",
       "      <td>8447</td>\n",
       "      <td>18,363.00</td>\n",
       "      <td>3.98</td>\n",
       "    </tr>\n",
       "    <tr>\n",
       "      <th>Campeche</th>\n",
       "      <td>263</td>\n",
       "      <td>779.00</td>\n",
       "      <td>3.91</td>\n",
       "    </tr>\n",
       "    <tr>\n",
       "      <th>Querétaro</th>\n",
       "      <td>16988</td>\n",
       "      <td>48,569.00</td>\n",
       "      <td>3.70</td>\n",
       "    </tr>\n",
       "    <tr>\n",
       "      <th>Tlaxcala</th>\n",
       "      <td>839</td>\n",
       "      <td>2,589.00</td>\n",
       "      <td>3.69</td>\n",
       "    </tr>\n",
       "    <tr>\n",
       "      <th>Hidalgo</th>\n",
       "      <td>2521</td>\n",
       "      <td>8,007.00</td>\n",
       "      <td>3.47</td>\n",
       "    </tr>\n",
       "    <tr>\n",
       "      <th>Yucatán</th>\n",
       "      <td>7928</td>\n",
       "      <td>15,933.00</td>\n",
       "      <td>3.07</td>\n",
       "    </tr>\n",
       "    <tr>\n",
       "      <th>Baja California Sur</th>\n",
       "      <td>1700</td>\n",
       "      <td>3,852.00</td>\n",
       "      <td>2.46</td>\n",
       "    </tr>\n",
       "  </tbody>\n",
       "</table>\n",
       "</div>"
      ],
      "text/plain": [
       "                       cantidad de propiedades  \\\n",
       "provincia                                        \n",
       "Distrito Federal                         58790   \n",
       "Edo. de México                           41607   \n",
       "Guerrero                                  2678   \n",
       "Nuevo León                               15324   \n",
       "Aguascalientes                            1753   \n",
       "Michoacán                                 2471   \n",
       "Jalisco                                  21238   \n",
       "Chihuahua                                 4590   \n",
       "Morelos                                   7337   \n",
       "Zacatecas                                   94   \n",
       "Coahuila                                  3695   \n",
       "Sinaloa                                   1806   \n",
       "Sonora                                    2988   \n",
       "Baja California Norte                     3220   \n",
       "Guanajuato                                2860   \n",
       "Colima                                    1008   \n",
       "Tamaulipas                                2303   \n",
       "Chiapas                                   1126   \n",
       "Oaxaca                                     711   \n",
       "Tabasco                                    994   \n",
       "Durango                                   2275   \n",
       "Nayarit                                   1352   \n",
       "Veracruz                                  5762   \n",
       "Puebla                                   10421   \n",
       "Quintana Roo                              4756   \n",
       "San luis Potosí                           8447   \n",
       "Campeche                                   263   \n",
       "Querétaro                                16988   \n",
       "Tlaxcala                                   839   \n",
       "Hidalgo                                   2521   \n",
       "Yucatán                                   7928   \n",
       "Baja California Sur                       1700   \n",
       "\n",
       "                       suma de las antiguedades (años)  \\\n",
       "provincia                                                \n",
       "Distrito Federal                            630,800.00   \n",
       "Edo. de México                              376,249.00   \n",
       "Guerrero                                     18,284.00   \n",
       "Nuevo León                                   85,133.00   \n",
       "Aguascalientes                               11,633.00   \n",
       "Michoacán                                    12,343.00   \n",
       "Jalisco                                     119,008.00   \n",
       "Chihuahua                                    18,805.00   \n",
       "Morelos                                      37,963.00   \n",
       "Zacatecas                                       531.00   \n",
       "Coahuila                                     19,688.00   \n",
       "Sinaloa                                       8,418.00   \n",
       "Sonora                                       13,668.00   \n",
       "Baja California Norte                        15,675.00   \n",
       "Guanajuato                                   13,286.00   \n",
       "Colima                                        4,608.00   \n",
       "Tamaulipas                                   10,279.00   \n",
       "Chiapas                                       5,467.00   \n",
       "Oaxaca                                        3,205.00   \n",
       "Tabasco                                       4,732.00   \n",
       "Durango                                       8,295.00   \n",
       "Nayarit                                       3,868.00   \n",
       "Veracruz                                     19,377.00   \n",
       "Puebla                                       37,797.00   \n",
       "Quintana Roo                                 16,744.00   \n",
       "San luis Potosí                              18,363.00   \n",
       "Campeche                                        779.00   \n",
       "Querétaro                                    48,569.00   \n",
       "Tlaxcala                                      2,589.00   \n",
       "Hidalgo                                       8,007.00   \n",
       "Yucatán                                      15,933.00   \n",
       "Baja California Sur                           3,852.00   \n",
       "\n",
       "                       antiguedad promedio (años)  \n",
       "provincia                                          \n",
       "Distrito Federal                            12.19  \n",
       "Edo. de México                              10.03  \n",
       "Guerrero                                     7.61  \n",
       "Nuevo León                                   7.54  \n",
       "Aguascalientes                               7.52  \n",
       "Michoacán                                    7.06  \n",
       "Jalisco                                      6.64  \n",
       "Chihuahua                                    6.52  \n",
       "Morelos                                      6.46  \n",
       "Zacatecas                                    6.40  \n",
       "Coahuila                                     6.31  \n",
       "Sinaloa                                      6.15  \n",
       "Sonora                                       5.94  \n",
       "Baja California Norte                        5.79  \n",
       "Guanajuato                                   5.73  \n",
       "Colima                                       5.67  \n",
       "Tamaulipas                                   5.55  \n",
       "Chiapas                                      5.41  \n",
       "Oaxaca                                       5.40  \n",
       "Tabasco                                      5.30  \n",
       "Durango                                      4.99  \n",
       "Nayarit                                      4.68  \n",
       "Veracruz                                     4.63  \n",
       "Puebla                                       4.55  \n",
       "Quintana Roo                                 4.54  \n",
       "San luis Potosí                              3.98  \n",
       "Campeche                                     3.91  \n",
       "Querétaro                                    3.70  \n",
       "Tlaxcala                                     3.69  \n",
       "Hidalgo                                      3.47  \n",
       "Yucatán                                      3.07  \n",
       "Baja California Sur                          2.46  "
      ]
     },
     "execution_count": 18,
     "metadata": {},
     "output_type": "execute_result"
    }
   ],
   "source": [
    "#Cálculos\n",
    "antiguedad_por_zona = df.groupby('provincia')['antiguedad'].agg(['size','sum','mean']).round(2)\n",
    "antiguedad_por_zona.columns = ['cantidad de propiedades', 'suma de las antiguedades (años)', 'antiguedad promedio (años)']\n",
    "antiguedad_por_zona = antiguedad_por_zona.sort_values('antiguedad promedio (años)', ascending = False)\n",
    "antiguedad_por_zona"
   ]
  },
  {
   "cell_type": "code",
   "execution_count": 19,
   "metadata": {},
   "outputs": [
    {
     "ename": "ValueError",
     "evalue": "matplotlib display text must have all code points < 128 or use Unicode strings",
     "output_type": "error",
     "traceback": [
      "\u001b[0;31m---------------------------------------------------------------------------\u001b[0m",
      "\u001b[0;31mValueError\u001b[0m                                Traceback (most recent call last)",
      "\u001b[0;32m/home/tomas/.local/lib/python2.7/site-packages/IPython/core/formatters.pyc\u001b[0m in \u001b[0;36m__call__\u001b[0;34m(self, obj)\u001b[0m\n\u001b[1;32m    332\u001b[0m                 \u001b[0;32mpass\u001b[0m\u001b[0;34m\u001b[0m\u001b[0;34m\u001b[0m\u001b[0m\n\u001b[1;32m    333\u001b[0m             \u001b[0;32melse\u001b[0m\u001b[0;34m:\u001b[0m\u001b[0;34m\u001b[0m\u001b[0;34m\u001b[0m\u001b[0m\n\u001b[0;32m--> 334\u001b[0;31m                 \u001b[0;32mreturn\u001b[0m \u001b[0mprinter\u001b[0m\u001b[0;34m(\u001b[0m\u001b[0mobj\u001b[0m\u001b[0;34m)\u001b[0m\u001b[0;34m\u001b[0m\u001b[0;34m\u001b[0m\u001b[0m\n\u001b[0m\u001b[1;32m    335\u001b[0m             \u001b[0;31m# Finally look for special method names\u001b[0m\u001b[0;34m\u001b[0m\u001b[0;34m\u001b[0m\u001b[0;34m\u001b[0m\u001b[0m\n\u001b[1;32m    336\u001b[0m             \u001b[0mmethod\u001b[0m \u001b[0;34m=\u001b[0m \u001b[0mget_real_method\u001b[0m\u001b[0;34m(\u001b[0m\u001b[0mobj\u001b[0m\u001b[0;34m,\u001b[0m \u001b[0mself\u001b[0m\u001b[0;34m.\u001b[0m\u001b[0mprint_method\u001b[0m\u001b[0;34m)\u001b[0m\u001b[0;34m\u001b[0m\u001b[0;34m\u001b[0m\u001b[0m\n",
      "\u001b[0;32m/home/tomas/.local/lib/python2.7/site-packages/IPython/core/pylabtools.pyc\u001b[0m in \u001b[0;36m<lambda>\u001b[0;34m(fig)\u001b[0m\n\u001b[1;32m    245\u001b[0m \u001b[0;34m\u001b[0m\u001b[0m\n\u001b[1;32m    246\u001b[0m     \u001b[0;32mif\u001b[0m \u001b[0;34m'png'\u001b[0m \u001b[0;32min\u001b[0m \u001b[0mformats\u001b[0m\u001b[0;34m:\u001b[0m\u001b[0;34m\u001b[0m\u001b[0;34m\u001b[0m\u001b[0m\n\u001b[0;32m--> 247\u001b[0;31m         \u001b[0mpng_formatter\u001b[0m\u001b[0;34m.\u001b[0m\u001b[0mfor_type\u001b[0m\u001b[0;34m(\u001b[0m\u001b[0mFigure\u001b[0m\u001b[0;34m,\u001b[0m \u001b[0;32mlambda\u001b[0m \u001b[0mfig\u001b[0m\u001b[0;34m:\u001b[0m \u001b[0mprint_figure\u001b[0m\u001b[0;34m(\u001b[0m\u001b[0mfig\u001b[0m\u001b[0;34m,\u001b[0m \u001b[0;34m'png'\u001b[0m\u001b[0;34m,\u001b[0m \u001b[0;34m**\u001b[0m\u001b[0mkwargs\u001b[0m\u001b[0;34m)\u001b[0m\u001b[0;34m)\u001b[0m\u001b[0;34m\u001b[0m\u001b[0;34m\u001b[0m\u001b[0m\n\u001b[0m\u001b[1;32m    248\u001b[0m     \u001b[0;32mif\u001b[0m \u001b[0;34m'retina'\u001b[0m \u001b[0;32min\u001b[0m \u001b[0mformats\u001b[0m \u001b[0;32mor\u001b[0m \u001b[0;34m'png2x'\u001b[0m \u001b[0;32min\u001b[0m \u001b[0mformats\u001b[0m\u001b[0;34m:\u001b[0m\u001b[0;34m\u001b[0m\u001b[0;34m\u001b[0m\u001b[0m\n\u001b[1;32m    249\u001b[0m         \u001b[0mpng_formatter\u001b[0m\u001b[0;34m.\u001b[0m\u001b[0mfor_type\u001b[0m\u001b[0;34m(\u001b[0m\u001b[0mFigure\u001b[0m\u001b[0;34m,\u001b[0m \u001b[0;32mlambda\u001b[0m \u001b[0mfig\u001b[0m\u001b[0;34m:\u001b[0m \u001b[0mretina_figure\u001b[0m\u001b[0;34m(\u001b[0m\u001b[0mfig\u001b[0m\u001b[0;34m,\u001b[0m \u001b[0;34m**\u001b[0m\u001b[0mkwargs\u001b[0m\u001b[0;34m)\u001b[0m\u001b[0;34m)\u001b[0m\u001b[0;34m\u001b[0m\u001b[0;34m\u001b[0m\u001b[0m\n",
      "\u001b[0;32m/home/tomas/.local/lib/python2.7/site-packages/IPython/core/pylabtools.pyc\u001b[0m in \u001b[0;36mprint_figure\u001b[0;34m(fig, fmt, bbox_inches, **kwargs)\u001b[0m\n\u001b[1;32m    129\u001b[0m \u001b[0;34m\u001b[0m\u001b[0m\n\u001b[1;32m    130\u001b[0m     \u001b[0mbytes_io\u001b[0m \u001b[0;34m=\u001b[0m \u001b[0mBytesIO\u001b[0m\u001b[0;34m(\u001b[0m\u001b[0;34m)\u001b[0m\u001b[0;34m\u001b[0m\u001b[0;34m\u001b[0m\u001b[0m\n\u001b[0;32m--> 131\u001b[0;31m     \u001b[0mfig\u001b[0m\u001b[0;34m.\u001b[0m\u001b[0mcanvas\u001b[0m\u001b[0;34m.\u001b[0m\u001b[0mprint_figure\u001b[0m\u001b[0;34m(\u001b[0m\u001b[0mbytes_io\u001b[0m\u001b[0;34m,\u001b[0m \u001b[0;34m**\u001b[0m\u001b[0mkw\u001b[0m\u001b[0;34m)\u001b[0m\u001b[0;34m\u001b[0m\u001b[0;34m\u001b[0m\u001b[0m\n\u001b[0m\u001b[1;32m    132\u001b[0m     \u001b[0mdata\u001b[0m \u001b[0;34m=\u001b[0m \u001b[0mbytes_io\u001b[0m\u001b[0;34m.\u001b[0m\u001b[0mgetvalue\u001b[0m\u001b[0;34m(\u001b[0m\u001b[0;34m)\u001b[0m\u001b[0;34m\u001b[0m\u001b[0;34m\u001b[0m\u001b[0m\n\u001b[1;32m    133\u001b[0m     \u001b[0;32mif\u001b[0m \u001b[0mfmt\u001b[0m \u001b[0;34m==\u001b[0m \u001b[0;34m'svg'\u001b[0m\u001b[0;34m:\u001b[0m\u001b[0;34m\u001b[0m\u001b[0;34m\u001b[0m\u001b[0m\n",
      "\u001b[0;32m/usr/local/lib/python2.7/dist-packages/matplotlib/backend_bases.pyc\u001b[0m in \u001b[0;36mprint_figure\u001b[0;34m(self, filename, dpi, facecolor, edgecolor, orientation, format, **kwargs)\u001b[0m\n\u001b[1;32m   2210\u001b[0m                     \u001b[0morientation\u001b[0m\u001b[0;34m=\u001b[0m\u001b[0morientation\u001b[0m\u001b[0;34m,\u001b[0m\u001b[0;34m\u001b[0m\u001b[0;34m\u001b[0m\u001b[0m\n\u001b[1;32m   2211\u001b[0m                     \u001b[0mdryrun\u001b[0m\u001b[0;34m=\u001b[0m\u001b[0mTrue\u001b[0m\u001b[0;34m,\u001b[0m\u001b[0;34m\u001b[0m\u001b[0;34m\u001b[0m\u001b[0m\n\u001b[0;32m-> 2212\u001b[0;31m                     **kwargs)\n\u001b[0m\u001b[1;32m   2213\u001b[0m                 \u001b[0mrenderer\u001b[0m \u001b[0;34m=\u001b[0m \u001b[0mself\u001b[0m\u001b[0;34m.\u001b[0m\u001b[0mfigure\u001b[0m\u001b[0;34m.\u001b[0m\u001b[0m_cachedRenderer\u001b[0m\u001b[0;34m\u001b[0m\u001b[0;34m\u001b[0m\u001b[0m\n\u001b[1;32m   2214\u001b[0m                 \u001b[0mbbox_inches\u001b[0m \u001b[0;34m=\u001b[0m \u001b[0mself\u001b[0m\u001b[0;34m.\u001b[0m\u001b[0mfigure\u001b[0m\u001b[0;34m.\u001b[0m\u001b[0mget_tightbbox\u001b[0m\u001b[0;34m(\u001b[0m\u001b[0mrenderer\u001b[0m\u001b[0;34m)\u001b[0m\u001b[0;34m\u001b[0m\u001b[0;34m\u001b[0m\u001b[0m\n",
      "\u001b[0;32m/usr/local/lib/python2.7/dist-packages/matplotlib/backends/backend_agg.pyc\u001b[0m in \u001b[0;36mprint_png\u001b[0;34m(self, filename_or_obj, *args, **kwargs)\u001b[0m\n\u001b[1;32m    515\u001b[0m \u001b[0;34m\u001b[0m\u001b[0m\n\u001b[1;32m    516\u001b[0m     \u001b[0;32mdef\u001b[0m \u001b[0mprint_png\u001b[0m\u001b[0;34m(\u001b[0m\u001b[0mself\u001b[0m\u001b[0;34m,\u001b[0m \u001b[0mfilename_or_obj\u001b[0m\u001b[0;34m,\u001b[0m \u001b[0;34m*\u001b[0m\u001b[0margs\u001b[0m\u001b[0;34m,\u001b[0m \u001b[0;34m**\u001b[0m\u001b[0mkwargs\u001b[0m\u001b[0;34m)\u001b[0m\u001b[0;34m:\u001b[0m\u001b[0;34m\u001b[0m\u001b[0;34m\u001b[0m\u001b[0m\n\u001b[0;32m--> 517\u001b[0;31m         \u001b[0mFigureCanvasAgg\u001b[0m\u001b[0;34m.\u001b[0m\u001b[0mdraw\u001b[0m\u001b[0;34m(\u001b[0m\u001b[0mself\u001b[0m\u001b[0;34m)\u001b[0m\u001b[0;34m\u001b[0m\u001b[0;34m\u001b[0m\u001b[0m\n\u001b[0m\u001b[1;32m    518\u001b[0m         \u001b[0mrenderer\u001b[0m \u001b[0;34m=\u001b[0m \u001b[0mself\u001b[0m\u001b[0;34m.\u001b[0m\u001b[0mget_renderer\u001b[0m\u001b[0;34m(\u001b[0m\u001b[0;34m)\u001b[0m\u001b[0;34m\u001b[0m\u001b[0;34m\u001b[0m\u001b[0m\n\u001b[1;32m    519\u001b[0m         \u001b[0moriginal_dpi\u001b[0m \u001b[0;34m=\u001b[0m \u001b[0mrenderer\u001b[0m\u001b[0;34m.\u001b[0m\u001b[0mdpi\u001b[0m\u001b[0;34m\u001b[0m\u001b[0;34m\u001b[0m\u001b[0m\n",
      "\u001b[0;32m/usr/local/lib/python2.7/dist-packages/matplotlib/backends/backend_agg.pyc\u001b[0m in \u001b[0;36mdraw\u001b[0;34m(self)\u001b[0m\n\u001b[1;32m    435\u001b[0m             \u001b[0;31m# if toolbar:\u001b[0m\u001b[0;34m\u001b[0m\u001b[0;34m\u001b[0m\u001b[0;34m\u001b[0m\u001b[0m\n\u001b[1;32m    436\u001b[0m             \u001b[0;31m#     toolbar.set_cursor(cursors.WAIT)\u001b[0m\u001b[0;34m\u001b[0m\u001b[0;34m\u001b[0m\u001b[0;34m\u001b[0m\u001b[0m\n\u001b[0;32m--> 437\u001b[0;31m             \u001b[0mself\u001b[0m\u001b[0;34m.\u001b[0m\u001b[0mfigure\u001b[0m\u001b[0;34m.\u001b[0m\u001b[0mdraw\u001b[0m\u001b[0;34m(\u001b[0m\u001b[0mself\u001b[0m\u001b[0;34m.\u001b[0m\u001b[0mrenderer\u001b[0m\u001b[0;34m)\u001b[0m\u001b[0;34m\u001b[0m\u001b[0;34m\u001b[0m\u001b[0m\n\u001b[0m\u001b[1;32m    438\u001b[0m             \u001b[0;31m# A GUI class may be need to update a window using this draw, so\u001b[0m\u001b[0;34m\u001b[0m\u001b[0;34m\u001b[0m\u001b[0;34m\u001b[0m\u001b[0m\n\u001b[1;32m    439\u001b[0m             \u001b[0;31m# don't forget to call the superclass.\u001b[0m\u001b[0;34m\u001b[0m\u001b[0;34m\u001b[0m\u001b[0;34m\u001b[0m\u001b[0m\n",
      "\u001b[0;32m/usr/local/lib/python2.7/dist-packages/matplotlib/artist.pyc\u001b[0m in \u001b[0;36mdraw_wrapper\u001b[0;34m(artist, renderer, *args, **kwargs)\u001b[0m\n\u001b[1;32m     53\u001b[0m                 \u001b[0mrenderer\u001b[0m\u001b[0;34m.\u001b[0m\u001b[0mstart_filter\u001b[0m\u001b[0;34m(\u001b[0m\u001b[0;34m)\u001b[0m\u001b[0;34m\u001b[0m\u001b[0;34m\u001b[0m\u001b[0m\n\u001b[1;32m     54\u001b[0m \u001b[0;34m\u001b[0m\u001b[0m\n\u001b[0;32m---> 55\u001b[0;31m             \u001b[0;32mreturn\u001b[0m \u001b[0mdraw\u001b[0m\u001b[0;34m(\u001b[0m\u001b[0martist\u001b[0m\u001b[0;34m,\u001b[0m \u001b[0mrenderer\u001b[0m\u001b[0;34m,\u001b[0m \u001b[0;34m*\u001b[0m\u001b[0margs\u001b[0m\u001b[0;34m,\u001b[0m \u001b[0;34m**\u001b[0m\u001b[0mkwargs\u001b[0m\u001b[0;34m)\u001b[0m\u001b[0;34m\u001b[0m\u001b[0;34m\u001b[0m\u001b[0m\n\u001b[0m\u001b[1;32m     56\u001b[0m         \u001b[0;32mfinally\u001b[0m\u001b[0;34m:\u001b[0m\u001b[0;34m\u001b[0m\u001b[0;34m\u001b[0m\u001b[0m\n\u001b[1;32m     57\u001b[0m             \u001b[0;32mif\u001b[0m \u001b[0martist\u001b[0m\u001b[0;34m.\u001b[0m\u001b[0mget_agg_filter\u001b[0m\u001b[0;34m(\u001b[0m\u001b[0;34m)\u001b[0m \u001b[0;32mis\u001b[0m \u001b[0;32mnot\u001b[0m \u001b[0mNone\u001b[0m\u001b[0;34m:\u001b[0m\u001b[0;34m\u001b[0m\u001b[0;34m\u001b[0m\u001b[0m\n",
      "\u001b[0;32m/usr/local/lib/python2.7/dist-packages/matplotlib/figure.pyc\u001b[0m in \u001b[0;36mdraw\u001b[0;34m(self, renderer)\u001b[0m\n\u001b[1;32m   1491\u001b[0m \u001b[0;34m\u001b[0m\u001b[0m\n\u001b[1;32m   1492\u001b[0m             mimage._draw_list_compositing_images(\n\u001b[0;32m-> 1493\u001b[0;31m                 renderer, self, artists, self.suppressComposite)\n\u001b[0m\u001b[1;32m   1494\u001b[0m \u001b[0;34m\u001b[0m\u001b[0m\n\u001b[1;32m   1495\u001b[0m             \u001b[0mrenderer\u001b[0m\u001b[0;34m.\u001b[0m\u001b[0mclose_group\u001b[0m\u001b[0;34m(\u001b[0m\u001b[0;34m'figure'\u001b[0m\u001b[0;34m)\u001b[0m\u001b[0;34m\u001b[0m\u001b[0;34m\u001b[0m\u001b[0m\n",
      "\u001b[0;32m/usr/local/lib/python2.7/dist-packages/matplotlib/image.pyc\u001b[0m in \u001b[0;36m_draw_list_compositing_images\u001b[0;34m(renderer, parent, artists, suppress_composite)\u001b[0m\n\u001b[1;32m    139\u001b[0m     \u001b[0;32mif\u001b[0m \u001b[0mnot_composite\u001b[0m \u001b[0;32mor\u001b[0m \u001b[0;32mnot\u001b[0m \u001b[0mhas_images\u001b[0m\u001b[0;34m:\u001b[0m\u001b[0;34m\u001b[0m\u001b[0;34m\u001b[0m\u001b[0m\n\u001b[1;32m    140\u001b[0m         \u001b[0;32mfor\u001b[0m \u001b[0ma\u001b[0m \u001b[0;32min\u001b[0m \u001b[0martists\u001b[0m\u001b[0;34m:\u001b[0m\u001b[0;34m\u001b[0m\u001b[0;34m\u001b[0m\u001b[0m\n\u001b[0;32m--> 141\u001b[0;31m             \u001b[0ma\u001b[0m\u001b[0;34m.\u001b[0m\u001b[0mdraw\u001b[0m\u001b[0;34m(\u001b[0m\u001b[0mrenderer\u001b[0m\u001b[0;34m)\u001b[0m\u001b[0;34m\u001b[0m\u001b[0;34m\u001b[0m\u001b[0m\n\u001b[0m\u001b[1;32m    142\u001b[0m     \u001b[0;32melse\u001b[0m\u001b[0;34m:\u001b[0m\u001b[0;34m\u001b[0m\u001b[0;34m\u001b[0m\u001b[0m\n\u001b[1;32m    143\u001b[0m         \u001b[0;31m# Composite any adjacent images together\u001b[0m\u001b[0;34m\u001b[0m\u001b[0;34m\u001b[0m\u001b[0;34m\u001b[0m\u001b[0m\n",
      "\u001b[0;32m/usr/local/lib/python2.7/dist-packages/matplotlib/artist.pyc\u001b[0m in \u001b[0;36mdraw_wrapper\u001b[0;34m(artist, renderer, *args, **kwargs)\u001b[0m\n\u001b[1;32m     53\u001b[0m                 \u001b[0mrenderer\u001b[0m\u001b[0;34m.\u001b[0m\u001b[0mstart_filter\u001b[0m\u001b[0;34m(\u001b[0m\u001b[0;34m)\u001b[0m\u001b[0;34m\u001b[0m\u001b[0;34m\u001b[0m\u001b[0m\n\u001b[1;32m     54\u001b[0m \u001b[0;34m\u001b[0m\u001b[0m\n\u001b[0;32m---> 55\u001b[0;31m             \u001b[0;32mreturn\u001b[0m \u001b[0mdraw\u001b[0m\u001b[0;34m(\u001b[0m\u001b[0martist\u001b[0m\u001b[0;34m,\u001b[0m \u001b[0mrenderer\u001b[0m\u001b[0;34m,\u001b[0m \u001b[0;34m*\u001b[0m\u001b[0margs\u001b[0m\u001b[0;34m,\u001b[0m \u001b[0;34m**\u001b[0m\u001b[0mkwargs\u001b[0m\u001b[0;34m)\u001b[0m\u001b[0;34m\u001b[0m\u001b[0;34m\u001b[0m\u001b[0m\n\u001b[0m\u001b[1;32m     56\u001b[0m         \u001b[0;32mfinally\u001b[0m\u001b[0;34m:\u001b[0m\u001b[0;34m\u001b[0m\u001b[0;34m\u001b[0m\u001b[0m\n\u001b[1;32m     57\u001b[0m             \u001b[0;32mif\u001b[0m \u001b[0martist\u001b[0m\u001b[0;34m.\u001b[0m\u001b[0mget_agg_filter\u001b[0m\u001b[0;34m(\u001b[0m\u001b[0;34m)\u001b[0m \u001b[0;32mis\u001b[0m \u001b[0;32mnot\u001b[0m \u001b[0mNone\u001b[0m\u001b[0;34m:\u001b[0m\u001b[0;34m\u001b[0m\u001b[0;34m\u001b[0m\u001b[0m\n",
      "\u001b[0;32m/usr/local/lib/python2.7/dist-packages/matplotlib/axes/_base.pyc\u001b[0m in \u001b[0;36mdraw\u001b[0;34m(self, renderer, inframe)\u001b[0m\n\u001b[1;32m   2633\u001b[0m             \u001b[0mrenderer\u001b[0m\u001b[0;34m.\u001b[0m\u001b[0mstop_rasterizing\u001b[0m\u001b[0;34m(\u001b[0m\u001b[0;34m)\u001b[0m\u001b[0;34m\u001b[0m\u001b[0;34m\u001b[0m\u001b[0m\n\u001b[1;32m   2634\u001b[0m \u001b[0;34m\u001b[0m\u001b[0m\n\u001b[0;32m-> 2635\u001b[0;31m         \u001b[0mmimage\u001b[0m\u001b[0;34m.\u001b[0m\u001b[0m_draw_list_compositing_images\u001b[0m\u001b[0;34m(\u001b[0m\u001b[0mrenderer\u001b[0m\u001b[0;34m,\u001b[0m \u001b[0mself\u001b[0m\u001b[0;34m,\u001b[0m \u001b[0martists\u001b[0m\u001b[0;34m)\u001b[0m\u001b[0;34m\u001b[0m\u001b[0;34m\u001b[0m\u001b[0m\n\u001b[0m\u001b[1;32m   2636\u001b[0m \u001b[0;34m\u001b[0m\u001b[0m\n\u001b[1;32m   2637\u001b[0m         \u001b[0mrenderer\u001b[0m\u001b[0;34m.\u001b[0m\u001b[0mclose_group\u001b[0m\u001b[0;34m(\u001b[0m\u001b[0;34m'axes'\u001b[0m\u001b[0;34m)\u001b[0m\u001b[0;34m\u001b[0m\u001b[0;34m\u001b[0m\u001b[0m\n",
      "\u001b[0;32m/usr/local/lib/python2.7/dist-packages/matplotlib/image.pyc\u001b[0m in \u001b[0;36m_draw_list_compositing_images\u001b[0;34m(renderer, parent, artists, suppress_composite)\u001b[0m\n\u001b[1;32m    139\u001b[0m     \u001b[0;32mif\u001b[0m \u001b[0mnot_composite\u001b[0m \u001b[0;32mor\u001b[0m \u001b[0;32mnot\u001b[0m \u001b[0mhas_images\u001b[0m\u001b[0;34m:\u001b[0m\u001b[0;34m\u001b[0m\u001b[0;34m\u001b[0m\u001b[0m\n\u001b[1;32m    140\u001b[0m         \u001b[0;32mfor\u001b[0m \u001b[0ma\u001b[0m \u001b[0;32min\u001b[0m \u001b[0martists\u001b[0m\u001b[0;34m:\u001b[0m\u001b[0;34m\u001b[0m\u001b[0;34m\u001b[0m\u001b[0m\n\u001b[0;32m--> 141\u001b[0;31m             \u001b[0ma\u001b[0m\u001b[0;34m.\u001b[0m\u001b[0mdraw\u001b[0m\u001b[0;34m(\u001b[0m\u001b[0mrenderer\u001b[0m\u001b[0;34m)\u001b[0m\u001b[0;34m\u001b[0m\u001b[0;34m\u001b[0m\u001b[0m\n\u001b[0m\u001b[1;32m    142\u001b[0m     \u001b[0;32melse\u001b[0m\u001b[0;34m:\u001b[0m\u001b[0;34m\u001b[0m\u001b[0;34m\u001b[0m\u001b[0m\n\u001b[1;32m    143\u001b[0m         \u001b[0;31m# Composite any adjacent images together\u001b[0m\u001b[0;34m\u001b[0m\u001b[0;34m\u001b[0m\u001b[0;34m\u001b[0m\u001b[0m\n",
      "\u001b[0;32m/usr/local/lib/python2.7/dist-packages/matplotlib/artist.pyc\u001b[0m in \u001b[0;36mdraw_wrapper\u001b[0;34m(artist, renderer, *args, **kwargs)\u001b[0m\n\u001b[1;32m     53\u001b[0m                 \u001b[0mrenderer\u001b[0m\u001b[0;34m.\u001b[0m\u001b[0mstart_filter\u001b[0m\u001b[0;34m(\u001b[0m\u001b[0;34m)\u001b[0m\u001b[0;34m\u001b[0m\u001b[0;34m\u001b[0m\u001b[0m\n\u001b[1;32m     54\u001b[0m \u001b[0;34m\u001b[0m\u001b[0m\n\u001b[0;32m---> 55\u001b[0;31m             \u001b[0;32mreturn\u001b[0m \u001b[0mdraw\u001b[0m\u001b[0;34m(\u001b[0m\u001b[0martist\u001b[0m\u001b[0;34m,\u001b[0m \u001b[0mrenderer\u001b[0m\u001b[0;34m,\u001b[0m \u001b[0;34m*\u001b[0m\u001b[0margs\u001b[0m\u001b[0;34m,\u001b[0m \u001b[0;34m**\u001b[0m\u001b[0mkwargs\u001b[0m\u001b[0;34m)\u001b[0m\u001b[0;34m\u001b[0m\u001b[0;34m\u001b[0m\u001b[0m\n\u001b[0m\u001b[1;32m     56\u001b[0m         \u001b[0;32mfinally\u001b[0m\u001b[0;34m:\u001b[0m\u001b[0;34m\u001b[0m\u001b[0;34m\u001b[0m\u001b[0m\n\u001b[1;32m     57\u001b[0m             \u001b[0;32mif\u001b[0m \u001b[0martist\u001b[0m\u001b[0;34m.\u001b[0m\u001b[0mget_agg_filter\u001b[0m\u001b[0;34m(\u001b[0m\u001b[0;34m)\u001b[0m \u001b[0;32mis\u001b[0m \u001b[0;32mnot\u001b[0m \u001b[0mNone\u001b[0m\u001b[0;34m:\u001b[0m\u001b[0;34m\u001b[0m\u001b[0;34m\u001b[0m\u001b[0m\n",
      "\u001b[0;32m/usr/local/lib/python2.7/dist-packages/matplotlib/text.pyc\u001b[0m in \u001b[0;36mdraw\u001b[0;34m(self, renderer)\u001b[0m\n\u001b[1;32m    704\u001b[0m \u001b[0;34m\u001b[0m\u001b[0m\n\u001b[1;32m    705\u001b[0m         \u001b[0;32mwith\u001b[0m \u001b[0m_wrap_text\u001b[0m\u001b[0;34m(\u001b[0m\u001b[0mself\u001b[0m\u001b[0;34m)\u001b[0m \u001b[0;32mas\u001b[0m \u001b[0mtextobj\u001b[0m\u001b[0;34m:\u001b[0m\u001b[0;34m\u001b[0m\u001b[0;34m\u001b[0m\u001b[0m\n\u001b[0;32m--> 706\u001b[0;31m             \u001b[0mbbox\u001b[0m\u001b[0;34m,\u001b[0m \u001b[0minfo\u001b[0m\u001b[0;34m,\u001b[0m \u001b[0mdescent\u001b[0m \u001b[0;34m=\u001b[0m \u001b[0mtextobj\u001b[0m\u001b[0;34m.\u001b[0m\u001b[0m_get_layout\u001b[0m\u001b[0;34m(\u001b[0m\u001b[0mrenderer\u001b[0m\u001b[0;34m)\u001b[0m\u001b[0;34m\u001b[0m\u001b[0;34m\u001b[0m\u001b[0m\n\u001b[0m\u001b[1;32m    707\u001b[0m             \u001b[0mtrans\u001b[0m \u001b[0;34m=\u001b[0m \u001b[0mtextobj\u001b[0m\u001b[0;34m.\u001b[0m\u001b[0mget_transform\u001b[0m\u001b[0;34m(\u001b[0m\u001b[0;34m)\u001b[0m\u001b[0;34m\u001b[0m\u001b[0;34m\u001b[0m\u001b[0m\n\u001b[1;32m    708\u001b[0m \u001b[0;34m\u001b[0m\u001b[0m\n",
      "\u001b[0;32m/usr/local/lib/python2.7/dist-packages/matplotlib/text.pyc\u001b[0m in \u001b[0;36m_get_layout\u001b[0;34m(self, renderer)\u001b[0m\n\u001b[1;32m    303\u001b[0m         \u001b[0mbaseline\u001b[0m \u001b[0;34m=\u001b[0m \u001b[0;36m0\u001b[0m\u001b[0;34m\u001b[0m\u001b[0;34m\u001b[0m\u001b[0m\n\u001b[1;32m    304\u001b[0m         \u001b[0;32mfor\u001b[0m \u001b[0mi\u001b[0m\u001b[0;34m,\u001b[0m \u001b[0mline\u001b[0m \u001b[0;32min\u001b[0m \u001b[0menumerate\u001b[0m\u001b[0;34m(\u001b[0m\u001b[0mlines\u001b[0m\u001b[0;34m)\u001b[0m\u001b[0;34m:\u001b[0m\u001b[0;34m\u001b[0m\u001b[0;34m\u001b[0m\u001b[0m\n\u001b[0;32m--> 305\u001b[0;31m             \u001b[0mclean_line\u001b[0m\u001b[0;34m,\u001b[0m \u001b[0mismath\u001b[0m \u001b[0;34m=\u001b[0m \u001b[0mself\u001b[0m\u001b[0;34m.\u001b[0m\u001b[0mis_math_text\u001b[0m\u001b[0;34m(\u001b[0m\u001b[0mline\u001b[0m\u001b[0;34m,\u001b[0m \u001b[0mself\u001b[0m\u001b[0;34m.\u001b[0m\u001b[0mget_usetex\u001b[0m\u001b[0;34m(\u001b[0m\u001b[0;34m)\u001b[0m\u001b[0;34m)\u001b[0m\u001b[0;34m\u001b[0m\u001b[0;34m\u001b[0m\u001b[0m\n\u001b[0m\u001b[1;32m    306\u001b[0m             \u001b[0;32mif\u001b[0m \u001b[0mclean_line\u001b[0m\u001b[0;34m:\u001b[0m\u001b[0;34m\u001b[0m\u001b[0;34m\u001b[0m\u001b[0m\n\u001b[1;32m    307\u001b[0m                 w, h, d = renderer.get_text_width_height_descent(clean_line,\n",
      "\u001b[0;32m/usr/local/lib/python2.7/dist-packages/matplotlib/text.pyc\u001b[0m in \u001b[0;36mis_math_text\u001b[0;34m(s, usetex)\u001b[0m\n\u001b[1;32m   1188\u001b[0m             \u001b[0;32mreturn\u001b[0m \u001b[0ms\u001b[0m\u001b[0;34m,\u001b[0m \u001b[0;34m'TeX'\u001b[0m\u001b[0;34m\u001b[0m\u001b[0;34m\u001b[0m\u001b[0m\n\u001b[1;32m   1189\u001b[0m \u001b[0;34m\u001b[0m\u001b[0m\n\u001b[0;32m-> 1190\u001b[0;31m         \u001b[0;32mif\u001b[0m \u001b[0mcbook\u001b[0m\u001b[0;34m.\u001b[0m\u001b[0mis_math_text\u001b[0m\u001b[0;34m(\u001b[0m\u001b[0ms\u001b[0m\u001b[0;34m)\u001b[0m\u001b[0;34m:\u001b[0m\u001b[0;34m\u001b[0m\u001b[0;34m\u001b[0m\u001b[0m\n\u001b[0m\u001b[1;32m   1191\u001b[0m             \u001b[0;32mreturn\u001b[0m \u001b[0ms\u001b[0m\u001b[0;34m,\u001b[0m \u001b[0mTrue\u001b[0m\u001b[0;34m\u001b[0m\u001b[0;34m\u001b[0m\u001b[0m\n\u001b[1;32m   1192\u001b[0m         \u001b[0;32melse\u001b[0m\u001b[0;34m:\u001b[0m\u001b[0;34m\u001b[0m\u001b[0;34m\u001b[0m\u001b[0m\n",
      "\u001b[0;32m/usr/local/lib/python2.7/dist-packages/matplotlib/cbook/__init__.pyc\u001b[0m in \u001b[0;36mis_math_text\u001b[0;34m(s)\u001b[0m\n\u001b[1;32m   2033\u001b[0m     \u001b[0;32mexcept\u001b[0m \u001b[0mUnicodeDecodeError\u001b[0m\u001b[0;34m:\u001b[0m\u001b[0;34m\u001b[0m\u001b[0;34m\u001b[0m\u001b[0m\n\u001b[1;32m   2034\u001b[0m         raise ValueError(\n\u001b[0;32m-> 2035\u001b[0;31m             \u001b[0;34m\"matplotlib display text must have all code points < 128 or use \"\u001b[0m\u001b[0;34m\u001b[0m\u001b[0;34m\u001b[0m\u001b[0m\n\u001b[0m\u001b[1;32m   2036\u001b[0m             \"Unicode strings\")\n\u001b[1;32m   2037\u001b[0m \u001b[0;34m\u001b[0m\u001b[0m\n",
      "\u001b[0;31mValueError\u001b[0m: matplotlib display text must have all code points < 128 or use Unicode strings"
     ]
    },
    {
     "data": {
      "text/plain": [
       "<Figure size 1080x720 with 1 Axes>"
      ]
     },
     "metadata": {
      "needs_background": "light"
     },
     "output_type": "display_data"
    }
   ],
   "source": [
    "#Gráfico\n",
    "colores=[]\n",
    "for indice,fila in antiguedad_por_zona.iterrows():\n",
    "    if fila['antiguedad promedio (años)']>=10:\n",
    "        colores.append(\"red\")\n",
    "    if fila['antiguedad promedio (años)']<10 and fila['antiguedad promedio (años)']>=9:\n",
    "         colores.append(\"tomato\")\n",
    "    if fila['antiguedad promedio (años)']<9 and fila['antiguedad promedio (años)']>=8:\n",
    "        colores.append(\"coral\")\n",
    "    if fila['antiguedad promedio (años)']<8 and fila['antiguedad promedio (años)']>=7:\n",
    "        colores.append(\"orange\")\n",
    "    if fila['antiguedad promedio (años)']<7 and fila['antiguedad promedio (años)']>=6:\n",
    "        colores.append(\"gold\")    \n",
    "    if fila['antiguedad promedio (años)']<6 and fila['antiguedad promedio (años)']>=5:\n",
    "        colores.append(\"yellow\")  \n",
    "    if fila['antiguedad promedio (años)']<5 and fila['antiguedad promedio (años)']>=4:\n",
    "         colores.append(\"greenyellow\")\n",
    "    if fila['antiguedad promedio (años)']<4 and fila['antiguedad promedio (años)']>=3:\n",
    "         colores.append(\"green\") \n",
    "    if fila['antiguedad promedio (años)']<3 and fila['antiguedad promedio (años)']>=2:\n",
    "        colores.append(\"darkblue\")\n",
    "    if fila['antiguedad promedio (años)']<2 and fila['antiguedad promedio (años)']>=1:\n",
    "        colores.append(\"blue\")\n",
    "    if fila['antiguedad promedio (años)']<1:\n",
    "        colores.append(\"cyan\")\n",
    "grafico = antiguedad_por_zona['antiguedad promedio (años)'].plot.barh(figsize=(15,10), rot=0,title=\"Antiguedad según provincia\",color=colores)\n",
    "plt.show(grafico)"
   ]
  },
  {
   "cell_type": "markdown",
   "metadata": {},
   "source": [
    "## 4.4 Análisis de precios"
   ]
  },
  {
   "cell_type": "markdown",
   "metadata": {},
   "source": [
    "En esta sección se analizará como afectan al precio de las propiedades diferentes factores. El precio de una propiedad puede variar dependiendo la ubicación, los metros que ocupa, la cantidad de habitaciones, si tiene o no piscina, etc."
   ]
  },
  {
   "cell_type": "markdown",
   "metadata": {},
   "source": [
    "### 4.4.1 Precio de propiedades según provincia"
   ]
  },
  {
   "cell_type": "markdown",
   "metadata": {},
   "source": [
    "En primer lugar veremos cuanto afecta al valor de una propiedad su ubicación, para ello analizaremos el precio promedio de las propiedades según la provincia en la que se ubican."
   ]
  },
  {
   "cell_type": "code",
   "execution_count": 20,
   "metadata": {},
   "outputs": [
    {
     "data": {
      "text/html": [
       "<div>\n",
       "<style scoped>\n",
       "    .dataframe tbody tr th:only-of-type {\n",
       "        vertical-align: middle;\n",
       "    }\n",
       "\n",
       "    .dataframe tbody tr th {\n",
       "        vertical-align: top;\n",
       "    }\n",
       "\n",
       "    .dataframe thead th {\n",
       "        text-align: right;\n",
       "    }\n",
       "</style>\n",
       "<table border=\"1\" class=\"dataframe\">\n",
       "  <thead>\n",
       "    <tr style=\"text-align: right;\">\n",
       "      <th></th>\n",
       "      <th>precio promedio</th>\n",
       "      <th>cant de propiedades</th>\n",
       "    </tr>\n",
       "    <tr>\n",
       "      <th>provincia</th>\n",
       "      <th></th>\n",
       "      <th></th>\n",
       "    </tr>\n",
       "  </thead>\n",
       "  <tbody>\n",
       "    <tr>\n",
       "      <th>Distrito Federal</th>\n",
       "      <td>3,471,705.09</td>\n",
       "      <td>58790</td>\n",
       "    </tr>\n",
       "    <tr>\n",
       "      <th>Edo. de México</th>\n",
       "      <td>2,762,464.91</td>\n",
       "      <td>41607</td>\n",
       "    </tr>\n",
       "    <tr>\n",
       "      <th>Nuevo León</th>\n",
       "      <td>2,717,757.65</td>\n",
       "      <td>15324</td>\n",
       "    </tr>\n",
       "    <tr>\n",
       "      <th>Guerrero</th>\n",
       "      <td>2,548,741.86</td>\n",
       "      <td>2678</td>\n",
       "    </tr>\n",
       "    <tr>\n",
       "      <th>Quintana Roo</th>\n",
       "      <td>2,402,966.94</td>\n",
       "      <td>4756</td>\n",
       "    </tr>\n",
       "    <tr>\n",
       "      <th>Jalisco</th>\n",
       "      <td>2,367,693.58</td>\n",
       "      <td>21238</td>\n",
       "    </tr>\n",
       "    <tr>\n",
       "      <th>Tabasco</th>\n",
       "      <td>2,300,480.23</td>\n",
       "      <td>994</td>\n",
       "    </tr>\n",
       "    <tr>\n",
       "      <th>Puebla</th>\n",
       "      <td>2,298,403.64</td>\n",
       "      <td>10421</td>\n",
       "    </tr>\n",
       "    <tr>\n",
       "      <th>Morelos</th>\n",
       "      <td>2,290,088.01</td>\n",
       "      <td>7337</td>\n",
       "    </tr>\n",
       "    <tr>\n",
       "      <th>Querétaro</th>\n",
       "      <td>2,144,108.90</td>\n",
       "      <td>16988</td>\n",
       "    </tr>\n",
       "    <tr>\n",
       "      <th>Yucatán</th>\n",
       "      <td>2,036,019.84</td>\n",
       "      <td>7928</td>\n",
       "    </tr>\n",
       "    <tr>\n",
       "      <th>Chiapas</th>\n",
       "      <td>1,924,125.72</td>\n",
       "      <td>1126</td>\n",
       "    </tr>\n",
       "    <tr>\n",
       "      <th>San luis Potosí</th>\n",
       "      <td>1,920,424.96</td>\n",
       "      <td>8447</td>\n",
       "    </tr>\n",
       "    <tr>\n",
       "      <th>Veracruz</th>\n",
       "      <td>1,889,788.52</td>\n",
       "      <td>5762</td>\n",
       "    </tr>\n",
       "    <tr>\n",
       "      <th>Guanajuato</th>\n",
       "      <td>1,866,959.43</td>\n",
       "      <td>2860</td>\n",
       "    </tr>\n",
       "    <tr>\n",
       "      <th>Chihuahua</th>\n",
       "      <td>1,744,530.61</td>\n",
       "      <td>4590</td>\n",
       "    </tr>\n",
       "    <tr>\n",
       "      <th>Sinaloa</th>\n",
       "      <td>1,634,571.64</td>\n",
       "      <td>1806</td>\n",
       "    </tr>\n",
       "    <tr>\n",
       "      <th>Tamaulipas</th>\n",
       "      <td>1,589,666.98</td>\n",
       "      <td>2303</td>\n",
       "    </tr>\n",
       "    <tr>\n",
       "      <th>Oaxaca</th>\n",
       "      <td>1,575,517.89</td>\n",
       "      <td>711</td>\n",
       "    </tr>\n",
       "    <tr>\n",
       "      <th>Campeche</th>\n",
       "      <td>1,570,917.82</td>\n",
       "      <td>263</td>\n",
       "    </tr>\n",
       "    <tr>\n",
       "      <th>Colima</th>\n",
       "      <td>1,531,380.16</td>\n",
       "      <td>1008</td>\n",
       "    </tr>\n",
       "    <tr>\n",
       "      <th>Coahuila</th>\n",
       "      <td>1,505,305.45</td>\n",
       "      <td>3695</td>\n",
       "    </tr>\n",
       "    <tr>\n",
       "      <th>Sonora</th>\n",
       "      <td>1,483,715.86</td>\n",
       "      <td>2988</td>\n",
       "    </tr>\n",
       "    <tr>\n",
       "      <th>Michoacán</th>\n",
       "      <td>1,478,503.67</td>\n",
       "      <td>2471</td>\n",
       "    </tr>\n",
       "    <tr>\n",
       "      <th>Aguascalientes</th>\n",
       "      <td>1,477,188.77</td>\n",
       "      <td>1753</td>\n",
       "    </tr>\n",
       "    <tr>\n",
       "      <th>Zacatecas</th>\n",
       "      <td>1,453,747.80</td>\n",
       "      <td>94</td>\n",
       "    </tr>\n",
       "    <tr>\n",
       "      <th>Nayarit</th>\n",
       "      <td>1,426,790.82</td>\n",
       "      <td>1352</td>\n",
       "    </tr>\n",
       "    <tr>\n",
       "      <th>Hidalgo</th>\n",
       "      <td>1,305,550.54</td>\n",
       "      <td>2521</td>\n",
       "    </tr>\n",
       "    <tr>\n",
       "      <th>Baja California Sur</th>\n",
       "      <td>1,216,452.82</td>\n",
       "      <td>1700</td>\n",
       "    </tr>\n",
       "    <tr>\n",
       "      <th>Durango</th>\n",
       "      <td>1,210,388.98</td>\n",
       "      <td>2275</td>\n",
       "    </tr>\n",
       "    <tr>\n",
       "      <th>Tlaxcala</th>\n",
       "      <td>1,080,993.34</td>\n",
       "      <td>839</td>\n",
       "    </tr>\n",
       "    <tr>\n",
       "      <th>Baja California Norte</th>\n",
       "      <td>767,441.75</td>\n",
       "      <td>3220</td>\n",
       "    </tr>\n",
       "  </tbody>\n",
       "</table>\n",
       "</div>"
      ],
      "text/plain": [
       "                           precio promedio  cant de propiedades\n",
       "provincia                                                      \n",
       "Distrito Federal              3,471,705.09                58790\n",
       "Edo. de México                2,762,464.91                41607\n",
       "Nuevo León                    2,717,757.65                15324\n",
       "Guerrero                      2,548,741.86                 2678\n",
       "Quintana Roo                  2,402,966.94                 4756\n",
       "Jalisco                       2,367,693.58                21238\n",
       "Tabasco                       2,300,480.23                  994\n",
       "Puebla                        2,298,403.64                10421\n",
       "Morelos                       2,290,088.01                 7337\n",
       "Querétaro                     2,144,108.90                16988\n",
       "Yucatán                       2,036,019.84                 7928\n",
       "Chiapas                       1,924,125.72                 1126\n",
       "San luis Potosí               1,920,424.96                 8447\n",
       "Veracruz                      1,889,788.52                 5762\n",
       "Guanajuato                    1,866,959.43                 2860\n",
       "Chihuahua                     1,744,530.61                 4590\n",
       "Sinaloa                       1,634,571.64                 1806\n",
       "Tamaulipas                    1,589,666.98                 2303\n",
       "Oaxaca                        1,575,517.89                  711\n",
       "Campeche                      1,570,917.82                  263\n",
       "Colima                        1,531,380.16                 1008\n",
       "Coahuila                      1,505,305.45                 3695\n",
       "Sonora                        1,483,715.86                 2988\n",
       "Michoacán                     1,478,503.67                 2471\n",
       "Aguascalientes                1,477,188.77                 1753\n",
       "Zacatecas                     1,453,747.80                   94\n",
       "Nayarit                       1,426,790.82                 1352\n",
       "Hidalgo                       1,305,550.54                 2521\n",
       "Baja California Sur           1,216,452.82                 1700\n",
       "Durango                       1,210,388.98                 2275\n",
       "Tlaxcala                      1,080,993.34                  839\n",
       "Baja California Norte           767,441.75                 3220"
      ]
     },
     "execution_count": 20,
     "metadata": {},
     "output_type": "execute_result"
    }
   ],
   "source": [
    "precios_promedio = df.groupby('provincia')['precio'].agg(['mean','size'])\n",
    "precios_promedio.columns = ['precio promedio','cant de propiedades']\n",
    "precios_promedio.sort_values('precio promedio', ascending=False)"
   ]
  },
  {
   "cell_type": "markdown",
   "metadata": {},
   "source": [
    "Una provincia se considera cara si el promedio del precio de sus propiedades es mayor a $ 2.500.000. Veamos en una gráfica las provincias más caras para comprar propiedades."
   ]
  },
  {
   "cell_type": "code",
   "execution_count": 21,
   "metadata": {},
   "outputs": [
    {
     "data": {
      "image/png": "[encoded data removed]",
      "text/plain": [
       "<Figure size 1080x360 with 1 Axes>"
      ]
     },
     "metadata": {
      "needs_background": "light"
     },
     "output_type": "display_data"
    }
   ],
   "source": [
    "#gráfico\n",
    "colores=[]\n",
    "for indice,fila in precios_promedio.iterrows():\n",
    "    if fila['precio promedio']>2500000:\n",
    "        colores.append(\"red\")\n",
    "    else:\n",
    "        colores.append(\"blue\")\n",
    "precios_promedio[\"precio promedio\"].plot(kind = 'bar', figsize = (15, 5), rot = 90, title = \"Precio promedio\",color=colores);"
   ]
  },
  {
   "cell_type": "markdown",
   "metadata": {},
   "source": [
    "### 4.4.2 Variación del precio según cantidad de habitaciones"
   ]
  },
  {
   "cell_type": "markdown",
   "metadata": {},
   "source": [
    "Un factor decisivo que influye sobre el precio de las propiedades es la cantidad de las habitaciones de las que dispone. En este apartado se sacarán conclusiones sobre la influencia de este factor en los precios de las propiedades.\n",
    "Para que el análisis sea eficiente se considerarán propiedades donde el resto de las caracteristicas sea similar."
   ]
  },
  {
   "cell_type": "markdown",
   "metadata": {},
   "source": [
    "Por ejemplo: Consideremos solo las con un solo garage y sin piscina. "
   ]
  },
  {
   "cell_type": "code",
   "execution_count": 22,
   "metadata": {},
   "outputs": [
    {
     "data": {
      "text/html": [
       "<div>\n",
       "<style scoped>\n",
       "    .dataframe tbody tr th:only-of-type {\n",
       "        vertical-align: middle;\n",
       "    }\n",
       "\n",
       "    .dataframe tbody tr th {\n",
       "        vertical-align: top;\n",
       "    }\n",
       "\n",
       "    .dataframe thead th {\n",
       "        text-align: right;\n",
       "    }\n",
       "</style>\n",
       "<table border=\"1\" class=\"dataframe\">\n",
       "  <thead>\n",
       "    <tr style=\"text-align: right;\">\n",
       "      <th></th>\n",
       "      <th>cantidad_de_propiedades</th>\n",
       "      <th>precio_promedio</th>\n",
       "    </tr>\n",
       "    <tr>\n",
       "      <th>habitaciones</th>\n",
       "      <th></th>\n",
       "      <th></th>\n",
       "    </tr>\n",
       "  </thead>\n",
       "  <tbody>\n",
       "    <tr>\n",
       "      <th>8.00</th>\n",
       "      <td>47</td>\n",
       "      <td>3,250,536.23</td>\n",
       "    </tr>\n",
       "    <tr>\n",
       "      <th>10.00</th>\n",
       "      <td>32</td>\n",
       "      <td>3,013,125.00</td>\n",
       "    </tr>\n",
       "    <tr>\n",
       "      <th>9.00</th>\n",
       "      <td>16</td>\n",
       "      <td>2,475,625.00</td>\n",
       "    </tr>\n",
       "    <tr>\n",
       "      <th>7.00</th>\n",
       "      <td>82</td>\n",
       "      <td>2,267,552.44</td>\n",
       "    </tr>\n",
       "    <tr>\n",
       "      <th>6.00</th>\n",
       "      <td>287</td>\n",
       "      <td>2,134,535.45</td>\n",
       "    </tr>\n",
       "    <tr>\n",
       "      <th>5.00</th>\n",
       "      <td>691</td>\n",
       "      <td>1,903,298.44</td>\n",
       "    </tr>\n",
       "    <tr>\n",
       "      <th>4.00</th>\n",
       "      <td>2917</td>\n",
       "      <td>1,847,613.37</td>\n",
       "    </tr>\n",
       "    <tr>\n",
       "      <th>3.00</th>\n",
       "      <td>13455</td>\n",
       "      <td>1,313,202.85</td>\n",
       "    </tr>\n",
       "    <tr>\n",
       "      <th>2.00</th>\n",
       "      <td>11719</td>\n",
       "      <td>677,937.53</td>\n",
       "    </tr>\n",
       "    <tr>\n",
       "      <th>1.00</th>\n",
       "      <td>696</td>\n",
       "      <td>676,522.33</td>\n",
       "    </tr>\n",
       "  </tbody>\n",
       "</table>\n",
       "</div>"
      ],
      "text/plain": [
       "              cantidad_de_propiedades      precio_promedio\n",
       "habitaciones                                              \n",
       " 8.00                              47         3,250,536.23\n",
       "10.00                              32         3,013,125.00\n",
       " 9.00                              16         2,475,625.00\n",
       " 7.00                              82         2,267,552.44\n",
       " 6.00                             287         2,134,535.45\n",
       " 5.00                             691         1,903,298.44\n",
       " 4.00                            2917         1,847,613.37\n",
       " 3.00                           13455         1,313,202.85\n",
       " 2.00                           11719           677,937.53\n",
       " 1.00                             696           676,522.33"
      ]
     },
     "execution_count": 22,
     "metadata": {},
     "output_type": "execute_result"
    }
   ],
   "source": [
    "df_resultados = df.loc[df.tipodepropiedad == 'Casa',:].loc[df.garages == 1].loc[df.piscina==0]\\\n",
    ".groupby('habitaciones')['precio'].agg(['size','mean'])\n",
    "\n",
    "df_resultados.columns = ['cantidad_de_propiedades','precio_promedio']\n",
    "df_resultados.sort_values('precio_promedio', ascending=False)"
   ]
  },
  {
   "cell_type": "code",
   "execution_count": 23,
   "metadata": {},
   "outputs": [
    {
     "ename": "AttributeError",
     "evalue": "'tuple' object has no attribute 'find'",
     "output_type": "error",
     "traceback": [
      "\u001b[0;31m---------------------------------------------------------------------------\u001b[0m",
      "\u001b[0;31mAttributeError\u001b[0m                            Traceback (most recent call last)",
      "\u001b[0;32m<ipython-input-23-4d041f7ecf1f>\u001b[0m in \u001b[0;36m<module>\u001b[0;34m()\u001b[0m\n\u001b[0;32m----> 1\u001b[0;31m \u001b[0mgrafico\u001b[0m\u001b[0;34m=\u001b[0m \u001b[0mplt\u001b[0m\u001b[0;34m.\u001b[0m\u001b[0mstem\u001b[0m\u001b[0;34m(\u001b[0m\u001b[0mdf_resultados\u001b[0m\u001b[0;34m.\u001b[0m\u001b[0mindex\u001b[0m\u001b[0;34m,\u001b[0m\u001b[0mdf_resultados\u001b[0m\u001b[0;34m[\u001b[0m\u001b[0;34m\"precio_promedio\"\u001b[0m\u001b[0;34m]\u001b[0m\u001b[0;34m,\u001b[0m\u001b[0mlinefmt\u001b[0m\u001b[0;34m=\u001b[0m\u001b[0;34m(\u001b[0m\u001b[0;34m\"grey\"\u001b[0m\u001b[0;34m,\u001b[0m\u001b[0;34m\":\"\u001b[0m\u001b[0;34m)\u001b[0m\u001b[0;34m)\u001b[0m\u001b[0;34m\u001b[0m\u001b[0;34m\u001b[0m\u001b[0m\n\u001b[0m\u001b[1;32m      2\u001b[0m \u001b[0mplt\u001b[0m\u001b[0;34m.\u001b[0m\u001b[0mshow\u001b[0m\u001b[0;34m(\u001b[0m\u001b[0mgrafico\u001b[0m\u001b[0;34m)\u001b[0m\u001b[0;34m\u001b[0m\u001b[0;34m\u001b[0m\u001b[0m\n",
      "\u001b[0;32m/usr/local/lib/python2.7/dist-packages/matplotlib/pyplot.pyc\u001b[0m in \u001b[0;36mstem\u001b[0;34m(*args, **kwargs)\u001b[0m\n\u001b[1;32m   3580\u001b[0m                       mplDeprecation)\n\u001b[1;32m   3581\u001b[0m     \u001b[0;32mtry\u001b[0m\u001b[0;34m:\u001b[0m\u001b[0;34m\u001b[0m\u001b[0;34m\u001b[0m\u001b[0m\n\u001b[0;32m-> 3582\u001b[0;31m         \u001b[0mret\u001b[0m \u001b[0;34m=\u001b[0m \u001b[0max\u001b[0m\u001b[0;34m.\u001b[0m\u001b[0mstem\u001b[0m\u001b[0;34m(\u001b[0m\u001b[0;34m*\u001b[0m\u001b[0margs\u001b[0m\u001b[0;34m,\u001b[0m \u001b[0;34m**\u001b[0m\u001b[0mkwargs\u001b[0m\u001b[0;34m)\u001b[0m\u001b[0;34m\u001b[0m\u001b[0;34m\u001b[0m\u001b[0m\n\u001b[0m\u001b[1;32m   3583\u001b[0m     \u001b[0;32mfinally\u001b[0m\u001b[0;34m:\u001b[0m\u001b[0;34m\u001b[0m\u001b[0;34m\u001b[0m\u001b[0m\n\u001b[1;32m   3584\u001b[0m         \u001b[0max\u001b[0m\u001b[0;34m.\u001b[0m\u001b[0m_hold\u001b[0m \u001b[0;34m=\u001b[0m \u001b[0mwashold\u001b[0m\u001b[0;34m\u001b[0m\u001b[0;34m\u001b[0m\u001b[0m\n",
      "\u001b[0;32m/usr/local/lib/python2.7/dist-packages/matplotlib/__init__.pyc\u001b[0m in \u001b[0;36minner\u001b[0;34m(ax, *args, **kwargs)\u001b[0m\n\u001b[1;32m   1865\u001b[0m                         \u001b[0;34m\"the Matplotlib list!)\"\u001b[0m \u001b[0;34m%\u001b[0m \u001b[0;34m(\u001b[0m\u001b[0mlabel_namer\u001b[0m\u001b[0;34m,\u001b[0m \u001b[0mfunc\u001b[0m\u001b[0;34m.\u001b[0m\u001b[0m__name__\u001b[0m\u001b[0;34m)\u001b[0m\u001b[0;34m,\u001b[0m\u001b[0;34m\u001b[0m\u001b[0;34m\u001b[0m\u001b[0m\n\u001b[1;32m   1866\u001b[0m                         RuntimeWarning, stacklevel=2)\n\u001b[0;32m-> 1867\u001b[0;31m             \u001b[0;32mreturn\u001b[0m \u001b[0mfunc\u001b[0m\u001b[0;34m(\u001b[0m\u001b[0max\u001b[0m\u001b[0;34m,\u001b[0m \u001b[0;34m*\u001b[0m\u001b[0margs\u001b[0m\u001b[0;34m,\u001b[0m \u001b[0;34m**\u001b[0m\u001b[0mkwargs\u001b[0m\u001b[0;34m)\u001b[0m\u001b[0;34m\u001b[0m\u001b[0;34m\u001b[0m\u001b[0m\n\u001b[0m\u001b[1;32m   1868\u001b[0m \u001b[0;34m\u001b[0m\u001b[0m\n\u001b[1;32m   1869\u001b[0m         inner.__doc__ = _add_data_doc(inner.__doc__,\n",
      "\u001b[0;32m/usr/local/lib/python2.7/dist-packages/matplotlib/axes/_axes.pyc\u001b[0m in \u001b[0;36mstem\u001b[0;34m(self, *args, **kwargs)\u001b[0m\n\u001b[1;32m   2699\u001b[0m                     \u001b[0m_process_plot_format\u001b[0m\u001b[0;34m(\u001b[0m\u001b[0mlinefmt\u001b[0m\u001b[0;34m)\u001b[0m\u001b[0;34m\u001b[0m\u001b[0;34m\u001b[0m\u001b[0m\n\u001b[1;32m   2700\u001b[0m         \u001b[0;32melse\u001b[0m\u001b[0;34m:\u001b[0m\u001b[0;34m\u001b[0m\u001b[0;34m\u001b[0m\u001b[0m\n\u001b[0;32m-> 2701\u001b[0;31m             \u001b[0mlinestyle\u001b[0m\u001b[0;34m,\u001b[0m \u001b[0mlinemarker\u001b[0m\u001b[0;34m,\u001b[0m \u001b[0mlinecolor\u001b[0m \u001b[0;34m=\u001b[0m \u001b[0m_process_plot_format\u001b[0m\u001b[0;34m(\u001b[0m\u001b[0mlinefmt\u001b[0m\u001b[0;34m)\u001b[0m\u001b[0;34m\u001b[0m\u001b[0;34m\u001b[0m\u001b[0m\n\u001b[0m\u001b[1;32m   2702\u001b[0m \u001b[0;34m\u001b[0m\u001b[0m\n\u001b[1;32m   2703\u001b[0m         \u001b[0;32mif\u001b[0m \u001b[0mmarkerfmt\u001b[0m \u001b[0;32mis\u001b[0m \u001b[0mNone\u001b[0m\u001b[0;34m:\u001b[0m\u001b[0;34m\u001b[0m\u001b[0;34m\u001b[0m\u001b[0m\n",
      "\u001b[0;32m/usr/local/lib/python2.7/dist-packages/matplotlib/axes/_base.pyc\u001b[0m in \u001b[0;36m_process_plot_format\u001b[0;34m(fmt)\u001b[0m\n\u001b[1;32m     92\u001b[0m     \u001b[0;31m# handle the multi char special cases and strip them from the\u001b[0m\u001b[0;34m\u001b[0m\u001b[0;34m\u001b[0m\u001b[0;34m\u001b[0m\u001b[0m\n\u001b[1;32m     93\u001b[0m     \u001b[0;31m# string\u001b[0m\u001b[0;34m\u001b[0m\u001b[0;34m\u001b[0m\u001b[0;34m\u001b[0m\u001b[0m\n\u001b[0;32m---> 94\u001b[0;31m     \u001b[0;32mif\u001b[0m \u001b[0mfmt\u001b[0m\u001b[0;34m.\u001b[0m\u001b[0mfind\u001b[0m\u001b[0;34m(\u001b[0m\u001b[0;34m'--'\u001b[0m\u001b[0;34m)\u001b[0m \u001b[0;34m>=\u001b[0m \u001b[0;36m0\u001b[0m\u001b[0;34m:\u001b[0m\u001b[0;34m\u001b[0m\u001b[0;34m\u001b[0m\u001b[0m\n\u001b[0m\u001b[1;32m     95\u001b[0m         \u001b[0mlinestyle\u001b[0m \u001b[0;34m=\u001b[0m \u001b[0;34m'--'\u001b[0m\u001b[0;34m\u001b[0m\u001b[0;34m\u001b[0m\u001b[0m\n\u001b[1;32m     96\u001b[0m         \u001b[0mfmt\u001b[0m \u001b[0;34m=\u001b[0m \u001b[0mfmt\u001b[0m\u001b[0;34m.\u001b[0m\u001b[0mreplace\u001b[0m\u001b[0;34m(\u001b[0m\u001b[0;34m'--'\u001b[0m\u001b[0;34m,\u001b[0m \u001b[0;34m''\u001b[0m\u001b[0;34m)\u001b[0m\u001b[0;34m\u001b[0m\u001b[0;34m\u001b[0m\u001b[0m\n",
      "\u001b[0;31mAttributeError\u001b[0m: 'tuple' object has no attribute 'find'"
     ]
    },
    {
     "data": {
      "image/png": "[encoded data removed]",
      "text/plain": [
       "<Figure size 432x288 with 1 Axes>"
      ]
     },
     "metadata": {
      "needs_background": "light"
     },
     "output_type": "display_data"
    }
   ],
   "source": [
    "grafico= plt.stem(df_resultados.index,df_resultados[\"precio_promedio\"],linefmt=(\"grey\",\":\"))\n",
    "plt.show(grafico)"
   ]
  },
  {
   "cell_type": "markdown",
   "metadata": {},
   "source": [
    "### 4.4.3 El impacto de las piscinas en el precio "
   ]
  },
  {
   "cell_type": "markdown",
   "metadata": {},
   "source": [
    "Uno de los factores para tener en cuenta a la hora de comprar una casa es si esta tiene o no piscina.\n",
    "Veamos que porcentaje de casas tienen piscina sabiendo que tener piscina en una casa es un gusto y no algo fundamental."
   ]
  },
  {
   "cell_type": "code",
   "execution_count": null,
   "metadata": {},
   "outputs": [],
   "source": [
    "df_aux1 = df.loc[df.tipodepropiedad == 'Casa',['precio','piscina']].groupby('piscina')['precio'].agg(['mean','size'])\n",
    "df_aux1.columns=['precio promedio','cantidad']\n",
    "total = df_aux1['cantidad'].sum()\n",
    "df_aux1['porcentaje'] = ((df_aux1['cantidad']*100)/total)\n",
    "df_aux1"
   ]
  },
  {
   "cell_type": "code",
   "execution_count": null,
   "metadata": {},
   "outputs": [],
   "source": [
    "#Gráfico1\n",
    "grafico = plt.pie(df_aux1['cantidad'],labels=['Sin piscina','Con piscina'],colors=['coral','lightblue'],autopct='%1.1f%%', shadow=False,pctdistance=0.6,radius=2, labeldistance=1.1)\n",
    "plt.title(\"Cantidad de casas\")\n",
    "plt.show(grafico)\n",
    "\n",
    "#Grafico 2\n",
    "df_aux1[\"precio promedio\"].plot(kind = 'bar', figsize = (5, 5), rot = 90, title = \"Precio promedio de las casas con y sin psicina\",color=['coral','lightblue']);"
   ]
  },
  {
   "cell_type": "markdown",
   "metadata": {},
   "source": [
    "Ahora veamos como impacta en el precio si se desea adquirir una Quinta Vacacional, lugar donde ya es más importante que esta cuente\n",
    "con una piscina ya que es un lugar que la gente utiliza para relajarse en sus vacaciones"
   ]
  },
  {
   "cell_type": "code",
   "execution_count": null,
   "metadata": {},
   "outputs": [],
   "source": [
    "df_aux2 = df.loc[df.tipodepropiedad == 'Quinta Vacacional',['precio','piscina']].groupby('piscina')['precio'].agg(['mean','size'])\n",
    "df_aux2.columns = ['precio promedio','cantidad']\n",
    "total = df_aux2['cantidad'].sum()\n",
    "df_aux2['porcentaje'] = ((df_aux2['cantidad']*100)/total)\n",
    "df_aux2"
   ]
  },
  {
   "cell_type": "code",
   "execution_count": null,
   "metadata": {},
   "outputs": [],
   "source": [
    "#Gráfico1\n",
    "grafico = plt.pie(df_aux2['porcentaje'],labels=['Sin piscina','Con piscina'],colors=['coral','lightblue',],autopct='%1.1f%%', shadow=False,pctdistance=0.6,radius=2, labeldistance=1.1)\n",
    "plt.title(\"Cantidad de quintas vacacionales\")\n",
    "plt.show(grafico)\n",
    "\n",
    "#Grafico 2\n",
    "df_aux2[\"precio promedio\"].plot(kind = 'bar', figsize = (5, 5), rot = 90, title = \"Precio promedio de quintas vacacionales según psicina\",color=['lightblue','coral']);"
   ]
  },
  {
   "cell_type": "markdown",
   "metadata": {},
   "source": [
    "**Conclusion:** Tanto para las casas como para las quintas vacacionales,en general, el precio se ve incrementado si la propiedad tiene piscina. Notamos que hay una mayor proporcion de quintas vacacionales que tiene piscina con respecto a la proporcion de cantidad de casas que las tienen."
   ]
  },
  {
   "cell_type": "markdown",
   "metadata": {},
   "source": [
    "### 4.4.4  El impacto de poseer garage en el precio"
   ]
  },
  {
   "cell_type": "markdown",
   "metadata": {},
   "source": [
    "Otro factor que influye sobre el precio es si la propiedad posee o no garage. En éste apartado se analizará la variación del precio de la propiedad con garage respecto a si no lo posee. Se asume que el precio de una propiedad con garage es mayor que la misma si no lo tuviera\n"
   ]
  },
  {
   "cell_type": "markdown",
   "metadata": {},
   "source": [
    "En apartados anteriores se analizó el impacto de la ubicación de la propiedad y la cantidad de habitaciones en el precio de la propiedad. Para ampliar ésta información, el análisis de los cambios en el precio se realizarán en las propiedades agrupadas segun la provincia en la que se encuentran y en la cantidad de habitaciones que poseén."
   ]
  },
  {
   "cell_type": "code",
   "execution_count": null,
   "metadata": {},
   "outputs": [],
   "source": [
    "df_garages = df.groupby(['provincia','habitaciones','garages']).agg({'precio':'mean'})\n",
    "\n",
    "#Algunos ejemplos\n",
    "\n",
    "df_garages.loc['Distrito Federal']\n",
    "ej1 = df_garages.loc['Distrito Federal'].loc[1]\n",
    "ej2 = df_garages.loc['Edo. de México'].loc[3]\n",
    "ej3 = df_garages.loc['Jalisco'].loc[4]\n",
    "ej4 = df_garages.loc['Nuevo León'].loc[5]\n",
    "\n",
    "plt.show(ej1.plot(kind=\"bar\",title= \"Distrito Federal, 1 Habitación\", color= \"blue\"))\n",
    "plt.show(ej2.plot(kind=\"bar\",title= \"Estado de Mexico, 3 Habitaciónes\", color= \"red\"))\n",
    "plt.show(ej3.plot(kind=\"bar\",title= \"Jalisco, 4 Habitaciónes\", color= \"green\"))\n",
    "plt.show(ej4.plot(kind=\"bar\",title= \"Nuevo León, 5 Habitaciónes\", color= \"yellow\"))"
   ]
  },
  {
   "cell_type": "markdown",
   "metadata": {},
   "source": [
    "Se analizaron algunos ejemplos al azar y se puede observar que para todos ellos la tendencia es a que el precio suba a medida que aumentamos el numero de garages, sin embargo, tanto para el Estado de méxico como para Jalisco se ve una disminución significativa del precio cuando las propiedades tienen un solo garage."
   ]
  },
  {
   "cell_type": "markdown",
   "metadata": {},
   "source": [
    "Vimos como variaba el precio si teníamos un numéro de habitaciones fijo y aumentabamos el numero de garages. Ahora veamos como varía el precio si dejemos el numero de garages fijo y aumentemos el numero de habitaciones."
   ]
  },
  {
   "cell_type": "code",
   "execution_count": null,
   "metadata": {},
   "outputs": [],
   "source": [
    "###y el analisis?"
   ]
  },
  {
   "cell_type": "markdown",
   "metadata": {},
   "source": [
    "### 4.4.5 Como afectan el salón de usos múltiples de la propiedad al precio"
   ]
  },
  {
   "cell_type": "markdown",
   "metadata": {},
   "source": [
    "### Efecto del salón de usos multiples sobre el precio de propiedades de características similares"
   ]
  },
  {
   "cell_type": "markdown",
   "metadata": {},
   "source": [
    "Queremos ver el efecto de que la propiedad posea un SUM en comparación con su precio, para propiedades de características similares. Para ello, se fija la propiedad y la cantidad de habitaciones, y se compara el promedio de los valores de ambos grupos (con uso multiple y sin uso multiple). Puede ocurrir que para alguna combinación de cantidad de habitaciones con ubicación, no se dispongan de datos suficientes para realizar la comparación. En tal caso la información obtenida reflejará esta situación, mostrando una variación del 0%."
   ]
  },
  {
   "cell_type": "code",
   "execution_count": null,
   "metadata": {},
   "outputs": [],
   "source": [
    "df_variacion_precio_usos=df.groupby(['provincia','habitaciones','usosmultiples']).agg({'precio':'mean'})\n",
    "df_variacion_precio_usos.index\n",
    "indices_provincia=df_variacion_precio_usos.index.get_level_values(0)\n",
    "\n",
    "#lo siguiente lo hice a mano, porque no esta implementada una forma de hacer join con multiindices en pandas\n",
    "\n",
    "dicc={}\n",
    "\n",
    "#consigo todas las provincias que se tienen que recorrer\n",
    "indicesProvincias=df_variacion_precio_usos.index.get_level_values(0)\n",
    "#recorro las provincias\n",
    "for provincia in indicesProvincias:\n",
    "    serieDentroDeProvincia=df_variacion_precio_usos.loc[provincia]\n",
    "    indices_habitaciones=serieDentroDeProvincia.index.get_level_values(0)\n",
    "    #recorro las habitaciones dentro de un grupo provincia específico\n",
    "    for habitaciones in indices_habitaciones:\n",
    "        serieDentroDeHabitaciones=serieDentroDeProvincia.loc[habitaciones]\n",
    "        indices_usosMultiples=serieDentroDeHabitaciones.index.values\n",
    "        lista_precios=[]\n",
    "        for usosMultiples in indices_usosMultiples:\n",
    "            lista_precios.append(serieDentroDeHabitaciones.loc[usosMultiples])\n",
    "            \n",
    "        #ahora que tengo todos los precios comparo \n",
    "        #si la longitud de la lista es igual a 1, significa que solamente habia un solo dato\n",
    "        #para esas características\n",
    "        \n",
    "        if len(lista_precios)==1:\n",
    "            dicc[(provincia,habitaciones)]=0\n",
    "        else:\n",
    "            #la comparación se hace respecto al precio sin uso multiple\n",
    "            precioSinUso=float(lista_precios[0])\n",
    "            precioConUso=float(lista_precios[1])\n",
    "            diferencia=float(abs(precioSinUso-precioConUso))\n",
    "            porcentajeVariacion=round(((diferencia/precioSinUso)*100),2)\n",
    "            dicc[(provincia,habitaciones)]=porcentajeVariacion\n",
    "\n",
    "            \n",
    "#y ahora queda mostrar la info:\n",
    "df_muestra=pd.DataFrame(list(dicc.items()))\n",
    "df_muestra.columns=['Provincia,cantidad de habitaciones','variacion en %']\n",
    "df_muestra"
   ]
  },
  {
   "cell_type": "markdown",
   "metadata": {},
   "source": [
    "Podemos focalizarnos en los casos particulares de propiedades con mayor varianza de precio por tener o no salon de usos múltiples."
   ]
  },
  {
   "cell_type": "code",
   "execution_count": null,
   "metadata": {},
   "outputs": [],
   "source": [
    "df_muestra.loc[df_muestra['variacion en %'] != 0].sort_values('variacion en %', ascending = False).head(20).set_index('Provincia,cantidad de habitaciones').plot(kind = 'bar', rot = 70, title = \"Los 20 Tipos de propiedades con mayor varianza\")"
   ]
  },
  {
   "cell_type": "code",
   "execution_count": null,
   "metadata": {},
   "outputs": [],
   "source": [
    "#se lo pone más bonito\n",
    "df_muestra.columns=['provincia, habitaciones','variacion precio en %']\n",
    "#sacamos los ceros, porque no nos aportan informacion para el promedio\n",
    "df_muestra=df_muestra[df_muestra.loc[:,'variacion precio en %']!=0]\n",
    "variacion=round(float(df_muestra.apply('mean')),2)\n",
    "print(\"Hay una variación promedio de : \"+ str(variacion)+\"%\")"
   ]
  },
  {
   "cell_type": "markdown",
   "metadata": {},
   "source": [
    "Entonces se puede concluir que, en condiciones iguales de ubicación y cantidad de habitaciones, el que una propiedad tenga usos múltiples se traduce en una variación del precio de la misma de un 56,4% respecto de si no tuviera usos múltiples."
   ]
  },
  {
   "cell_type": "markdown",
   "metadata": {},
   "source": [
    "### 4.4.6 Precio de la propiedad segun según su antiguedad"
   ]
  },
  {
   "cell_type": "markdown",
   "metadata": {},
   "source": [
    "Nos interesa saber como se ve afectado el precio de la propiedad basado en la antigüedad de la misma."
   ]
  },
  {
   "cell_type": "markdown",
   "metadata": {},
   "source": [
    "**Caso 1:** Análisis directamente la variación en el valor de la propiedad según la antiguedad de la misma, despreciando el efecto en el precio que pueda ocasionar cualquier otro factor."
   ]
  },
  {
   "cell_type": "code",
   "execution_count": null,
   "metadata": {},
   "outputs": [],
   "source": [
    "#Tabla\n",
    "df_propiedades_antiguedad=df.groupby('antiguedad')['precio'].agg(['mean','size'])\n",
    "df_propiedades_antiguedad.columns=['precio promedio','cantidad']\n",
    "df_propiedades_antiguedad = df_propiedades_antiguedad.loc[df_propiedades_antiguedad.cantidad > 100] #flitrar"
   ]
  },
  {
   "cell_type": "code",
   "execution_count": null,
   "metadata": {},
   "outputs": [],
   "source": [
    "#Gráfico\n",
    "df_propiedades_antiguedad['precio promedio'].plot(figsize = (15,5), rot = 90, title = \"Precio promedio\",color=\"Red\")"
   ]
  },
  {
   "cell_type": "markdown",
   "metadata": {},
   "source": [
    "**Caso 2:** Vimos como la cantidad de habitaciones es un factor influyente en el precio de una propiedad. Realicemos un análisis del valor de la propiedad en función de la antiguedad y el número de habitaciones de la propiedad."
   ]
  },
  {
   "cell_type": "code",
   "execution_count": null,
   "metadata": {},
   "outputs": [],
   "source": [
    "#Comparemos el comportamiento del precio en funcion de la antiguedad para propiedades con 1, 5 y 8 habitaciones.\n",
    "\n",
    "df_antiguedad_habitaciones = df.groupby(['habitaciones','antiguedad'])['precio'].agg(['mean','size'])\n",
    "df_antiguedad_habitaciones.columns = ['precio promedio','cantidad']\n",
    "plt.plot(df_antiguedad_habitaciones.loc[8]['precio promedio'],color=\"red\")\n",
    "plt.plot(df_antiguedad_habitaciones.loc[5]['precio promedio'],color=\"blue\")\n",
    "plt.plot(df_antiguedad_habitaciones.loc[1]['precio promedio'],color=\"green\")\n",
    "plt.show()"
   ]
  },
  {
   "cell_type": "markdown",
   "metadata": {},
   "source": [
    "En general si comparamos dos propiedades con la misma antiguedad, el precio es mayor para la que tiene mas cantidad de habitaciones, por ello la linea azul esta casi siempre ensima de la roja, y la roja ensima de la verde. El precio mas alto de todos (solo considerando estos casos) se alcanza para una porpiedad de aproximadamente 60 años con 8 \n",
    "habitaciones mientras que el más bajo se alcanza para una propiedad de aproximadamente 13 o 14 años con 5 habitaciones."
   ]
  },
  {
   "cell_type": "markdown",
   "metadata": {},
   "source": [
    "### 4.4.7 ¿Es influyente la cercanía a centros comerciales en el precio de la propiedad?"
   ]
  },
  {
   "cell_type": "markdown",
   "metadata": {},
   "source": [
    "Dentro de una misma ciudad las propiedades pueden ubicarse en diferentes zonas. Veamos como afecta esto a los diferentes tipos de propiedades."
   ]
  },
  {
   "cell_type": "markdown",
   "metadata": {},
   "source": [
    "Para esto separemos a las propiedades en tres grupos diferentes: "
   ]
  },
  {
   "cell_type": "markdown",
   "metadata": {},
   "source": [
    "**GRUPO 1:** tipos de propiedades que la gente utiliza para vivir, como ser casas, departamente, condominios,etc."
   ]
  },
  {
   "cell_type": "markdown",
   "metadata": {},
   "source": [
    "**GRUPO 2:** comercios, como ser local comercial, oficina comercial, etc."
   ]
  },
  {
   "cell_type": "markdown",
   "metadata": {},
   "source": [
    "**GRUPO 3:** locales industriales."
   ]
  },
  {
   "cell_type": "markdown",
   "metadata": {},
   "source": [
    "**OBS:** Las propiedades que no perenezcan a alguna de estas categorias no se tendran en cuenta para este análisis."
   ]
  },
  {
   "cell_type": "code",
   "execution_count": null,
   "metadata": {},
   "outputs": [],
   "source": [
    "comercios = ['Local Comercial','Oficina comercial','Bodega comercial','Terreno comercial']\n",
    "industrias = ['Inmuebles productivos urbanos', 'Nave industrial','Terreno industrial','Casa uso de suelo']\n",
    "viviendas = ['Casa','Apartamento', 'Casa en condominio', 'Quinta Vacacional', 'Duplex','Departamento Compartido','Hospedaje']"
   ]
  },
  {
   "cell_type": "markdown",
   "metadata": {},
   "source": [
    "**¿Cómo afecta a los comercios?**"
   ]
  },
  {
   "cell_type": "code",
   "execution_count": null,
   "metadata": {},
   "outputs": [],
   "source": [
    "comercio_precio_promedio_lejanas = df.loc[df.tipodepropiedad.isin(comercios)]\\\n",
    ".loc[df.centroscomercialescercanos == 0]['precio'].mean()#.round(2)\n",
    "\n",
    "comercio_precio_promedio_cercanas = df.loc[df.tipodepropiedad.isin(comercios)]\\\n",
    ".loc[df.centroscomercialescercanos > 0]['precio'].mean()#.round(2)\n",
    "\n",
    "print('Promedio de precio propiedades lejanas a Centros comerciales: ' + str(comercio_precio_promedio_lejanas))\n",
    "print('Promedio de precio propiedades cercanas a Centros comerciales: ' + str(comercio_precio_promedio_cercanas))"
   ]
  },
  {
   "cell_type": "markdown",
   "metadata": {},
   "source": [
    "---"
   ]
  },
  {
   "cell_type": "markdown",
   "metadata": {},
   "source": [
    "**¿Cómo afecta a las viviendas?**"
   ]
  },
  {
   "cell_type": "code",
   "execution_count": null,
   "metadata": {},
   "outputs": [],
   "source": [
    "viviendas_precio_promedio_lejanas = df.loc[df.tipodepropiedad.isin(viviendas)]\\\n",
    ".loc[df.centroscomercialescercanos == 0]['precio'].mean()#.round(2)\n",
    "\n",
    "viviendas_precio_promedio_cercanas = df.loc[df.tipodepropiedad.isin(viviendas)]\\\n",
    ".loc[df.centroscomercialescercanos > 0]['precio'].mean()#.round(2)\n",
    "\n",
    "print('Promedio de precio propiedades lejanas a Centros comerciales: ' + str(viviendas_precio_promedio_lejanas))\n",
    "print('Promedio de precio propiedades cercanas a Centros comerciales: ' + str(viviendas_precio_promedio_cercanas))"
   ]
  },
  {
   "cell_type": "markdown",
   "metadata": {},
   "source": [
    "---"
   ]
  },
  {
   "cell_type": "markdown",
   "metadata": {},
   "source": [
    "**¿Cómo afecta a las propiedes destinadas a la industria?**"
   ]
  },
  {
   "cell_type": "code",
   "execution_count": null,
   "metadata": {},
   "outputs": [],
   "source": [
    "industria_precio_promedio_lejanas = df.loc[df.tipodepropiedad.isin(industrias)]\\\n",
    ".loc[df.centroscomercialescercanos == 0]['precio'].mean()#.round(2)\n",
    "\n",
    "industria_precio_promedio_cercanas= df.loc[df.tipodepropiedad.isin(industrias)]\\\n",
    ".loc[df.centroscomercialescercanos > 0]['precio'].mean()#.round(2)\n",
    "\n",
    "print('Promedio de precio propiedades lejanas a Centros comerciales: ' + str(industria_precio_promedio_lejanas))\n",
    "print('Promedio de precio propiedades cercanas a Centros comerciales: ' + str(industria_precio_promedio_cercanas))"
   ]
  },
  {
   "cell_type": "markdown",
   "metadata": {},
   "source": [
    "Para poder hacer un analisis general de estos resultados procedamos a volcarlos en una tabla y un grafico comparativo."
   ]
  },
  {
   "cell_type": "code",
   "execution_count": null,
   "metadata": {},
   "outputs": [],
   "source": [
    "resultados = pd.DataFrame([['Comercio', comercio_precio_promedio_cercanas, comercio_precio_promedio_lejanas],\n",
    "                            ['Viviendas', viviendas_precio_promedio_cercanas, viviendas_precio_promedio_lejanas],\n",
    "                            ['Industria', industria_precio_promedio_cercanas, industria_precio_promedio_lejanas]],\n",
    "            columns = ['Tipo de propiedades', 'con Centros Comerciales cercanos', 'con Centros Comerciales lejanos']).set_index('Tipo de propiedades')\n",
    "resultados"
   ]
  },
  {
   "cell_type": "code",
   "execution_count": null,
   "metadata": {},
   "outputs": [],
   "source": [
    "resultados.plot(kind = 'bar', figsize = (10, 5), rot = 0, title = \"Comparativa del precio promedio de cada tipo de propiedad respecto a la cercania a centros comerciales\")"
   ]
  },
  {
   "cell_type": "markdown",
   "metadata": {},
   "source": [
    "**Conclusión:** Se puede ver como en todos los casos las propiedades que poseen centros comerciales cercanos son en promedio más caras. Sin embargo para lo que es viviendas, la diferencia no es tan notoria como si lo es para las propiedades destinadas al comercio y a la industria."
   ]
  },
  {
   "cell_type": "markdown",
   "metadata": {},
   "source": [
    "### 4.4.8 ¿Es influyente la cercanía a las escuelas en el precio de la propiedad?"
   ]
  },
  {
   "cell_type": "markdown",
   "metadata": {},
   "source": [
    "Se realiza el mismo análisis del apartado anterior, siendo la cercanía de la propiedad a escuelas y su relación con el precio de la propiedad el objeto de estudio. Las propiedades serán agrupadas nuevamente en los grupos: Industria, Vivienda y Comercio."
   ]
  },
  {
   "cell_type": "code",
   "execution_count": null,
   "metadata": {},
   "outputs": [],
   "source": [
    "#caso comercios\n",
    "comercio_precio_promedio_cercanas = df.loc[df.tipodepropiedad.isin(comercios)]\\\n",
    ".loc[df.escuelascercanas > 0]['precio'].mean()#.round(2)\n",
    "\n",
    "comercio_precio_promedio_lejanas = df.loc[df.tipodepropiedad.isin(comercios)]\\\n",
    ".loc[df.escuelascercanas == 0]['precio'].mean()#.round(2)\n",
    "print('Precio promedio propiedades lejanas a escuelas: ' + str(comercio_precio_promedio_lejanas))\n",
    "print('Precio promedio propiedades cercanas a escuelas: ' + str(comercio_precio_promedio_cercanas))"
   ]
  },
  {
   "cell_type": "code",
   "execution_count": null,
   "metadata": {},
   "outputs": [],
   "source": [
    "# caso viviendas\n",
    "viviendas_precio_promedio_cercanas = df.loc[df.tipodepropiedad.isin(viviendas)]\\\n",
    ".loc[df.escuelascercanas > 0]['precio'].mean()#.round(2)\n",
    "\n",
    "viviendas_precio_promedio_lejanas = df.loc[df.tipodepropiedad.isin(viviendas)]\\\n",
    ".loc[df.escuelascercanas == 0]['precio'].mean()#.round(2)\n",
    "\n",
    "print('Precio promedio propiedades lejanas a escuelas: ' + str(viviendas_precio_promedio_lejanas))\n",
    "print('Precio promedio propiedades cercanas a escuelas: ' + str(viviendas_precio_promedio_cercanas))"
   ]
  },
  {
   "cell_type": "code",
   "execution_count": null,
   "metadata": {},
   "outputs": [],
   "source": [
    "# caso industrias\n",
    "industrias_precio_promedio_cercanas = df.loc[df.tipodepropiedad.isin(industrias)]\\\n",
    ".loc[df.escuelascercanas > 0]['precio'].mean()#.round(2)\n",
    "\n",
    "industrias_precio_promedio_lejanas = df.loc[df.tipodepropiedad.isin(industrias)]\\\n",
    ".loc[df.escuelascercanas == 0]['precio'].mean()#.round(2)\n",
    "print('Precio promedio propieades lejanas a escuelas: ' + str(industrias_precio_promedio_lejanas))\n",
    "print('Precio promedio propiedades cercanas a escuelas: ' + str(industrias_precio_promedio_cercanas))"
   ]
  },
  {
   "cell_type": "markdown",
   "metadata": {},
   "source": [
    "Tal como en el analisis anterior procedamos a volcar los resultados en una tabla y un grafico comparativo."
   ]
  },
  {
   "cell_type": "code",
   "execution_count": null,
   "metadata": {},
   "outputs": [],
   "source": [
    "resultados = pd.DataFrame([['Comercio', comercio_precio_promedio_cercanas, comercio_precio_promedio_lejanas],\n",
    "                            ['Viviendas', viviendas_precio_promedio_cercanas, viviendas_precio_promedio_lejanas],\n",
    "                            ['Industria', industria_precio_promedio_cercanas, industria_precio_promedio_lejanas]],\n",
    "            columns = ['Tipo de propiedades', 'con Escuelas cercanas', 'con Escuelas lejanas']).set_index('Tipo de propiedades')\n",
    "resultados"
   ]
  },
  {
   "cell_type": "code",
   "execution_count": null,
   "metadata": {},
   "outputs": [],
   "source": [
    "resultados.plot(kind = 'bar', figsize = (10, 5), rot = 0, title = \"Comparativa del precio promedio de cada tipo de propiedad respecto a la cercania escuelas\")"
   ]
  },
  {
   "cell_type": "markdown",
   "metadata": {},
   "source": [
    "**Conclusión:** En este caso,las viviendas que no están cerca de las escuelas son ligeramente más caras que las que están cercas. En el caso de los comercios y la industria, estár cerca de una escuela aumenta el precio."
   ]
  },
  {
   "cell_type": "markdown",
   "metadata": {},
   "source": [
    "### 4.4.9 Como aumenta el precio en relación a los metros totales o a los metros ocupados"
   ]
  },
  {
   "cell_type": "markdown",
   "metadata": {},
   "source": [
    "Veremos como afecta la cantidad total de metros al precio, para eso, solo vamos a analizar como afecta a las viviendas (casas, apartamentos, apartamentos compartidos, duplex, etc) para los negocios, y edificios industriales se necesitará un analisis aparte."
   ]
  },
  {
   "cell_type": "markdown",
   "metadata": {},
   "source": [
    "**Precio de las viviendas según sus metros totales**"
   ]
  },
  {
   "cell_type": "code",
   "execution_count": null,
   "metadata": {},
   "outputs": [],
   "source": [
    "#viviendas = ['Casa','Apartamento', 'Casa en condominio', 'Quinta Vacacional', 'Duplex','Casa uso de suelo','Departamento Compartido','Hospedaje']\n",
    "\n",
    "#df_viviendas = df.loc[df.tipodepropiedad.isin(viviendas)].groupby(['metrostotales','tipodepropiedad'])['precio'].agg(['size','mean'])\n",
    "#debemos quedarnos solo con un valor de metros totales, hay varios repetidos, logicamente\n",
    "\n",
    "df_viviendas = df.loc[df.tipodepropiedad.isin(viviendas)].groupby('metrostotales')['precio']\\\n",
    ".agg(['size','mean'])\n",
    "\n",
    "df_viviendas.columns = ['cantidad_de_propiedades','precio_promedio']\n",
    "df_viviendas = df_viviendas.loc[(df_viviendas.cantidad_de_propiedades > 400)] #cambiar el numero para filtrar\n",
    "df_viviendas.sort_values('metrostotales', ascending=False)"
   ]
  },
  {
   "cell_type": "code",
   "execution_count": null,
   "metadata": {},
   "outputs": [],
   "source": [
    "df_viviendas['precio_promedio'].plot(kind='area', figsize=(18, 6), rot=0, title=\"Precio promedio de las viviendas segun los metros totales\");\n",
    "#df_viviendas.plot()\n",
    "#Feo pero no hay nada mejor por ahora"
   ]
  },
  {
   "cell_type": "markdown",
   "metadata": {},
   "source": [
    "---"
   ]
  },
  {
   "cell_type": "markdown",
   "metadata": {},
   "source": [
    "**Precio de los comercios según sus metros totales**"
   ]
  },
  {
   "cell_type": "code",
   "execution_count": null,
   "metadata": {},
   "outputs": [],
   "source": [
    "#comercios = ['Local Comercial','Oficina comercial','Bodega comercial','Terreno comercial'] \n",
    "#Faltaría el \"local en centro comercial\"\n",
    "\n",
    "df_comercios = df.loc[df.tipodepropiedad.isin(comercios)].groupby('metrostotales')['precio']\\\n",
    ".agg(['size','mean'])\n",
    "\n",
    "df_comercios.columns = ['cantidad_de_propiedades','precio_promedio']\n",
    "df_comercios = df_comercios.loc[(df_comercios.cantidad_de_propiedades>50)] #cambiar el numero para filtrar\n",
    "df_comercios.sort_values('precio_promedio', ascending=False)"
   ]
  },
  {
   "cell_type": "code",
   "execution_count": null,
   "metadata": {},
   "outputs": [],
   "source": [
    "df_comercios['precio_promedio'].plot(kind='area', figsize=(18, 6), rot=0, title=\"Precio promedio de las propiedas comerciales segun los metros totales\");"
   ]
  },
  {
   "cell_type": "markdown",
   "metadata": {},
   "source": [
    "---"
   ]
  },
  {
   "cell_type": "markdown",
   "metadata": {},
   "source": [
    "**Precio de los edificios industriales según sus metros totales**"
   ]
  },
  {
   "cell_type": "code",
   "execution_count": null,
   "metadata": {},
   "outputs": [],
   "source": [
    "#industrias = ['Inmuebles productivos urbanos', 'Nave industrial','Terreno industrial','Casa uso de suelo']\n",
    "\n",
    "df_industrias = df.loc[df.tipodepropiedad.isin(industrias)].groupby('metrostotales')['precio']\\\n",
    ".agg(['size','mean'])\n",
    "\n",
    "df_industrias.columns = ['cantidad_de_propiedades','precio_promedio']\n",
    "df_industrias = df_industrias.loc[(df_industrias.cantidad_de_propiedades>5)] #cambiar el numero para filtrar\n",
    "df_industrias.sort_values('precio_promedio', ascending=False)"
   ]
  },
  {
   "cell_type": "code",
   "execution_count": null,
   "metadata": {},
   "outputs": [],
   "source": [
    "df_industrias['precio_promedio'].plot(kind='area', figsize=(18, 6), rot=0, title=\"Precio promedio de las propiedades industriales segun los metros totales\");"
   ]
  },
  {
   "cell_type": "markdown",
   "metadata": {},
   "source": [
    "Convergamos los datos de los 3 graficos para podes contrastar mejor los resultados."
   ]
  },
  {
   "cell_type": "code",
   "execution_count": null,
   "metadata": {},
   "outputs": [],
   "source": [
    "df_viviendas['precio_promedio'].plot(kind='line', figsize=(18, 12), linewidth = 3.0,rot=0, title=\"Precio promedio de las propiedades segun los metros totales\", label = 'Viviendas', legend = ' ');\n",
    "\n",
    "df_comercios['precio_promedio'].plot(kind='line', figsize=(18, 12), linewidth = 3.0, rot=0, label = 'Comercios', legend = ' ');\n",
    "\n",
    "df_industrias['precio_promedio'].plot(kind='line', figsize=(18, 12), linewidth = 3.0, rot=0, label = 'Industria', legend = ' ');"
   ]
  },
  {
   "cell_type": "markdown",
   "metadata": {},
   "source": [
    "## 4.5 Análisis de propiedades"
   ]
  },
  {
   "cell_type": "markdown",
   "metadata": {},
   "source": [
    "Analizaremos algunas caracteristicas sobre las propiedades, estas no dependen de su ubicación pero tal vez podriamos ubicarla en la sección 4.3. Empezaremos con ver cuales son las propiedades con más espacio de todas las opciones que tenemos."
   ]
  },
  {
   "cell_type": "code",
   "execution_count": null,
   "metadata": {},
   "outputs": [],
   "source": [
    "espacio_de_propiedades = df.groupby('tipodepropiedad')['metrostotales'].agg(['size','sum','mean'])\n",
    "espacio_de_propiedades.columns = ['cantidad_de_propiedades','metros_sum','metros_promedio']\n",
    "espacio_de_propiedades.sort_values('metros_promedio', ascending=False)"
   ]
  },
  {
   "cell_type": "code",
   "execution_count": null,
   "metadata": {},
   "outputs": [],
   "source": [
    "dfaux = df.groupby('tipodepropiedad')['metrostotales'].agg(['mean'])\n",
    "\n",
    "dfaux.plot(kind='bar', figsize=(15, 5), rot=70, title=\"Metros promedio\");\n",
    "#me gustaria ordenarlo de mayor a menor pero no\n",
    "#se si asi es mejor"
   ]
  },
  {
   "cell_type": "markdown",
   "metadata": {},
   "source": [
    "Vemos que logicamente, los almacenes industriales son los mas espaciosos, no parece un analisis muy fructífero, así que ahora analizamos los casos por secciones como hicimos antes, empezaremos con las viviendas."
   ]
  },
  {
   "cell_type": "markdown",
   "metadata": {},
   "source": [
    "**Espacio de las viviendas**"
   ]
  },
  {
   "cell_type": "code",
   "execution_count": null,
   "metadata": {},
   "outputs": [],
   "source": [
    "#viviendas = ['Casa','Apartamento', 'Casa en condominio', 'Quinta Vacacional', 'Duplex','Casa uso de suelo','Departamento Compartido','Hospedaje']\n",
    "\n",
    "df_viviendas = df.loc[df.tipodepropiedad.isin(viviendas)].groupby('tipodepropiedad')\\\n",
    ".agg({'metrostotales': ['size', 'sum', 'mean']})\n",
    "\n",
    "df_viviendas.columns = ['cantidad_de_propiedades', 'metros_totales','tamanio_promedio']\n",
    "df_viviendas = df_viviendas.loc[(df_viviendas.cantidad_de_propiedades>100)] #cambiar el numero para filtrar\n",
    "df_viviendas.sort_values('tamanio_promedio', ascending=False)"
   ]
  },
  {
   "cell_type": "code",
   "execution_count": null,
   "metadata": {},
   "outputs": [],
   "source": [
    "dfaux = df.loc[df.tipodepropiedad.isin(viviendas)].groupby('tipodepropiedad')['metrostotales'].agg(['mean'])\n",
    "dfaux.plot(kind='bar', figsize=(15, 5), rot=20, \n",
    "                                       title=\"Metros promedio\"); #estoy podrido de los graficos de barra pero son los \n",
    "#mas faciles de hacer D:"
   ]
  },
  {
   "cell_type": "markdown",
   "metadata": {},
   "source": [
    "---"
   ]
  },
  {
   "cell_type": "markdown",
   "metadata": {},
   "source": [
    "**Espacio de los comercios**"
   ]
  },
  {
   "cell_type": "code",
   "execution_count": null,
   "metadata": {},
   "outputs": [],
   "source": [
    "df_comercios = df.loc[df.tipodepropiedad.isin(comercios)].groupby('tipodepropiedad')\\\n",
    ".agg({'metrostotales': ['size', 'sum', 'mean']})\n",
    "\n",
    "df_comercios.columns = ['cantidad_de_propiedades', 'metros_totales','tamanio_promedio']\n",
    "df_comercios = df_comercios.loc[(df_comercios.cantidad_de_propiedades>0)] #cambiar el numero para filtrar\n",
    "df_comercios.sort_values('tamanio_promedio', ascending=False)"
   ]
  },
  {
   "cell_type": "code",
   "execution_count": null,
   "metadata": {},
   "outputs": [],
   "source": [
    "dfaux = df.loc[df.tipodepropiedad.isin(comercios)].groupby('tipodepropiedad')['metrostotales'].agg(['mean'])\n",
    "dfaux.plot(kind='bar', figsize=(15, 5), rot=0, title=\"Metros promedio\");"
   ]
  },
  {
   "cell_type": "markdown",
   "metadata": {},
   "source": [
    "---"
   ]
  },
  {
   "cell_type": "markdown",
   "metadata": {},
   "source": [
    "**Espacio de los edificios industriales**"
   ]
  },
  {
   "cell_type": "code",
   "execution_count": null,
   "metadata": {},
   "outputs": [],
   "source": [
    "df_industrias = df.loc[df.tipodepropiedad.isin(industrias)].groupby('tipodepropiedad')\\\n",
    ".agg({'metrostotales': ['size', 'sum', 'mean']})\n",
    "\n",
    "df_industrias.columns = ['cantidad_de_propiedades', 'metros_totales','tamanio_promedio']\n",
    "df_industrias = df_industrias.loc[(df_industrias.cantidad_de_propiedades>10)] #cambiar el numero para filtrar\n",
    "df_industrias.sort_values('tamanio_promedio', ascending=False)"
   ]
  },
  {
   "cell_type": "code",
   "execution_count": null,
   "metadata": {},
   "outputs": [],
   "source": [
    "dfaux = df.loc[df.tipodepropiedad.isin(industrias)].groupby('tipodepropiedad')['metrostotales'].agg(['mean'])\n",
    "dfaux.plot(kind='bar', figsize=(15, 5), rot=0, \n",
    "                                       title=\"Metros promedio\");"
   ]
  },
  {
   "cell_type": "markdown",
   "metadata": {},
   "source": [
    "## Analisis de las fechas?"
   ]
  },
  {
   "cell_type": "markdown",
   "metadata": {},
   "source": [
    "Deberiamos hacer analisis utilizando las fechas, ya sea cual es la propiedad con mas tiempo \"en venta\" o la mas reciente o cosas asi"
   ]
  },
  {
   "cell_type": "code",
   "execution_count": null,
   "metadata": {},
   "outputs": [],
   "source": [
    "df2 = df.loc[df.fecha <'2015-08-23 00:00:00'] #Habría que convertir la fecha a tipo datetime?\n",
    "df2.head()"
   ]
  },
  {
   "cell_type": "code",
   "execution_count": null,
   "metadata": {},
   "outputs": [],
   "source": []
  },
  {
   "cell_type": "markdown",
   "metadata": {},
   "source": [
    "## Analisis de latitud y longitud y como afecta al precio"
   ]
  },
  {
   "cell_type": "markdown",
   "metadata": {},
   "source": [
    "Esto deberia estar mas arriba pero como no esta terminado, bue"
   ]
  },
  {
   "cell_type": "code",
   "execution_count": 53,
   "metadata": {},
   "outputs": [
    {
     "name": "stdout",
     "output_type": "stream",
     "text": [
      "latitud máxima: 83.02621885344844\n",
      "latitud mínima: -100.886679\n"
     ]
    }
   ],
   "source": [
    "#analisis de la latitud\n",
    "\n",
    "lat_max=df.loc[:,'lat'].max()\n",
    "lat_min=df.loc[:,'lat'].min()\n",
    "print(\"latitud máxima: \"+ str(lat_max))\n",
    "print(\"latitud mínima: \"+ str(lat_min))\n"
   ]
  },
  {
   "cell_type": "code",
   "execution_count": 56,
   "metadata": {},
   "outputs": [
    {
     "name": "stdout",
     "output_type": "stream",
     "text": [
      "Longitud minima: -125.859375\n",
      "Longitud máxima: 121.036\n"
     ]
    }
   ],
   "source": [
    "#analisis de longitud\n",
    "long_min=df.loc[:,'lng'].min()\n",
    "long_max=df.loc[:,'lng'].max()\n",
    "print(\"Longitud minima: \"+ str(long_min))\n",
    "print(\"Longitud máxima: \"+ str(long_max))"
   ]
  },
  {
   "cell_type": "code",
   "execution_count": 189,
   "metadata": {},
   "outputs": [
    {
     "data": {
      "text/plain": [
       "<matplotlib.axes._subplots.AxesSubplot at 0x7fda01f1ac10>"
      ]
     },
     "execution_count": 189,
     "metadata": {},
     "output_type": "execute_result"
    },
    {
     "data": {
      "image/png": "[encoded data removed]",
      "text/plain": [
       "<Figure size 432x288 with 2 Axes>"
      ]
     },
     "metadata": {
      "needs_background": "light"
     },
     "output_type": "display_data"
    }
   ],
   "source": [
    "#análisis de cantidad de propiedades segun latitud y longitud\n",
    "df_pos_lat_lng=df.groupby([pd.cut(df[\"lat\"],np.arange(-110,100,10)),pd.cut(df['lng'],np.arange(-130,120,10))])\n",
    "df_pos_lat_lng=df_pos_lat_lng.size()\n",
    "df_pos_lat_lng=df_pos_lat_lng.reset_index(level=[0,1])\n",
    "df_pos_lat_lng.columns=['latitud','longitud','cant de propiedades']\n",
    "df_pos_lat_lng\n",
    "#nota: HM==heatmap\n",
    "HM_data1=pd.pivot_table(df_pos_lat_lng,values='cant de propiedades',index='latitud',columns='longitud')\n",
    "sns.heatmap(HM_data1,cmap='inferno_r')"
   ]
  },
  {
   "cell_type": "markdown",
   "metadata": {},
   "source": [
    "me interesa el precio de las propiedades que caen en ciertos intervalos de latitud y longitud. Voy a arrancar por latitud\n",
    "(NOTA PARA MI (TOMÁS):ESTA DESCRIPCION ES TEMPORAL, NO OLVIDAR CAMBIARLO!!!!"
   ]
  },
  {
   "cell_type": "code",
   "execution_count": 100,
   "metadata": {},
   "outputs": [
    {
     "data": {
      "text/plain": [
       "<matplotlib.axes._subplots.AxesSubplot at 0x7fda0ed5a810>"
      ]
     },
     "execution_count": 100,
     "metadata": {},
     "output_type": "execute_result"
    },
    {
     "data": {
      "image/png": "[encoded data removed]",
      "text/plain": [
       "<Figure size 432x288 with 1 Axes>"
      ]
     },
     "metadata": {
      "needs_background": "light"
     },
     "output_type": "display_data"
    }
   ],
   "source": [
    "#voy a tomar rangos 10 para los valores de latitud y longitud\n",
    "#consegui el precio promedio por latitud\n",
    "df_lat_precio_promedio=df.groupby(pd.cut(df[\"lat\"],np.arange(-110,100,10))).agg({'precio':'mean'})\n",
    "\n",
    "#me quedaron nans en aquellos rangos donde no hay propiedades. Se decide reemplazar esos valores por cero\n",
    "df_lat_precio_promedio.fillna(0)\n",
    "#notemos que precio cero == no hay propiedades en ese rango de latitudes\n",
    "df_lat_precio_promedio.columns=['Precio promedio de la propiedad']\n",
    "#hagamos el gráfico\n",
    "df_lat_precio_promedio.plot(kind='bar',title='Precio promedio de una propiedad segun la latitud en la que se encuentre')"
   ]
  },
  {
   "cell_type": "code",
   "execution_count": 97,
   "metadata": {},
   "outputs": [
    {
     "data": {
      "text/plain": [
       "<matplotlib.axes._subplots.AxesSubplot at 0x7fda0f0c9a10>"
      ]
     },
     "execution_count": 97,
     "metadata": {},
     "output_type": "execute_result"
    },
    {
     "data": {
      "image/png": "[encoded data removed]",
      "text/plain": [
       "<Figure size 432x288 with 1 Axes>"
      ]
     },
     "metadata": {
      "needs_background": "light"
     },
     "output_type": "display_data"
    }
   ],
   "source": [
    "#se hace lo mismo para longitud\n",
    "df_long_precio_promedio=df.groupby(pd.cut(df['lng'],np.arange(-130,130,10))).agg({'precio':'mean'})\n",
    "#llenamos los nans nuevamente\n",
    "df_long_precio_promedio=df_long_precio_promedio.fillna(0)\n",
    "df_long_precio_promedio.plot(kind='bar',title='Precio promedio de una propiedad segun la longitud en la que se encuentre')"
   ]
  },
  {
   "cell_type": "code",
   "execution_count": 116,
   "metadata": {},
   "outputs": [
    {
     "data": {
      "text/plain": [
       "<matplotlib.axes._subplots.AxesSubplot at 0x7fda036d97d0>"
      ]
     },
     "execution_count": 116,
     "metadata": {},
     "output_type": "execute_result"
    },
    {
     "data": {
      "image/png": "[encoded data removed]",
      "text/plain": [
       "<Figure size 432x288 with 2 Axes>"
      ]
     },
     "metadata": {
      "needs_background": "light"
     },
     "output_type": "display_data"
    }
   ],
   "source": [
    "### y ahora hago una combinacion de ambos\n",
    "\n",
    "df_precio_lat_lng=df.groupby([pd.cut(df[\"lat\"],np.arange(-110,100,10)),pd.cut(df['lng'],np.arange(-130,120,10))]).agg({'precio':'mean'})\n",
    "df_precio_lat_lng=df_precio_lat_lng.reset_index(level=[0,1])\n",
    "\n",
    "heatmap_data=pd.pivot_table(df_precio_lat_lng,values='precio',index='lat',columns='lng')\n",
    "\n",
    "sns.heatmap(heatmap_data,cmap='YlGnBu')"
   ]
  },
  {
   "cell_type": "code",
   "execution_count": null,
   "metadata": {},
   "outputs": [],
   "source": [
    "#Tomas: aca pongo el analisis de la propiedad basado en los usos multiples. No se muy bien donde ponerlo, hay que\n",
    "#ver bien donde ubicarlo"
   ]
  },
  {
   "cell_type": "markdown",
   "metadata": {},
   "source": [
    "###  analisis de usos multiples\n",
    "\n",
    "\n",
    "\n",
    "\n",
    "\n"
   ]
  },
  {
   "cell_type": "markdown",
   "metadata": {},
   "source": [
    "se analiza cuales valores puede tomar, y cuántos hay de cada uno"
   ]
  },
  {
   "cell_type": "code",
   "execution_count": null,
   "metadata": {},
   "outputs": [],
   "source": [
    "df.loc[:,'usosmultiples'].value_counts()"
   ]
  },
  {
   "cell_type": "markdown",
   "metadata": {},
   "source": [
    "se analiza cuales son las provincias que tienen la mayor cantidad de propiedades con uso múltiple"
   ]
  },
  {
   "cell_type": "code",
   "execution_count": null,
   "metadata": {},
   "outputs": [],
   "source": [
    "#provincias que más propiedades con usos multiples tiene\n",
    "provincias_mas_usosmultiples=df.groupby('provincia')\n",
    "dicc_provincias_usosmultiples={}\n",
    "dicc_provincias_sinusosmultiples={}\n",
    "\n",
    "for provincia, fila in provincias_mas_usosmultiples:\n",
    "    dicc_provincias_usosmultiples[provincia]=0\n",
    "    dicc_provincias_sinusosmultiples[provincia]=0\n",
    "    for tieneusosmultiples in fila.loc[:,'usosmultiples']:\n",
    "        if tieneusosmultiples==0.00:\n",
    "            dicc_provincias_sinusosmultiples[provincia]+=1\n",
    "        else:\n",
    "            dicc_provincias_usosmultiples[provincia]+=1\n",
    "#esto es para mostrar la informacion\n",
    "df_usosmultiples_porprovincia=pd.DataFrame(list(dicc_provincias_usosmultiples.items()))\n",
    "df_usosmultiples_porprovincia.columns=['Provincia','propiedades con usos multiples']\n",
    "df_usosmultiples_porprovincia=df_usosmultiples_porprovincia.sort_values('propiedades con usos multiples',ascending=False)\n",
    "\n",
    "df_usosmultiples_porprovincia.head(5)"
   ]
  },
  {
   "cell_type": "markdown",
   "metadata": {},
   "source": [
    "Vemos cuáles son las provincias que menos propiedades con usos múltiples tienen"
   ]
  },
  {
   "cell_type": "code",
   "execution_count": null,
   "metadata": {},
   "outputs": [],
   "source": [
    "df_usosmultiples_porprovincia.tail(5)"
   ]
  },
  {
   "cell_type": "markdown",
   "metadata": {},
   "source": [
    "De la misma manera vemos cuáles son las provincias que poseen la mayor cantidad de propiedades sin usos múltiples\n"
   ]
  },
  {
   "cell_type": "code",
   "execution_count": null,
   "metadata": {},
   "outputs": [],
   "source": [
    "df_sinusosmultiples_porprovincia=pd.DataFrame(list(dicc_provincias_sinusosmultiples.items()))\n",
    "df_sinusosmultiples_porprovincia.columns=['Provincia','propiedades sin usos multiples']\n",
    "df_sinusosmultiples_porprovincia=df_sinusosmultiples_porprovincia.sort_values('propiedades sin usos multiples',ascending=False)\n",
    "df_sinusosmultiples_porprovincia.head(5)"
   ]
  },
  {
   "cell_type": "markdown",
   "metadata": {},
   "source": [
    "Las provincias con menor cantidad de propiedades sin usos múltiples son:"
   ]
  },
  {
   "cell_type": "code",
   "execution_count": null,
   "metadata": {},
   "outputs": [],
   "source": [
    "df_sinusosmultiples_porprovincia.tail(5)"
   ]
  },
  {
   "cell_type": "code",
   "execution_count": null,
   "metadata": {},
   "outputs": [],
   "source": []
  },
  {
   "cell_type": "code",
   "execution_count": null,
   "metadata": {},
   "outputs": [],
   "source": []
  },
  {
   "cell_type": "code",
   "execution_count": null,
   "metadata": {},
   "outputs": [],
   "source": []
  },
  {
   "cell_type": "code",
   "execution_count": null,
   "metadata": {},
   "outputs": [],
   "source": [
    "***************************HASTA ACA LLEGUÉ****************************************"
   ]
  },
  {
   "cell_type": "code",
   "execution_count": null,
   "metadata": {},
   "outputs": [],
   "source": [
    "df_garages=df.groupby(['provincia','habitaciones','garages']).agg({'precio':'mean'})\n",
    "#esta hecha asi, a mano, porque no hay una implementacion para hacer join con multiindices\n",
    "\n",
    "indicesProvincias=df_garages.index.get_level_values(0)\n",
    "dicc={}\n",
    "\n",
    "for provincia in indicesProvincias:\n",
    "    df_garages_habitaciones=df_garages.loc[provincia]\n",
    "    indicesHabitaciones=df_garages_habitaciones.index.get_level_values(0)\n",
    "    for habitaciones in indicesHabitaciones:\n",
    "        df_garages_garages=df_garages_habitaciones.loc[habitaciones]\n",
    "        indicesGarages=df_garages_garages.index.values\n",
    "        lista_precios=[]\n",
    "        lista_indices_garages=[]\n",
    "        for garages in indicesGarages:\n",
    "            lista_precios.append(df_garages_garages.loc[garages])\n",
    "            lista_indices_garages.append(garages)\n",
    "        cantidadDeGarages=len(lista_precios)\n",
    "        \n",
    "        if cantidadDeGarages==1:\n",
    "            dicc[(provincia,habitaciones,lista_indices_garages[0])]=0\n",
    "        else:\n",
    "            valorBase=float(lista_precios[0])\n",
    "                                         #este va a ser el valor que uso para comparar. Por como esta ordenado el df\n",
    "                                         #va a ser el valor correspondiente a la menor cantidad de garages en la combinacion\n",
    "                                         #provincia,habitacion\n",
    "            for x in range(1,cantidadDeGarages):\n",
    "                valorAComparar=float(lista_precios[x])\n",
    "                diferencia=float(abs(valorAComparar-valorBase))\n",
    "                porcentajeVariacion=round(float((diferencia/valorBase)*100),2)\n",
    "                dicc[(provincia,habitaciones,lista_indices_garages[x])]=porcentajeVariacion\n"
   ]
  },
  {
   "cell_type": "code",
   "execution_count": null,
   "metadata": {},
   "outputs": [],
   "source": [
    "lista_cant_garages=list(df_muestra.loc[:,'garages'].value_counts().index)\n",
    "lista_cant_garages.sort()\n",
    "\n",
    "listaPromedios=[]\n",
    "\n",
    "for x in range(0,len(lista_cant_garages)):\n",
    "    serieAuxiliar=df_muestra[df_muestra.loc[:,'garages']==lista_cant_garages[x]]\n",
    "    serieAuxiliar=serieAuxiliar.loc[:,'Variación del precio por garage en %']\n",
    "    promedio=round(float(serieAuxiliar.apply('mean')))\n",
    "    listaPromedios.append((lista_cant_garages[x],promedio))\n",
    "\n",
    "df_resultado=pd.DataFrame(listaPromedios)\n",
    "df_resultado.columns=['cantidad de garages','Variacion del precio por garage en %']\n",
    "df_resultado"
   ]
  },
  {
   "cell_type": "code",
   "execution_count": null,
   "metadata": {},
   "outputs": [],
   "source": [
    "df_muestra=pd.DataFrame(list(dicc.items()))\n",
    "df_muestra.columns=['Provincia,habitaciones,garages','Variación del precio por garage en %']\n",
    "df_muestra=df_muestra[df_muestra.loc[:,'Variación del precio por garage en %']!=0]\n",
    "\n",
    "lista1=[]\n",
    "lista2=[]\n",
    "lista3=[]\n",
    "lista4=[]\n",
    "for provincia,habitaciones,garages in df_muestra.loc[:,'Provincia,habitaciones,garages']:\n",
    "    lista1.append(provincia)\n",
    "    lista2.append(habitaciones)\n",
    "    lista3.append(garages)\n",
    "for variacion in df_muestra.loc[:,'Variación del precio por garage en %']:\n",
    "    lista4.append(variacion)\n",
    "df_muestra=pd.DataFrame(list(zip(lista1,lista2,lista3,lista4)),columns=['Provincia','habitaciones','garages','Variación del precio por garage en %'])\n",
    "\n",
    "df_muestra"
   ]
  },
  {
   "cell_type": "code",
   "execution_count": null,
   "metadata": {},
   "outputs": [],
   "source": [
    "#aca se podria hacer una recta como gráfico. Hay 3 puntos que representan la variacion del precio de la propiedad \n",
    "#segun la cantidad de garages que posean comparado con una propiedad con caracteristicas similares pero sin garage\n",
    "df_resultado.loc[3] = [0,0]\n",
    "aux = df_resultado.set_index(\"cantidad de garages\").sort_index()\n",
    "aux.plot(kind = 'line', figsize = (10, 5), marker = 'o',color=\"green\""
   ]
  },
  {
   "cell_type": "code",
   "execution_count": null,
   "metadata": {},
   "outputs": [],
   "source": [
    "df.nlargest(5, ['precio','metrostotales'])\n",
    "#Curiosamente las 5 más caras pertenecen al distrito federal, con razón es la más cara\n"
   ]
  },
  {
   "cell_type": "markdown",
   "metadata": {},
   "source": [
    "Veamos las 5 propiedades más caras y con más metros "
   ]
  },
  {
   "cell_type": "code",
   "execution_count": null,
   "metadata": {},
   "outputs": [],
   "source": [
    "#ciudades = df['ciudad']\n",
    "#ciudades.value_counts()"
   ]
  },
  {
   "cell_type": "code",
   "execution_count": null,
   "metadata": {},
   "outputs": [],
   "source": [
    "df.isnull().sum()\n",
    "df.dropna(subset=['titulo','descripcion','tipodepropiedad','direccion','ciudad','provincia','antiguedad','habitaciones','garages','banos','metroscubiertos','metrostotales','idzona','lat','lng'])\\\n",
    ".isnull().sum() #elimino los nulos, habiamos discutido si lo hacemos o no"
   ]
  },
  {
   "cell_type": "code",
   "execution_count": null,
   "metadata": {},
   "outputs": [],
   "source": []
  },
  {
   "cell_type": "code",
   "execution_count": null,
   "metadata": {},
   "outputs": [],
   "source": [
    "df.memory_usage() #deriamos castear datos para que ocupen menos espacio"
   ]
  },
  {
   "cell_type": "code",
   "execution_count": null,
   "metadata": {},
   "outputs": [],
   "source": [
    "#df.astype({'gimnasio': 'category','usosmultiples': 'category','piscina': 'category','escuelascercanas': 'int32','centroscomercialescercanos': 'int32'}).dtypes\n"
   ]
  },
  {
   "cell_type": "code",
   "execution_count": null,
   "metadata": {},
   "outputs": [],
   "source": [
    "#df.dtypes"
   ]
  },
  {
   "cell_type": "code",
   "execution_count": null,
   "metadata": {},
   "outputs": [],
   "source": [
    "df.info()\n",
    "#deberiamos castear datos"
   ]
  },
  {
   "cell_type": "code",
   "execution_count": null,
   "metadata": {},
   "outputs": [],
   "source": [
    "(df.memory_usage()/(1024*1024)).sum()"
   ]
  },
  {
   "cell_type": "code",
   "execution_count": null,
   "metadata": {},
   "outputs": [],
   "source": [
    "df.describe()"
   ]
  },
  {
   "cell_type": "code",
   "execution_count": null,
   "metadata": {},
   "outputs": [],
   "source": []
  },
  {
   "cell_type": "code",
   "execution_count": null,
   "metadata": {},
   "outputs": [],
   "source": []
  },
  {
   "cell_type": "code",
   "execution_count": null,
   "metadata": {},
   "outputs": [],
   "source": [
    "#df.plot.bar('habitaciones','precio') congela la computadora\n",
    "\n",
    "\n",
    "#Hacer grafico\n",
    "\n",
    "\n",
    "#print(f\"Total tipos de propiedad: {df.tipodepropiedad.nunique()}\")\n",
    "#df.tipodepropiedad.value_counts().plot(kind='bar', figsize=(15, 5), rot=70,mtitle=\"Cantidad de propiedades por tipo de propiedad\");"
   ]
  },
  {
   "cell_type": "code",
   "execution_count": null,
   "metadata": {},
   "outputs": [],
   "source": []
  },
  {
   "cell_type": "code",
   "execution_count": null,
   "metadata": {},
   "outputs": [],
   "source": [
    "df.groupby('precio').agg({'antiguedad':'sum'})\n",
    "#no sirve para nada ojo!!!!\n",
    "#el primero elemento tiene 1400 años de antiguedad, raro"
   ]
  },
  {
   "cell_type": "code",
   "execution_count": null,
   "metadata": {},
   "outputs": [],
   "source": [
    "df3 = df.loc[df.antiguedad > 100.00]\n",
    "#40233830\n",
    "df3.head() #arriba aparece pero aca no, doble raro"
   ]
  },
  {
   "cell_type": "code",
   "execution_count": null,
   "metadata": {},
   "outputs": [],
   "source": []
  },
  {
   "cell_type": "code",
   "execution_count": null,
   "metadata": {},
   "outputs": [],
   "source": [
    "# agrupando usando multiples columnas\n",
    "grouped = df.groupby(['provincia','ciudad'])\\\n",
    "    .agg({'habitaciones':['mean','sum'],'precio':'mean', 'antiguedad':'mean'}) #poner parametros mas\n",
    "                                                            #interesantes que habitaciones y antiguedad\n",
    "grouped"
   ]
  },
  {
   "cell_type": "code",
   "execution_count": null,
   "metadata": {},
   "outputs": [],
   "source": [
    "df2 = df.loc[df.tipodepropiedad == 'Apartamento']\n",
    "df2.info()"
   ]
  },
  {
   "cell_type": "code",
   "execution_count": null,
   "metadata": {},
   "outputs": [],
   "source": [
    "df2.shape"
   ]
  },
  {
   "cell_type": "code",
   "execution_count": null,
   "metadata": {},
   "outputs": [],
   "source": [
    "#relacion entre latitud y longitud con el precio"
   ]
  },
  {
   "cell_type": "code",
   "execution_count": null,
   "metadata": {},
   "outputs": [],
   "source": [
    "#comparacion entre el precio de las casas y los departamentos"
   ]
  },
  {
   "cell_type": "code",
   "execution_count": null,
   "metadata": {},
   "outputs": [],
   "source": [
    "#"
   ]
  },
  {
   "cell_type": "code",
   "execution_count": null,
   "metadata": {},
   "outputs": [],
   "source": []
  },
  {
   "cell_type": "code",
   "execution_count": null,
   "metadata": {},
   "outputs": [],
   "source": [
    "# analicemos distribución de avisos por tipo de trabajo\n",
    "workday_announcements = sns.countplot(x='tipodepropiedad', data=df, order=df['tipodepropiedad'].value_counts().index, orient='v')\n",
    "workday_announcements.set_xticklabels(workday_announcements.get_xticklabels(),rotation=45)\n",
    "workday_announcements.set_xlabel(\"Tipo de propiedades\", fontsize=20)\n",
    "workday_announcements.set_ylabel(\"Cantidad de Propiedades\", fontsize=20)\n",
    "workday_announcements.set_title(\"Cantidad de propiedades segun su clase\", fontsize=20)\n",
    "\n",
    "#Es un buen comienzo(?)"
   ]
  },
  {
   "cell_type": "code",
   "execution_count": null,
   "metadata": {},
   "outputs": [],
   "source": []
  },
  {
   "cell_type": "code",
   "execution_count": null,
   "metadata": {},
   "outputs": [],
   "source": []
  },
  {
   "cell_type": "code",
   "execution_count": null,
   "metadata": {},
   "outputs": [],
   "source": [
    "# analicemos distribución de avisos por seniority\n",
    "\n",
    "#seniority_types = sns.countplot(x='ciudad', data=df, order=df['ciudad'].value_counts().index, orient='v')\n",
    "#seniority_types.set_xticklabels(seniority_types.get_xticklabels(),rotation=45)\n",
    "#seniority_types.set_xlabel(\"Ciudades\", fontsize=20)\n",
    "#seniority_types.set_ylabel(\"Cantidad de propiedades por ciudad\", fontsize=20)\n",
    "#seniority_types.set_title(\"Propiedades por ciudad\", fontsize=20)\n",
    "\n",
    "#Horrible"
   ]
  },
  {
   "cell_type": "code",
   "execution_count": null,
   "metadata": {},
   "outputs": [],
   "source": []
  },
  {
   "cell_type": "code",
   "execution_count": null,
   "metadata": {},
   "outputs": [],
   "source": [
    "# Correlacion entre precio y metros cubiertos: descripción gráfica\n",
    "column = 'metroscubiertos'\n",
    "\n",
    "# Scatter plot\n",
    "df_sample = df.sample(frac=0.05).copy().dropna().sort_values(column)\n",
    "df_sample.plot.scatter(x=column, y='precio', figsize=(15, 5), title=\"Correlación entre metros cubiertos y precio\")\n",
    "plt.ticklabel_format(style = 'plain')\n",
    "\n",
    "# Best-fit lineal\n",
    "x = df_sample[column]\n",
    "y = df_sample['precio']\n",
    "f = np.poly1d(np.polyfit(x, y, deg=1))  \n",
    "plt.plot(x.unique(), f(x.unique()), c='r', linewidth=4);\n"
   ]
  },
  {
   "cell_type": "code",
   "execution_count": null,
   "metadata": {},
   "outputs": [],
   "source": []
  },
  {
   "cell_type": "code",
   "execution_count": null,
   "metadata": {},
   "outputs": [],
   "source": [
    "# comparacion de dos (o mas) campos con elementos faltantes\n",
    "#funciones a usar:\n",
    "\n",
    "\n",
    "#funcion para conseguir los numeros de las filas que tienen el campo especificado en la columna con un NaN\n",
    "#devuelve una lista con las posiciones\n",
    "#para que funcione bien, tiene que usar la clave por default del dataFrame. si se usa una clave compuesta\n",
    "#o una clave que no sea enteros crecientes falla\n",
    "\n",
    "def obtener_filas_con_Nan(df, nombreColumna):\n",
    "    serie=df.loc[:,nombreColumna]\n",
    "    serie=serie.isnull()\n",
    "    lista_posiciones_nulas=[]\n",
    "    contador=0\n",
    "    for booleano in serie:\n",
    "        if booleano is True:\n",
    "            lista_posiciones_nulas.append(contador)\n",
    "        contador+=1\n",
    "    return lista_posiciones_nulas\n",
    "\n",
    "\n",
    "def concatenarListasSinDuplicados(lista1,lista2):\n",
    "    dicc={}\n",
    "    for item in lista1:\n",
    "        dicc[item]=1\n",
    "    for item in lista2:\n",
    "        dicc[item]=1\n",
    "    return dicc.keys()"
   ]
  },
  {
   "cell_type": "code",
   "execution_count": null,
   "metadata": {},
   "outputs": [],
   "source": [
    "lista_id_faltantes=obtener_filas_con_Nan(df,'id')\n",
    "print(lista_id_faltantes)"
   ]
  },
  {
   "cell_type": "markdown",
   "metadata": {},
   "source": [
    "###  analisis de usos multiples\n",
    "\n",
    "\n",
    "\n",
    "\n",
    "\n"
   ]
  },
  {
   "cell_type": "markdown",
   "metadata": {},
   "source": [
    "se analiza cuales valores puede tomar, y cuántos hay de cada uno"
   ]
  },
  {
   "cell_type": "code",
   "execution_count": null,
   "metadata": {},
   "outputs": [],
   "source": [
    "df.loc[:,'usosmultiples'].value_counts()"
   ]
  },
  {
   "cell_type": "markdown",
   "metadata": {},
   "source": [
    "se analiza cuales son las provincias que tienen la mayor cantidad de propiedades con uso múltiple"
   ]
  },
  {
   "cell_type": "code",
   "execution_count": null,
   "metadata": {},
   "outputs": [],
   "source": [
    "#provincias que más propiedades con usos multiples tiene\n",
    "provincias_mas_usosmultiples=df.groupby('provincia')\n",
    "dicc_provincias_usosmultiples={}\n",
    "dicc_provincias_sinusosmultiples={}\n",
    "\n",
    "for provincia, fila in provincias_mas_usosmultiples:\n",
    "    dicc_provincias_usosmultiples[provincia]=0\n",
    "    dicc_provincias_sinusosmultiples[provincia]=0\n",
    "    for tieneusosmultiples in fila.loc[:,'usosmultiples']:\n",
    "        if tieneusosmultiples==0.00:\n",
    "            dicc_provincias_sinusosmultiples[provincia]+=1\n",
    "        else:\n",
    "            dicc_provincias_usosmultiples[provincia]+=1\n",
    "#esto es para mostrar la informacion\n",
    "df_usosmultiples_porprovincia=pd.DataFrame(list(dicc_provincias_usosmultiples.items()))\n",
    "df_usosmultiples_porprovincia.columns=['Provincia','propiedades con usos multiples']\n",
    "df_usosmultiples_porprovincia=df_usosmultiples_porprovincia.sort_values('propiedades con usos multiples',ascending=False)\n",
    "\n",
    "df_usosmultiples_porprovincia.head(5)"
   ]
  },
  {
   "cell_type": "markdown",
   "metadata": {},
   "source": [
    "Vemos cuáles son las provincias que menos propiedades con usos múltiples tienen"
   ]
  },
  {
   "cell_type": "code",
   "execution_count": null,
   "metadata": {},
   "outputs": [],
   "source": [
    "df_usosmultiples_porprovincia.tail(5)"
   ]
  },
  {
   "cell_type": "markdown",
   "metadata": {},
   "source": [
    "De la misma manera vemos cuáles son las provincias que poseen la mayor cantidad de propiedades sin usos múltiples\n"
   ]
  },
  {
   "cell_type": "code",
   "execution_count": null,
   "metadata": {},
   "outputs": [],
   "source": [
    "df_sinusosmultiples_porprovincia=pd.DataFrame(list(dicc_provincias_sinusosmultiples.items()))\n",
    "df_sinusosmultiples_porprovincia.columns=['Provincia','propiedades sin usos multiples']\n",
    "df_sinusosmultiples_porprovincia=df_sinusosmultiples_porprovincia.sort_values('propiedades sin usos multiples',ascending=False)\n",
    "df_sinusosmultiples_porprovincia.head(5)"
   ]
  },
  {
   "cell_type": "markdown",
   "metadata": {},
   "source": [
    "Las provincias con menor cantidad de propiedades sin usos múltiples son:"
   ]
  },
  {
   "cell_type": "code",
   "execution_count": null,
   "metadata": {},
   "outputs": [],
   "source": [
    "df_sinusosmultiples_porprovincia.tail(5)"
   ]
  },
  {
   "cell_type": "markdown",
   "metadata": {},
   "source": [
    "## habiendo analizado la data, vemos como afecta la misma al precio de las propiedades"
   ]
  },
  {
   "cell_type": "markdown",
   "metadata": {},
   "source": [
    "análisis de la variacion de precios en base a si la propiedad tiene o no usos multiples\n"
   ]
  },
  {
   "cell_type": "code",
   "execution_count": null,
   "metadata": {},
   "outputs": [],
   "source": [
    "#comparación de los precios de las propiedades básados exclusivamente en si la propiedad tiene o no usos multiples\n",
    "df_usosmultiples=df.groupby('usosmultiples').agg({'precio':['max','min','mean']})\n",
    "df_usosmultiples.columns=['precio máximo','precio mínimo','precio promedio']\n",
    "df_usosmultiples"
   ]
  },
  {
   "cell_type": "code",
   "execution_count": null,
   "metadata": {},
   "outputs": [],
   "source": [
    "#comparacion de los precios promedios de propiedades con y sin usos múltiples, basado en la provincia\n",
    "df_precio_usosmultiples_provincia=df.groupby(['usosmultiples','provincia']).agg({'precio':'mean'})\n",
    "df_precio_usosmultiples_provincia.columns=['precio promedio']\n",
    "df_precio_usosmultiples_provincia\n",
    "#ahora falta plotear un grafico con estos valores"
   ]
  },
  {
   "cell_type": "markdown",
   "metadata": {},
   "source": [
    "### Quiero ver cuáles son las provincias que tienen mayor precio para propiedades sin usos multiples"
   ]
  },
  {
   "cell_type": "code",
   "execution_count": null,
   "metadata": {},
   "outputs": [],
   "source": [
    "provinciasMasCarasSinUsosMultiples=df_precio_usosmultiples_provincia.loc[0.0]\n",
    "provinciasMasCarasSinUsosMultiples=provinciasMasCarasSinUsosMultiples.sort_values('precio promedio',ascending=False)\n",
    "provinciasMasCarasSinUsosMultiples.columns=['precio promedio propiedad sin usos multiples']\n",
    "provinciasMasCarasSinUsosMultiples.head(5)"
   ]
  },
  {
   "cell_type": "markdown",
   "metadata": {},
   "source": [
    "### Quiero ver cuáles son las provincias que tienen menor precio para propiedades sin usos mutiples"
   ]
  },
  {
   "cell_type": "code",
   "execution_count": null,
   "metadata": {},
   "outputs": [],
   "source": [
    "provinciasMasCarasSinUsosMultiples.tail(5)"
   ]
  },
  {
   "cell_type": "markdown",
   "metadata": {},
   "source": [
    "### Queremos ver cuáles son las provincias que tienen mayor precio para propiedades con usos múltiples"
   ]
  },
  {
   "cell_type": "code",
   "execution_count": null,
   "metadata": {},
   "outputs": [],
   "source": [
    "provinciasMasCarasConUsosMutiples=df_precio_usosmultiples_provincia.loc[1.00]\n",
    "provinciasMasCarasConUsosMutiples=provinciasMasCarasConUsosMutiples.sort_values('precio promedio',ascending=False)\n",
    "provinciasMasCarasConUsosMutiples.head(5)"
   ]
  },
  {
   "cell_type": "markdown",
   "metadata": {},
   "source": [
    "### Queremos ver cuáles son las provincias que tienen menor precio para propiedades con usos múltiples\n"
   ]
  },
  {
   "cell_type": "code",
   "execution_count": null,
   "metadata": {},
   "outputs": [],
   "source": [
    "provinciasMasCarasConUsosMutiples.tail(5)"
   ]
  },
  {
   "cell_type": "markdown",
   "metadata": {},
   "source": [
    "### Efecto de usos multiples sobre el precio de propiedades de características similares"
   ]
  },
  {
   "cell_type": "markdown",
   "metadata": {},
   "source": [
    "Queremos ver el efecto de si la propiedad tiene usos multiples en comparación con su precio, para propiedades de características similares. Para ello, se fija la propiedad y la cantidad de habitaciones, y se compara el promedio de los valores de ambos grupos (con uso multiple y sin uso multiple). Puede ocurrir que para alguna combinación de cantidad de habitaciones con ubicación, no se dispongan de datos suficientes para realizar la comparación. En tal caso la información obtenida reflejará esta situación, mostrando una variación del 0%\n"
   ]
  },
  {
   "cell_type": "code",
   "execution_count": null,
   "metadata": {},
   "outputs": [],
   "source": [
    "df_variacion_precio_usos=df.groupby(['provincia','habitaciones','usosmultiples']).agg({'precio':'mean'})\n",
    "df_variacion_precio_usos.index\n",
    "indices_provincia=df_variacion_precio_usos.index.get_level_values(0)\n",
    "\n",
    "#lo siguiente lo hice a mano, porque no esta implementada una forma de hacer join con multiindices en pandas\n",
    "\n",
    "dicc={}\n",
    "\n",
    "#consigo todas las provincias que se tienen que recorrer\n",
    "indicesProvincias=df_variacion_precio_usos.index.get_level_values(0)\n",
    "#recorro las provincias\n",
    "for provincia in indicesProvincias:\n",
    "    serieDentroDeProvincia=df_variacion_precio_usos.loc[provincia]\n",
    "    indices_habitaciones=serieDentroDeProvincia.index.get_level_values(0)\n",
    "    #recorro las habitaciones dentro de un grupo provincia específico\n",
    "    for habitaciones in indices_habitaciones:\n",
    "        serieDentroDeHabitaciones=serieDentroDeProvincia.loc[habitaciones]\n",
    "        indices_usosMultiples=serieDentroDeHabitaciones.index.values\n",
    "        lista_precios=[]\n",
    "        for usosMultiples in indices_usosMultiples:\n",
    "            lista_precios.append(serieDentroDeHabitaciones.loc[usosMultiples])\n",
    "            \n",
    "        #ahora que tengo todos los precios comparo \n",
    "        #si la longitud de la lista es igual a 1, significa que solamente habia un solo dato\n",
    "        #para esas características\n",
    "        \n",
    "        if len(lista_precios)==1:\n",
    "            dicc[(provincia,habitaciones)]=0\n",
    "        else:\n",
    "            #la comparación se hace respecto al precio sin uso multiple\n",
    "            precioSinUso=float(lista_precios[0])\n",
    "            precioConUso=float(lista_precios[1])\n",
    "            diferencia=float(abs(precioSinUso-precioConUso))\n",
    "            porcentajeVariacion=round(((diferencia/precioSinUso)*100),2)\n",
    "            dicc[(provincia,habitaciones)]=porcentajeVariacion\n",
    "\n",
    "            \n",
    "#y ahora queda mostrar la info:\n",
    "df_muestra=pd.DataFrame(list(dicc.items()))\n",
    "df_muestra"
   ]
  },
  {
   "cell_type": "code",
   "execution_count": null,
   "metadata": {},
   "outputs": [],
   "source": []
  },
  {
   "cell_type": "markdown",
   "metadata": {},
   "source": [
    "Nos falta hacer:\n",
    "Analisis precios por banios\n",
    "Analisi precios por latitud y longitud (por ahi ultimo recurso)\n",
    "Analisis de la cercania a escuelas/shoppings por cada provincia, ciudad\n",
    "Comparacion de antiguedades para propiedades con las mismas caracteristicas\n",
    "\n",
    "\n",
    "Analisis de datos:\n",
    "-> por fecha de postulacion\n",
    "-> por fechas \n",
    "\n",
    "-> por gimnasio\n",
    "-> por ciudades\n",
    "Faltan graficos de anàlisis anteriores\n"
   ]
  },
  {
   "cell_type": "code",
   "execution_count": null,
   "metadata": {},
   "outputs": [],
   "source": []
  }
 ],
 "metadata": {
  "kernelspec": {
   "display_name": "Python 3",
   "language": "python",
   "name": "python3"
  },
  "language_info": {
   "codemirror_mode": {
    "name": "ipython",
    "version": 2
   },
   "file_extension": ".py",
   "mimetype": "text/x-python",
   "name": "python",
   "nbconvert_exporter": "python",
   "pygments_lexer": "ipython2",
   "version": "2.7.15+"
  }
 },
 "nbformat": 4,
 "nbformat_minor": 4
}
